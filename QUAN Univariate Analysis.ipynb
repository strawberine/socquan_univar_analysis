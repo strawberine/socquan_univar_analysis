{
 "cells": [
  {
   "cell_type": "code",
   "execution_count": 129,
   "id": "5977798e-c3f1-4a31-afd7-ee1a210b52f8",
   "metadata": {
    "tags": []
   },
   "outputs": [],
   "source": [
    "import pandas as pd\n",
    "import numpy as np\n",
    "import statistics as stat\n",
    "import matplotlib.pyplot as plt\n",
    "import seaborn as sb\n",
    "import collections"
   ]
  },
  {
   "cell_type": "code",
   "execution_count": 130,
   "id": "97c1966d-c414-4b57-8cf8-acb616a3b1f9",
   "metadata": {
    "tags": []
   },
   "outputs": [
    {
     "data": {
      "text/html": [
       "<div>\n",
       "<style scoped>\n",
       "    .dataframe tbody tr th:only-of-type {\n",
       "        vertical-align: middle;\n",
       "    }\n",
       "\n",
       "    .dataframe tbody tr th {\n",
       "        vertical-align: top;\n",
       "    }\n",
       "\n",
       "    .dataframe thead th {\n",
       "        text-align: right;\n",
       "    }\n",
       "</style>\n",
       "<table border=\"1\" class=\"dataframe\">\n",
       "  <thead>\n",
       "    <tr style=\"text-align: right;\">\n",
       "      <th></th>\n",
       "      <th>PARTIPID</th>\n",
       "      <th>AGE</th>\n",
       "      <th>YEARLEV</th>\n",
       "      <th>SEX</th>\n",
       "      <th>COLLEGE</th>\n",
       "      <th>LIVSIT</th>\n",
       "      <th>RESTYPE</th>\n",
       "      <th>BIRTORD</th>\n",
       "      <th>SIBNO</th>\n",
       "      <th>PARSTAT</th>\n",
       "      <th>...</th>\n",
       "      <th>FENERGY</th>\n",
       "      <th>FEEPROB</th>\n",
       "      <th>FECLEAR</th>\n",
       "      <th>FEGOOD</th>\n",
       "      <th>FECLOSE</th>\n",
       "      <th>FECONFI</th>\n",
       "      <th>FEMKEUP</th>\n",
       "      <th>FELOVED</th>\n",
       "      <th>FENWTHG</th>\n",
       "      <th>FECHEER</th>\n",
       "    </tr>\n",
       "  </thead>\n",
       "  <tbody>\n",
       "    <tr>\n",
       "      <th>0</th>\n",
       "      <td>1.0</td>\n",
       "      <td>21</td>\n",
       "      <td>121.0</td>\n",
       "      <td>Male</td>\n",
       "      <td>CLA</td>\n",
       "      <td>Alone</td>\n",
       "      <td>Dorm, Condo, Apartment</td>\n",
       "      <td>Youngest</td>\n",
       "      <td>2.0</td>\n",
       "      <td>Married</td>\n",
       "      <td>...</td>\n",
       "      <td>All of the Time</td>\n",
       "      <td>Often</td>\n",
       "      <td>All of the Time</td>\n",
       "      <td>All of the Time</td>\n",
       "      <td>All of the Time</td>\n",
       "      <td>All of the Time</td>\n",
       "      <td>All of the Time</td>\n",
       "      <td>All of the Time</td>\n",
       "      <td>All of the Time</td>\n",
       "      <td>All of the Time</td>\n",
       "    </tr>\n",
       "    <tr>\n",
       "      <th>1</th>\n",
       "      <td>2.0</td>\n",
       "      <td>20</td>\n",
       "      <td>121.0</td>\n",
       "      <td>Female</td>\n",
       "      <td>CLA</td>\n",
       "      <td>With Family</td>\n",
       "      <td>House</td>\n",
       "      <td>Eldest</td>\n",
       "      <td>0.0</td>\n",
       "      <td>Married</td>\n",
       "      <td>...</td>\n",
       "      <td>Some of the time</td>\n",
       "      <td>Some of the time</td>\n",
       "      <td>Some of the time</td>\n",
       "      <td>Some of the time</td>\n",
       "      <td>All of the Time</td>\n",
       "      <td>Some of the time</td>\n",
       "      <td>Some of the time</td>\n",
       "      <td>Often</td>\n",
       "      <td>Some of the time</td>\n",
       "      <td>Some of the time</td>\n",
       "    </tr>\n",
       "    <tr>\n",
       "      <th>2</th>\n",
       "      <td>3.0</td>\n",
       "      <td>19</td>\n",
       "      <td>123.0</td>\n",
       "      <td>Female</td>\n",
       "      <td>CLA</td>\n",
       "      <td>Alone</td>\n",
       "      <td>Dorm, Condo, Apartment</td>\n",
       "      <td>Only Child</td>\n",
       "      <td>0.0</td>\n",
       "      <td>Married</td>\n",
       "      <td>...</td>\n",
       "      <td>Some of the time</td>\n",
       "      <td>Some of the time</td>\n",
       "      <td>Some of the time</td>\n",
       "      <td>Some of the time</td>\n",
       "      <td>Often</td>\n",
       "      <td>Some of the time</td>\n",
       "      <td>Often</td>\n",
       "      <td>All of the Time</td>\n",
       "      <td>Often</td>\n",
       "      <td>Often</td>\n",
       "    </tr>\n",
       "    <tr>\n",
       "      <th>3</th>\n",
       "      <td>4.0</td>\n",
       "      <td>20</td>\n",
       "      <td>122.0</td>\n",
       "      <td>Female</td>\n",
       "      <td>CLA</td>\n",
       "      <td>With Family</td>\n",
       "      <td>House</td>\n",
       "      <td>Eldest</td>\n",
       "      <td>1.0</td>\n",
       "      <td>Married</td>\n",
       "      <td>...</td>\n",
       "      <td>Rarely</td>\n",
       "      <td>Often</td>\n",
       "      <td>Some of the time</td>\n",
       "      <td>Some of the time</td>\n",
       "      <td>Some of the time</td>\n",
       "      <td>Some of the time</td>\n",
       "      <td>Often</td>\n",
       "      <td>Some of the time</td>\n",
       "      <td>Often</td>\n",
       "      <td>Rarely</td>\n",
       "    </tr>\n",
       "    <tr>\n",
       "      <th>4</th>\n",
       "      <td>5.0</td>\n",
       "      <td>20</td>\n",
       "      <td>121.0</td>\n",
       "      <td>Female</td>\n",
       "      <td>RVR-COB</td>\n",
       "      <td>With Family</td>\n",
       "      <td>Mixed</td>\n",
       "      <td>Middle</td>\n",
       "      <td>2.0</td>\n",
       "      <td>Married</td>\n",
       "      <td>...</td>\n",
       "      <td>Some of the time</td>\n",
       "      <td>Often</td>\n",
       "      <td>Often</td>\n",
       "      <td>Some of the time</td>\n",
       "      <td>Often</td>\n",
       "      <td>Some of the time</td>\n",
       "      <td>Often</td>\n",
       "      <td>Often</td>\n",
       "      <td>Often</td>\n",
       "      <td>Often</td>\n",
       "    </tr>\n",
       "    <tr>\n",
       "      <th>...</th>\n",
       "      <td>...</td>\n",
       "      <td>...</td>\n",
       "      <td>...</td>\n",
       "      <td>...</td>\n",
       "      <td>...</td>\n",
       "      <td>...</td>\n",
       "      <td>...</td>\n",
       "      <td>...</td>\n",
       "      <td>...</td>\n",
       "      <td>...</td>\n",
       "      <td>...</td>\n",
       "      <td>...</td>\n",
       "      <td>...</td>\n",
       "      <td>...</td>\n",
       "      <td>...</td>\n",
       "      <td>...</td>\n",
       "      <td>...</td>\n",
       "      <td>...</td>\n",
       "      <td>...</td>\n",
       "      <td>...</td>\n",
       "      <td>...</td>\n",
       "    </tr>\n",
       "    <tr>\n",
       "      <th>186</th>\n",
       "      <td>187.0</td>\n",
       "      <td>20</td>\n",
       "      <td>122.0</td>\n",
       "      <td>Male</td>\n",
       "      <td>RVR-COB</td>\n",
       "      <td>With Family</td>\n",
       "      <td>Dorm, Condo, Apartment</td>\n",
       "      <td>Only Child</td>\n",
       "      <td>NaN</td>\n",
       "      <td>Married</td>\n",
       "      <td>...</td>\n",
       "      <td>Often</td>\n",
       "      <td>Rarely</td>\n",
       "      <td>Some of the time</td>\n",
       "      <td>Some of the time</td>\n",
       "      <td>Often</td>\n",
       "      <td>Often</td>\n",
       "      <td>All of the time</td>\n",
       "      <td>Often</td>\n",
       "      <td>Often</td>\n",
       "      <td>Often</td>\n",
       "    </tr>\n",
       "    <tr>\n",
       "      <th>187</th>\n",
       "      <td>188.0</td>\n",
       "      <td>21</td>\n",
       "      <td>120.0</td>\n",
       "      <td>Female</td>\n",
       "      <td>CLA</td>\n",
       "      <td>With Family</td>\n",
       "      <td>Mixed</td>\n",
       "      <td>Only Child</td>\n",
       "      <td>NaN</td>\n",
       "      <td>Separated</td>\n",
       "      <td>...</td>\n",
       "      <td>Some of the time</td>\n",
       "      <td>Some of the time</td>\n",
       "      <td>Some of the time</td>\n",
       "      <td>Some of the time</td>\n",
       "      <td>Some of the time</td>\n",
       "      <td>Some of the time</td>\n",
       "      <td>Some of the time</td>\n",
       "      <td>Often</td>\n",
       "      <td>Some of the time</td>\n",
       "      <td>Some of the time</td>\n",
       "    </tr>\n",
       "    <tr>\n",
       "      <th>188</th>\n",
       "      <td>189.0</td>\n",
       "      <td>20</td>\n",
       "      <td>122.0</td>\n",
       "      <td>Male</td>\n",
       "      <td>GCOE</td>\n",
       "      <td>With Roommates</td>\n",
       "      <td>Dorm, Condo, Apartment</td>\n",
       "      <td>Eldest</td>\n",
       "      <td>1.0</td>\n",
       "      <td>Others</td>\n",
       "      <td>...</td>\n",
       "      <td>Some of the time</td>\n",
       "      <td>Some of the time</td>\n",
       "      <td>Often</td>\n",
       "      <td>Often</td>\n",
       "      <td>All of the time</td>\n",
       "      <td>All of the time</td>\n",
       "      <td>Often</td>\n",
       "      <td>All of the time</td>\n",
       "      <td>All of the time</td>\n",
       "      <td>All of the time</td>\n",
       "    </tr>\n",
       "    <tr>\n",
       "      <th>189</th>\n",
       "      <td>190.0</td>\n",
       "      <td>20</td>\n",
       "      <td>122.0</td>\n",
       "      <td>Male</td>\n",
       "      <td>CCS</td>\n",
       "      <td>With Family</td>\n",
       "      <td>House</td>\n",
       "      <td>Middle</td>\n",
       "      <td>3.0</td>\n",
       "      <td>Married</td>\n",
       "      <td>...</td>\n",
       "      <td>None of the time</td>\n",
       "      <td>Often</td>\n",
       "      <td>Some of the time</td>\n",
       "      <td>Often</td>\n",
       "      <td>All of the time</td>\n",
       "      <td>All of the time</td>\n",
       "      <td>All of the time</td>\n",
       "      <td>All of the time</td>\n",
       "      <td>All of the time</td>\n",
       "      <td>Some of the time</td>\n",
       "    </tr>\n",
       "    <tr>\n",
       "      <th>190</th>\n",
       "      <td>NaN</td>\n",
       "      <td>23</td>\n",
       "      <td>121.0</td>\n",
       "      <td>Male</td>\n",
       "      <td>CCS</td>\n",
       "      <td>With Family</td>\n",
       "      <td>House</td>\n",
       "      <td>Youngest</td>\n",
       "      <td>4.0</td>\n",
       "      <td>Separated</td>\n",
       "      <td>...</td>\n",
       "      <td>Rarely</td>\n",
       "      <td>Rarely</td>\n",
       "      <td>Rarely</td>\n",
       "      <td>All of the time</td>\n",
       "      <td>Often</td>\n",
       "      <td>Often</td>\n",
       "      <td>Often</td>\n",
       "      <td>Rarely</td>\n",
       "      <td>Often</td>\n",
       "      <td>Rarely</td>\n",
       "    </tr>\n",
       "  </tbody>\n",
       "</table>\n",
       "<p>191 rows × 91 columns</p>\n",
       "</div>"
      ],
      "text/plain": [
       "     PARTIPID  AGE  YEARLEV     SEX COLLEGE           LIVSIT  \\\n",
       "0         1.0   21    121.0    Male      CLA           Alone   \n",
       "1         2.0   20    121.0  Female      CLA     With Family   \n",
       "2         3.0   19    123.0  Female      CLA           Alone   \n",
       "3         4.0   20    122.0  Female      CLA     With Family   \n",
       "4         5.0   20    121.0  Female  RVR-COB     With Family   \n",
       "..        ...  ...      ...     ...      ...             ...   \n",
       "186     187.0   20    122.0    Male  RVR-COB     With Family   \n",
       "187     188.0   21    120.0  Female      CLA     With Family   \n",
       "188     189.0   20    122.0    Male     GCOE  With Roommates   \n",
       "189     190.0   20    122.0    Male      CCS     With Family   \n",
       "190       NaN   23    121.0    Male      CCS     With Family   \n",
       "\n",
       "                    RESTYPE     BIRTORD  SIBNO    PARSTAT  ...  \\\n",
       "0    Dorm, Condo, Apartment    Youngest    2.0    Married  ...   \n",
       "1                     House      Eldest    0.0    Married  ...   \n",
       "2    Dorm, Condo, Apartment  Only Child    0.0    Married  ...   \n",
       "3                     House      Eldest    1.0    Married  ...   \n",
       "4                     Mixed     Middle     2.0    Married  ...   \n",
       "..                      ...         ...    ...        ...  ...   \n",
       "186  Dorm, Condo, Apartment  Only Child    NaN    Married  ...   \n",
       "187                   Mixed  Only Child    NaN  Separated  ...   \n",
       "188  Dorm, Condo, Apartment      Eldest    1.0     Others  ...   \n",
       "189                   House      Middle    3.0    Married  ...   \n",
       "190                   House    Youngest    4.0  Separated  ...   \n",
       "\n",
       "              FENERGY           FEEPROB           FECLEAR            FEGOOD  \\\n",
       "0     All of the Time             Often   All of the Time   All of the Time   \n",
       "1    Some of the time  Some of the time  Some of the time  Some of the time   \n",
       "2    Some of the time  Some of the time  Some of the time  Some of the time   \n",
       "3              Rarely             Often  Some of the time  Some of the time   \n",
       "4    Some of the time             Often             Often  Some of the time   \n",
       "..                ...               ...               ...               ...   \n",
       "186             Often            Rarely  Some of the time  Some of the time   \n",
       "187  Some of the time  Some of the time  Some of the time  Some of the time   \n",
       "188  Some of the time  Some of the time             Often             Often   \n",
       "189  None of the time             Often  Some of the time             Often   \n",
       "190            Rarely            Rarely            Rarely   All of the time   \n",
       "\n",
       "              FECLOSE           FECONFI           FEMKEUP           FELOVED  \\\n",
       "0     All of the Time   All of the Time   All of the Time   All of the Time   \n",
       "1     All of the Time  Some of the time  Some of the time             Often   \n",
       "2               Often  Some of the time             Often   All of the Time   \n",
       "3    Some of the time  Some of the time             Often  Some of the time   \n",
       "4               Often  Some of the time             Often             Often   \n",
       "..                ...               ...               ...               ...   \n",
       "186             Often             Often   All of the time             Often   \n",
       "187  Some of the time  Some of the time  Some of the time             Often   \n",
       "188   All of the time   All of the time             Often   All of the time   \n",
       "189   All of the time   All of the time   All of the time   All of the time   \n",
       "190             Often             Often             Often            Rarely   \n",
       "\n",
       "              FENWTHG           FECHEER  \n",
       "0     All of the Time   All of the Time  \n",
       "1    Some of the time  Some of the time  \n",
       "2               Often             Often  \n",
       "3               Often            Rarely  \n",
       "4               Often             Often  \n",
       "..                ...               ...  \n",
       "186             Often             Often  \n",
       "187  Some of the time  Some of the time  \n",
       "188   All of the time   All of the time  \n",
       "189   All of the time  Some of the time  \n",
       "190             Often            Rarely  \n",
       "\n",
       "[191 rows x 91 columns]"
      ]
     },
     "execution_count": 130,
     "metadata": {},
     "output_type": "execute_result"
    }
   ],
   "source": [
    "quanraw = pd.read_excel('quan_raw.xlsx')\n",
    "quanraw"
   ]
  },
  {
   "cell_type": "code",
   "execution_count": 131,
   "id": "87ace3ab-a595-4e0d-bda8-1576f3f1054c",
   "metadata": {
    "tags": []
   },
   "outputs": [],
   "source": [
    "#Cleaning Data\n",
    "\n",
    "quanraw.replace(to_replace=\"Middle \",value=\"Middle\",inplace = True)\n",
    "quanraw['SIBNO'].fillna(0,inplace = True)\n",
    "quanraw.replace(to_replace=\"Php 131,484 - Php 219,140\",value=\"Php 131,483 - Php 219,140\",inplace = True)\n",
    "\n",
    "quanraw.replace(to_replace=\"2-4 hours\",value=\"2 - 4 hours\",inplace = True)\n",
    "quanraw.replace(to_replace=\"10-12 hours\",value=\"10 - 12 hours\",inplace = True)\n",
    "quanraw.replace(to_replace=\"12-14 hours\",value=\"12 - 14 hours\",inplace = True)\n",
    "quanraw.replace(to_replace=\"4-6 hours\",value=\"4 - 6 hours\",inplace = True)\n",
    "quanraw.replace(to_replace=\"6-8 hours\",value=\"6 - 8 hours\",inplace = True)\n",
    "quanraw.replace(to_replace=\"8-10 hours\",value=\"8 - 10 hours\",inplace = True)\n",
    "\n",
    "quanraw.to_csv('quan_fin.csv', index = False)"
   ]
  },
  {
   "cell_type": "code",
   "execution_count": 132,
   "id": "ac371c55-3bf9-44bf-a113-16152f5d3136",
   "metadata": {
    "tags": []
   },
   "outputs": [],
   "source": [
    "#Replacing Values Based on Questionnaires\n",
    "\n",
    "#For the Brief Family Relationship Scale until the Parent-Child Relationship Questionnaire\n",
    "quanraw.replace(to_replace=\"Strongly Agree\",value=0,inplace = True)\n",
    "quanraw.replace(to_replace=\"Strongly Disagree\",value=3,inplace = True)\n",
    "quanraw.replace(to_replace=\"Agree\",value=1,inplace = True)\n",
    "quanraw.replace(to_replace=\"Disagree\",value=2,inplace = True)\n",
    "\n",
    "#For the Warwick-Edinburgh Mental Well-Being Scale\n",
    "quanraw.replace(to_replace=\"None of the time\",value=1,inplace = True)\n",
    "quanraw.replace(to_replace=\"Rarely\",value=2,inplace = True)\n",
    "quanraw.replace(to_replace=\"Some of the time\",value=3,inplace = True)\n",
    "quanraw.replace(to_replace=\"Often\",value=4,inplace = True)\n",
    "quanraw.replace(to_replace=\"All of the Time\",value=5,inplace = True)\n",
    "quanraw.replace(to_replace=\"All of the time\",value=5,inplace = True)\n",
    "\n",
    "quanraw.to_csv('quan_fin.csv', index = False)"
   ]
  },
  {
   "cell_type": "code",
   "execution_count": 133,
   "id": "9455ca0c-8ba4-493b-8dda-63ba0d4dab98",
   "metadata": {
    "tags": []
   },
   "outputs": [
    {
     "data": {
      "text/html": [
       "<div>\n",
       "<style scoped>\n",
       "    .dataframe tbody tr th:only-of-type {\n",
       "        vertical-align: middle;\n",
       "    }\n",
       "\n",
       "    .dataframe tbody tr th {\n",
       "        vertical-align: top;\n",
       "    }\n",
       "\n",
       "    .dataframe thead th {\n",
       "        text-align: right;\n",
       "    }\n",
       "</style>\n",
       "<table border=\"1\" class=\"dataframe\">\n",
       "  <thead>\n",
       "    <tr style=\"text-align: right;\">\n",
       "      <th></th>\n",
       "      <th>PARTIPID</th>\n",
       "      <th>AGE</th>\n",
       "      <th>YEARLEV</th>\n",
       "      <th>SEX</th>\n",
       "      <th>COLLEGE</th>\n",
       "      <th>LIVSIT</th>\n",
       "      <th>RESTYPE</th>\n",
       "      <th>BIRTORD</th>\n",
       "      <th>SIBNO</th>\n",
       "      <th>PARSTAT</th>\n",
       "      <th>...</th>\n",
       "      <th>FENERGY</th>\n",
       "      <th>FEEPROB</th>\n",
       "      <th>FECLEAR</th>\n",
       "      <th>FEGOOD</th>\n",
       "      <th>FECLOSE</th>\n",
       "      <th>FECONFI</th>\n",
       "      <th>FEMKEUP</th>\n",
       "      <th>FELOVED</th>\n",
       "      <th>FENWTHG</th>\n",
       "      <th>FECHEER</th>\n",
       "    </tr>\n",
       "  </thead>\n",
       "  <tbody>\n",
       "    <tr>\n",
       "      <th>0</th>\n",
       "      <td>1.0</td>\n",
       "      <td>21</td>\n",
       "      <td>121.0</td>\n",
       "      <td>Male</td>\n",
       "      <td>CLA</td>\n",
       "      <td>Alone</td>\n",
       "      <td>Dorm, Condo, Apartment</td>\n",
       "      <td>Youngest</td>\n",
       "      <td>2.0</td>\n",
       "      <td>Married</td>\n",
       "      <td>...</td>\n",
       "      <td>5</td>\n",
       "      <td>4</td>\n",
       "      <td>5</td>\n",
       "      <td>5</td>\n",
       "      <td>5</td>\n",
       "      <td>5</td>\n",
       "      <td>5</td>\n",
       "      <td>5</td>\n",
       "      <td>5</td>\n",
       "      <td>5</td>\n",
       "    </tr>\n",
       "    <tr>\n",
       "      <th>1</th>\n",
       "      <td>2.0</td>\n",
       "      <td>20</td>\n",
       "      <td>121.0</td>\n",
       "      <td>Female</td>\n",
       "      <td>CLA</td>\n",
       "      <td>With Family</td>\n",
       "      <td>House</td>\n",
       "      <td>Eldest</td>\n",
       "      <td>0.0</td>\n",
       "      <td>Married</td>\n",
       "      <td>...</td>\n",
       "      <td>3</td>\n",
       "      <td>3</td>\n",
       "      <td>3</td>\n",
       "      <td>3</td>\n",
       "      <td>5</td>\n",
       "      <td>3</td>\n",
       "      <td>3</td>\n",
       "      <td>4</td>\n",
       "      <td>3</td>\n",
       "      <td>3</td>\n",
       "    </tr>\n",
       "    <tr>\n",
       "      <th>2</th>\n",
       "      <td>3.0</td>\n",
       "      <td>19</td>\n",
       "      <td>123.0</td>\n",
       "      <td>Female</td>\n",
       "      <td>CLA</td>\n",
       "      <td>Alone</td>\n",
       "      <td>Dorm, Condo, Apartment</td>\n",
       "      <td>Only Child</td>\n",
       "      <td>0.0</td>\n",
       "      <td>Married</td>\n",
       "      <td>...</td>\n",
       "      <td>3</td>\n",
       "      <td>3</td>\n",
       "      <td>3</td>\n",
       "      <td>3</td>\n",
       "      <td>4</td>\n",
       "      <td>3</td>\n",
       "      <td>4</td>\n",
       "      <td>5</td>\n",
       "      <td>4</td>\n",
       "      <td>4</td>\n",
       "    </tr>\n",
       "    <tr>\n",
       "      <th>3</th>\n",
       "      <td>4.0</td>\n",
       "      <td>20</td>\n",
       "      <td>122.0</td>\n",
       "      <td>Female</td>\n",
       "      <td>CLA</td>\n",
       "      <td>With Family</td>\n",
       "      <td>House</td>\n",
       "      <td>Eldest</td>\n",
       "      <td>1.0</td>\n",
       "      <td>Married</td>\n",
       "      <td>...</td>\n",
       "      <td>2</td>\n",
       "      <td>4</td>\n",
       "      <td>3</td>\n",
       "      <td>3</td>\n",
       "      <td>3</td>\n",
       "      <td>3</td>\n",
       "      <td>4</td>\n",
       "      <td>3</td>\n",
       "      <td>4</td>\n",
       "      <td>2</td>\n",
       "    </tr>\n",
       "    <tr>\n",
       "      <th>4</th>\n",
       "      <td>5.0</td>\n",
       "      <td>20</td>\n",
       "      <td>121.0</td>\n",
       "      <td>Female</td>\n",
       "      <td>RVR-COB</td>\n",
       "      <td>With Family</td>\n",
       "      <td>Mixed</td>\n",
       "      <td>Middle</td>\n",
       "      <td>2.0</td>\n",
       "      <td>Married</td>\n",
       "      <td>...</td>\n",
       "      <td>3</td>\n",
       "      <td>4</td>\n",
       "      <td>4</td>\n",
       "      <td>3</td>\n",
       "      <td>4</td>\n",
       "      <td>3</td>\n",
       "      <td>4</td>\n",
       "      <td>4</td>\n",
       "      <td>4</td>\n",
       "      <td>4</td>\n",
       "    </tr>\n",
       "    <tr>\n",
       "      <th>...</th>\n",
       "      <td>...</td>\n",
       "      <td>...</td>\n",
       "      <td>...</td>\n",
       "      <td>...</td>\n",
       "      <td>...</td>\n",
       "      <td>...</td>\n",
       "      <td>...</td>\n",
       "      <td>...</td>\n",
       "      <td>...</td>\n",
       "      <td>...</td>\n",
       "      <td>...</td>\n",
       "      <td>...</td>\n",
       "      <td>...</td>\n",
       "      <td>...</td>\n",
       "      <td>...</td>\n",
       "      <td>...</td>\n",
       "      <td>...</td>\n",
       "      <td>...</td>\n",
       "      <td>...</td>\n",
       "      <td>...</td>\n",
       "      <td>...</td>\n",
       "    </tr>\n",
       "    <tr>\n",
       "      <th>186</th>\n",
       "      <td>187.0</td>\n",
       "      <td>20</td>\n",
       "      <td>122.0</td>\n",
       "      <td>Male</td>\n",
       "      <td>RVR-COB</td>\n",
       "      <td>With Family</td>\n",
       "      <td>Dorm, Condo, Apartment</td>\n",
       "      <td>Only Child</td>\n",
       "      <td>0.0</td>\n",
       "      <td>Married</td>\n",
       "      <td>...</td>\n",
       "      <td>4</td>\n",
       "      <td>2</td>\n",
       "      <td>3</td>\n",
       "      <td>3</td>\n",
       "      <td>4</td>\n",
       "      <td>4</td>\n",
       "      <td>5</td>\n",
       "      <td>4</td>\n",
       "      <td>4</td>\n",
       "      <td>4</td>\n",
       "    </tr>\n",
       "    <tr>\n",
       "      <th>187</th>\n",
       "      <td>188.0</td>\n",
       "      <td>21</td>\n",
       "      <td>120.0</td>\n",
       "      <td>Female</td>\n",
       "      <td>CLA</td>\n",
       "      <td>With Family</td>\n",
       "      <td>Mixed</td>\n",
       "      <td>Only Child</td>\n",
       "      <td>0.0</td>\n",
       "      <td>Separated</td>\n",
       "      <td>...</td>\n",
       "      <td>3</td>\n",
       "      <td>3</td>\n",
       "      <td>3</td>\n",
       "      <td>3</td>\n",
       "      <td>3</td>\n",
       "      <td>3</td>\n",
       "      <td>3</td>\n",
       "      <td>4</td>\n",
       "      <td>3</td>\n",
       "      <td>3</td>\n",
       "    </tr>\n",
       "    <tr>\n",
       "      <th>188</th>\n",
       "      <td>189.0</td>\n",
       "      <td>20</td>\n",
       "      <td>122.0</td>\n",
       "      <td>Male</td>\n",
       "      <td>GCOE</td>\n",
       "      <td>With Roommates</td>\n",
       "      <td>Dorm, Condo, Apartment</td>\n",
       "      <td>Eldest</td>\n",
       "      <td>1.0</td>\n",
       "      <td>Others</td>\n",
       "      <td>...</td>\n",
       "      <td>3</td>\n",
       "      <td>3</td>\n",
       "      <td>4</td>\n",
       "      <td>4</td>\n",
       "      <td>5</td>\n",
       "      <td>5</td>\n",
       "      <td>4</td>\n",
       "      <td>5</td>\n",
       "      <td>5</td>\n",
       "      <td>5</td>\n",
       "    </tr>\n",
       "    <tr>\n",
       "      <th>189</th>\n",
       "      <td>190.0</td>\n",
       "      <td>20</td>\n",
       "      <td>122.0</td>\n",
       "      <td>Male</td>\n",
       "      <td>CCS</td>\n",
       "      <td>With Family</td>\n",
       "      <td>House</td>\n",
       "      <td>Middle</td>\n",
       "      <td>3.0</td>\n",
       "      <td>Married</td>\n",
       "      <td>...</td>\n",
       "      <td>1</td>\n",
       "      <td>4</td>\n",
       "      <td>3</td>\n",
       "      <td>4</td>\n",
       "      <td>5</td>\n",
       "      <td>5</td>\n",
       "      <td>5</td>\n",
       "      <td>5</td>\n",
       "      <td>5</td>\n",
       "      <td>3</td>\n",
       "    </tr>\n",
       "    <tr>\n",
       "      <th>190</th>\n",
       "      <td>NaN</td>\n",
       "      <td>23</td>\n",
       "      <td>121.0</td>\n",
       "      <td>Male</td>\n",
       "      <td>CCS</td>\n",
       "      <td>With Family</td>\n",
       "      <td>House</td>\n",
       "      <td>Youngest</td>\n",
       "      <td>4.0</td>\n",
       "      <td>Separated</td>\n",
       "      <td>...</td>\n",
       "      <td>2</td>\n",
       "      <td>2</td>\n",
       "      <td>2</td>\n",
       "      <td>5</td>\n",
       "      <td>4</td>\n",
       "      <td>4</td>\n",
       "      <td>4</td>\n",
       "      <td>2</td>\n",
       "      <td>4</td>\n",
       "      <td>2</td>\n",
       "    </tr>\n",
       "  </tbody>\n",
       "</table>\n",
       "<p>191 rows × 91 columns</p>\n",
       "</div>"
      ],
      "text/plain": [
       "     PARTIPID  AGE  YEARLEV     SEX COLLEGE           LIVSIT  \\\n",
       "0         1.0   21    121.0    Male      CLA           Alone   \n",
       "1         2.0   20    121.0  Female      CLA     With Family   \n",
       "2         3.0   19    123.0  Female      CLA           Alone   \n",
       "3         4.0   20    122.0  Female      CLA     With Family   \n",
       "4         5.0   20    121.0  Female  RVR-COB     With Family   \n",
       "..        ...  ...      ...     ...      ...             ...   \n",
       "186     187.0   20    122.0    Male  RVR-COB     With Family   \n",
       "187     188.0   21    120.0  Female      CLA     With Family   \n",
       "188     189.0   20    122.0    Male     GCOE  With Roommates   \n",
       "189     190.0   20    122.0    Male      CCS     With Family   \n",
       "190       NaN   23    121.0    Male      CCS     With Family   \n",
       "\n",
       "                    RESTYPE     BIRTORD  SIBNO    PARSTAT  ... FENERGY  \\\n",
       "0    Dorm, Condo, Apartment    Youngest    2.0    Married  ...       5   \n",
       "1                     House      Eldest    0.0    Married  ...       3   \n",
       "2    Dorm, Condo, Apartment  Only Child    0.0    Married  ...       3   \n",
       "3                     House      Eldest    1.0    Married  ...       2   \n",
       "4                     Mixed      Middle    2.0    Married  ...       3   \n",
       "..                      ...         ...    ...        ...  ...     ...   \n",
       "186  Dorm, Condo, Apartment  Only Child    0.0    Married  ...       4   \n",
       "187                   Mixed  Only Child    0.0  Separated  ...       3   \n",
       "188  Dorm, Condo, Apartment      Eldest    1.0     Others  ...       3   \n",
       "189                   House      Middle    3.0    Married  ...       1   \n",
       "190                   House    Youngest    4.0  Separated  ...       2   \n",
       "\n",
       "    FEEPROB FECLEAR FEGOOD  FECLOSE  FECONFI  FEMKEUP  FELOVED  FENWTHG  \\\n",
       "0         4       5      5        5        5        5        5        5   \n",
       "1         3       3      3        5        3        3        4        3   \n",
       "2         3       3      3        4        3        4        5        4   \n",
       "3         4       3      3        3        3        4        3        4   \n",
       "4         4       4      3        4        3        4        4        4   \n",
       "..      ...     ...    ...      ...      ...      ...      ...      ...   \n",
       "186       2       3      3        4        4        5        4        4   \n",
       "187       3       3      3        3        3        3        4        3   \n",
       "188       3       4      4        5        5        4        5        5   \n",
       "189       4       3      4        5        5        5        5        5   \n",
       "190       2       2      5        4        4        4        2        4   \n",
       "\n",
       "     FECHEER  \n",
       "0          5  \n",
       "1          3  \n",
       "2          4  \n",
       "3          2  \n",
       "4          4  \n",
       "..       ...  \n",
       "186        4  \n",
       "187        3  \n",
       "188        5  \n",
       "189        3  \n",
       "190        2  \n",
       "\n",
       "[191 rows x 91 columns]"
      ]
     },
     "execution_count": 133,
     "metadata": {},
     "output_type": "execute_result"
    }
   ],
   "source": [
    "quanfin = pd.read_csv('quan_fin.csv')\n",
    "quanfin"
   ]
  },
  {
   "cell_type": "markdown",
   "id": "86bce63b-8b49-4452-a0ae-e1d95c27b3dd",
   "metadata": {},
   "source": [
    "# Univariate Analysis (Frequency Tables, CrossTabs, etc.)"
   ]
  },
  {
   "cell_type": "markdown",
   "id": "86c1a923-16f4-4f9a-87c8-a17f5d5a6120",
   "metadata": {},
   "source": [
    "## Respondent's Profile"
   ]
  },
  {
   "cell_type": "code",
   "execution_count": 134,
   "id": "784ed2e4-2a80-4160-bfb7-adbb50d5959b",
   "metadata": {
    "tags": []
   },
   "outputs": [
    {
     "data": {
      "text/html": [
       "<div>\n",
       "<style scoped>\n",
       "    .dataframe tbody tr th:only-of-type {\n",
       "        vertical-align: middle;\n",
       "    }\n",
       "\n",
       "    .dataframe tbody tr th {\n",
       "        vertical-align: top;\n",
       "    }\n",
       "\n",
       "    .dataframe thead th {\n",
       "        text-align: right;\n",
       "    }\n",
       "</style>\n",
       "<table border=\"1\" class=\"dataframe\">\n",
       "  <thead>\n",
       "    <tr style=\"text-align: right;\">\n",
       "      <th></th>\n",
       "      <th>AGE</th>\n",
       "      <th>SEX</th>\n",
       "      <th>COLLEGE</th>\n",
       "      <th>LIVSIT</th>\n",
       "      <th>RESTYPE</th>\n",
       "      <th>ESTHOUR</th>\n",
       "    </tr>\n",
       "  </thead>\n",
       "  <tbody>\n",
       "    <tr>\n",
       "      <th>0</th>\n",
       "      <td>21</td>\n",
       "      <td>Male</td>\n",
       "      <td>CLA</td>\n",
       "      <td>Alone</td>\n",
       "      <td>Dorm, Condo, Apartment</td>\n",
       "      <td>8 - 10 hours</td>\n",
       "    </tr>\n",
       "    <tr>\n",
       "      <th>1</th>\n",
       "      <td>20</td>\n",
       "      <td>Female</td>\n",
       "      <td>CLA</td>\n",
       "      <td>With Family</td>\n",
       "      <td>House</td>\n",
       "      <td>14 hours or more</td>\n",
       "    </tr>\n",
       "    <tr>\n",
       "      <th>2</th>\n",
       "      <td>19</td>\n",
       "      <td>Female</td>\n",
       "      <td>CLA</td>\n",
       "      <td>Alone</td>\n",
       "      <td>Dorm, Condo, Apartment</td>\n",
       "      <td>14 hours or more</td>\n",
       "    </tr>\n",
       "    <tr>\n",
       "      <th>3</th>\n",
       "      <td>20</td>\n",
       "      <td>Female</td>\n",
       "      <td>CLA</td>\n",
       "      <td>With Family</td>\n",
       "      <td>House</td>\n",
       "      <td>8 - 10 hours</td>\n",
       "    </tr>\n",
       "    <tr>\n",
       "      <th>4</th>\n",
       "      <td>20</td>\n",
       "      <td>Female</td>\n",
       "      <td>RVR-COB</td>\n",
       "      <td>With Family</td>\n",
       "      <td>Mixed</td>\n",
       "      <td>8 - 10 hours</td>\n",
       "    </tr>\n",
       "    <tr>\n",
       "      <th>...</th>\n",
       "      <td>...</td>\n",
       "      <td>...</td>\n",
       "      <td>...</td>\n",
       "      <td>...</td>\n",
       "      <td>...</td>\n",
       "      <td>...</td>\n",
       "    </tr>\n",
       "    <tr>\n",
       "      <th>186</th>\n",
       "      <td>20</td>\n",
       "      <td>Male</td>\n",
       "      <td>RVR-COB</td>\n",
       "      <td>With Family</td>\n",
       "      <td>Dorm, Condo, Apartment</td>\n",
       "      <td>6 - 8 hours</td>\n",
       "    </tr>\n",
       "    <tr>\n",
       "      <th>187</th>\n",
       "      <td>21</td>\n",
       "      <td>Female</td>\n",
       "      <td>CLA</td>\n",
       "      <td>With Family</td>\n",
       "      <td>Mixed</td>\n",
       "      <td>12 - 14 hours</td>\n",
       "    </tr>\n",
       "    <tr>\n",
       "      <th>188</th>\n",
       "      <td>20</td>\n",
       "      <td>Male</td>\n",
       "      <td>GCOE</td>\n",
       "      <td>With Roommates</td>\n",
       "      <td>Dorm, Condo, Apartment</td>\n",
       "      <td>6 - 8 hours</td>\n",
       "    </tr>\n",
       "    <tr>\n",
       "      <th>189</th>\n",
       "      <td>20</td>\n",
       "      <td>Male</td>\n",
       "      <td>CCS</td>\n",
       "      <td>With Family</td>\n",
       "      <td>House</td>\n",
       "      <td>4 - 6 hours</td>\n",
       "    </tr>\n",
       "    <tr>\n",
       "      <th>190</th>\n",
       "      <td>23</td>\n",
       "      <td>Male</td>\n",
       "      <td>CCS</td>\n",
       "      <td>With Family</td>\n",
       "      <td>House</td>\n",
       "      <td>4 - 6 hours</td>\n",
       "    </tr>\n",
       "  </tbody>\n",
       "</table>\n",
       "<p>191 rows × 6 columns</p>\n",
       "</div>"
      ],
      "text/plain": [
       "     AGE     SEX COLLEGE           LIVSIT                 RESTYPE  \\\n",
       "0     21    Male      CLA           Alone  Dorm, Condo, Apartment   \n",
       "1     20  Female      CLA     With Family                   House   \n",
       "2     19  Female      CLA           Alone  Dorm, Condo, Apartment   \n",
       "3     20  Female      CLA     With Family                   House   \n",
       "4     20  Female  RVR-COB     With Family                   Mixed   \n",
       "..   ...     ...      ...             ...                     ...   \n",
       "186   20    Male  RVR-COB     With Family  Dorm, Condo, Apartment   \n",
       "187   21  Female      CLA     With Family                   Mixed   \n",
       "188   20    Male     GCOE  With Roommates  Dorm, Condo, Apartment   \n",
       "189   20    Male      CCS     With Family                   House   \n",
       "190   23    Male      CCS     With Family                   House   \n",
       "\n",
       "              ESTHOUR  \n",
       "0        8 - 10 hours  \n",
       "1    14 hours or more  \n",
       "2    14 hours or more  \n",
       "3        8 - 10 hours  \n",
       "4        8 - 10 hours  \n",
       "..                ...  \n",
       "186       6 - 8 hours  \n",
       "187     12 - 14 hours  \n",
       "188       6 - 8 hours  \n",
       "189       4 - 6 hours  \n",
       "190       4 - 6 hours  \n",
       "\n",
       "[191 rows x 6 columns]"
      ]
     },
     "execution_count": 134,
     "metadata": {},
     "output_type": "execute_result"
    }
   ],
   "source": [
    "#Respondent's Profle\n",
    "profile = pd.DataFrame(quanfin, columns = ['AGE',\n",
    "                                           'SEX',\n",
    "                                           'COLLEGE ',\n",
    "                                           'LIVSIT',\n",
    "                                           'RESTYPE', \n",
    "                                           'ESTHOUR'])\n",
    "profile"
   ]
  },
  {
   "cell_type": "code",
   "execution_count": 135,
   "id": "02635593-ce23-4fda-9e25-3a30f5ceb68a",
   "metadata": {
    "tags": []
   },
   "outputs": [
    {
     "name": "stdout",
     "output_type": "stream",
     "text": [
      "col_0  count\n",
      "AGE         \n",
      "18        18\n",
      "19        32\n",
      "20        53\n",
      "21        52\n",
      "22        26\n",
      "23         8\n",
      "24         2\n",
      "\n",
      "20.356020942408378\n",
      "\n",
      "1.3373000606410987\n"
     ]
    },
    {
     "data": {
      "text/plain": [
       "20    27.748691\n",
       "21    27.225131\n",
       "19    16.753927\n",
       "22    13.612565\n",
       "18     9.424084\n",
       "23     4.188482\n",
       "24     1.047120\n",
       "Name: AGE, dtype: float64"
      ]
     },
     "execution_count": 135,
     "metadata": {},
     "output_type": "execute_result"
    }
   ],
   "source": [
    "age = pd.crosstab(index = profile['AGE'], columns = 'count')\n",
    "print(age)\n",
    "age_mean = quanfin['AGE'].mean()\n",
    "print()\n",
    "print(age_mean)\n",
    "age_stdev = stat.stdev(quanfin['AGE'])\n",
    "print()\n",
    "print(age_stdev)\n",
    "profile['AGE'].value_counts(normalize = True) * 100"
   ]
  },
  {
   "cell_type": "code",
   "execution_count": 136,
   "id": "60a2403d-43e7-4bb6-ace9-2a70807faa61",
   "metadata": {
    "tags": []
   },
   "outputs": [
    {
     "name": "stdout",
     "output_type": "stream",
     "text": [
      "col_0   count\n",
      "SEX          \n",
      "Female    108\n",
      "Male       83\n"
     ]
    },
    {
     "data": {
      "text/plain": [
       "Female    56.544503\n",
       "Male      43.455497\n",
       "Name: SEX, dtype: float64"
      ]
     },
     "execution_count": 136,
     "metadata": {},
     "output_type": "execute_result"
    }
   ],
   "source": [
    "sex = pd.crosstab(index = profile['SEX'], columns = 'count')\n",
    "print(sex)\n",
    "profile['SEX'].value_counts(normalize = True) * 100"
   ]
  },
  {
   "cell_type": "code",
   "execution_count": 137,
   "id": "e8d45a8b-d30d-42f8-b63a-b181bf3fe277",
   "metadata": {
    "tags": []
   },
   "outputs": [
    {
     "name": "stdout",
     "output_type": "stream",
     "text": [
      "col_0     count\n",
      "COLLEGE        \n",
      "BAGCED        7\n",
      "CCS          10\n",
      "CLA         112\n",
      "COS          27\n",
      "GCOE         13\n",
      "RVR-COB      16\n",
      "SOE           6\n"
     ]
    },
    {
     "data": {
      "text/plain": [
       "CLA        58.638743\n",
       "COS        14.136126\n",
       "RVR-COB     8.376963\n",
       "GCOE        6.806283\n",
       "CCS         5.235602\n",
       "BAGCED      3.664921\n",
       "SOE         3.141361\n",
       "Name: COLLEGE , dtype: float64"
      ]
     },
     "execution_count": 137,
     "metadata": {},
     "output_type": "execute_result"
    }
   ],
   "source": [
    "college = pd.crosstab(index = profile['COLLEGE '], columns = 'count')\n",
    "print(college)\n",
    "profile['COLLEGE '].value_counts(normalize = True) * 100"
   ]
  },
  {
   "cell_type": "code",
   "execution_count": 138,
   "id": "1e1ff4ae-7ef2-4b7c-ba54-78561f38a379",
   "metadata": {
    "tags": []
   },
   "outputs": [
    {
     "name": "stdout",
     "output_type": "stream",
     "text": [
      "col_0           count\n",
      "LIVSIT               \n",
      "Alone              30\n",
      "Others              4\n",
      "With Family       139\n",
      "With Roommates     18\n"
     ]
    },
    {
     "data": {
      "text/plain": [
       "With Family       72.774869\n",
       "Alone             15.706806\n",
       "With Roommates     9.424084\n",
       "Others             2.094241\n",
       "Name: LIVSIT, dtype: float64"
      ]
     },
     "execution_count": 138,
     "metadata": {},
     "output_type": "execute_result"
    }
   ],
   "source": [
    "livsit = pd.crosstab(index = profile['LIVSIT'], columns = 'count')\n",
    "print(livsit)\n",
    "profile['LIVSIT'].value_counts(normalize = True) * 100"
   ]
  },
  {
   "cell_type": "code",
   "execution_count": 139,
   "id": "f0bb0710-8ca4-4826-aa5f-8ff79e1e73a5",
   "metadata": {
    "tags": []
   },
   "outputs": [
    {
     "name": "stdout",
     "output_type": "stream",
     "text": [
      "col_0                   count\n",
      "RESTYPE                      \n",
      "Dorm, Condo, Apartment     73\n",
      "House                     110\n",
      "Mixed                       8\n"
     ]
    },
    {
     "data": {
      "text/plain": [
       "House                     57.591623\n",
       "Dorm, Condo, Apartment    38.219895\n",
       "Mixed                      4.188482\n",
       "Name: RESTYPE, dtype: float64"
      ]
     },
     "execution_count": 139,
     "metadata": {},
     "output_type": "execute_result"
    }
   ],
   "source": [
    "restype = pd.crosstab(index = profile['RESTYPE'], columns = 'count')\n",
    "print(restype)\n",
    "profile['RESTYPE'].value_counts(normalize = True) * 100"
   ]
  },
  {
   "cell_type": "code",
   "execution_count": 140,
   "id": "d7d16ae8-5504-4c73-986a-cab76d20fe5c",
   "metadata": {
    "tags": []
   },
   "outputs": [
    {
     "name": "stdout",
     "output_type": "stream",
     "text": [
      "col_0              count\n",
      "ESTHOUR                 \n",
      "10 - 12 hours         19\n",
      "12 - 14 hours         11\n",
      "14 hours or more      18\n",
      "2 - 4 hours           16\n",
      "4 - 6 hours           44\n",
      "6 - 8 hours           47\n",
      "8 - 10 hours          30\n",
      "Less than 2 hours      6\n"
     ]
    },
    {
     "data": {
      "text/plain": [
       "6 - 8 hours          24.607330\n",
       "4 - 6 hours          23.036649\n",
       "8 - 10 hours         15.706806\n",
       "10 - 12 hours         9.947644\n",
       "14 hours or more      9.424084\n",
       "2 - 4 hours           8.376963\n",
       "12 - 14 hours         5.759162\n",
       "Less than 2 hours     3.141361\n",
       "Name: ESTHOUR, dtype: float64"
      ]
     },
     "execution_count": 140,
     "metadata": {},
     "output_type": "execute_result"
    }
   ],
   "source": [
    "esthour = pd.crosstab(index = profile['ESTHOUR'], columns = 'count')\n",
    "print(esthour)\n",
    "profile['ESTHOUR'].value_counts(normalize = True) * 100"
   ]
  },
  {
   "cell_type": "markdown",
   "id": "433556c5-6e01-42d9-a988-929d709ca5ec",
   "metadata": {},
   "source": [
    "### Respondent's Family Profile"
   ]
  },
  {
   "cell_type": "code",
   "execution_count": 141,
   "id": "6ce741be-e58a-49b1-9c30-89e24d00b905",
   "metadata": {
    "tags": []
   },
   "outputs": [
    {
     "data": {
      "text/html": [
       "<div>\n",
       "<style scoped>\n",
       "    .dataframe tbody tr th:only-of-type {\n",
       "        vertical-align: middle;\n",
       "    }\n",
       "\n",
       "    .dataframe tbody tr th {\n",
       "        vertical-align: top;\n",
       "    }\n",
       "\n",
       "    .dataframe thead th {\n",
       "        text-align: right;\n",
       "    }\n",
       "</style>\n",
       "<table border=\"1\" class=\"dataframe\">\n",
       "  <thead>\n",
       "    <tr style=\"text-align: right;\">\n",
       "      <th></th>\n",
       "      <th>BIRTORD</th>\n",
       "      <th>SIBNO</th>\n",
       "      <th>PARSTAT</th>\n",
       "      <th>NUIMFAM</th>\n",
       "      <th>HOUSEPOP</th>\n",
       "      <th>COMONIN</th>\n",
       "      <th>AGEGAP:DAD</th>\n",
       "      <th>AGEGAP:MOM</th>\n",
       "      <th>AGEGAP:ELDEST</th>\n",
       "      <th>AGEGAP:MIDDLE</th>\n",
       "      <th>AGEGAP:YOUNGEST</th>\n",
       "      <th>AGEGAP:OTHER</th>\n",
       "      <th>RATIO:M</th>\n",
       "      <th>RATIO:F</th>\n",
       "    </tr>\n",
       "  </thead>\n",
       "  <tbody>\n",
       "    <tr>\n",
       "      <th>0</th>\n",
       "      <td>Youngest</td>\n",
       "      <td>2.0</td>\n",
       "      <td>Married</td>\n",
       "      <td>2</td>\n",
       "      <td>2</td>\n",
       "      <td>Php 219,140 or more</td>\n",
       "      <td>33.0</td>\n",
       "      <td>32.0</td>\n",
       "      <td>6.0</td>\n",
       "      <td>2.0</td>\n",
       "      <td>NaN</td>\n",
       "      <td>NaN</td>\n",
       "      <td>3.0</td>\n",
       "      <td>2.0</td>\n",
       "    </tr>\n",
       "    <tr>\n",
       "      <th>1</th>\n",
       "      <td>Eldest</td>\n",
       "      <td>0.0</td>\n",
       "      <td>Married</td>\n",
       "      <td>4</td>\n",
       "      <td>6 or more</td>\n",
       "      <td>Php 43,828 - Php 76,669</td>\n",
       "      <td>20.0</td>\n",
       "      <td>20.0</td>\n",
       "      <td>NaN</td>\n",
       "      <td>NaN</td>\n",
       "      <td>3.0</td>\n",
       "      <td>NaN</td>\n",
       "      <td>2.0</td>\n",
       "      <td>4.0</td>\n",
       "    </tr>\n",
       "    <tr>\n",
       "      <th>2</th>\n",
       "      <td>Only Child</td>\n",
       "      <td>0.0</td>\n",
       "      <td>Married</td>\n",
       "      <td>2</td>\n",
       "      <td>0 (Lives Alone)</td>\n",
       "      <td>Php 219,140 or more</td>\n",
       "      <td>31.0</td>\n",
       "      <td>19.0</td>\n",
       "      <td>NaN</td>\n",
       "      <td>NaN</td>\n",
       "      <td>NaN</td>\n",
       "      <td>NaN</td>\n",
       "      <td>3.0</td>\n",
       "      <td>1.0</td>\n",
       "    </tr>\n",
       "    <tr>\n",
       "      <th>3</th>\n",
       "      <td>Eldest</td>\n",
       "      <td>1.0</td>\n",
       "      <td>Married</td>\n",
       "      <td>3</td>\n",
       "      <td>3</td>\n",
       "      <td>Php 76,669 - Php 131,484</td>\n",
       "      <td>31.0</td>\n",
       "      <td>30.0</td>\n",
       "      <td>NaN</td>\n",
       "      <td>NaN</td>\n",
       "      <td>2.0</td>\n",
       "      <td>NaN</td>\n",
       "      <td>2.0</td>\n",
       "      <td>2.0</td>\n",
       "    </tr>\n",
       "    <tr>\n",
       "      <th>4</th>\n",
       "      <td>Middle</td>\n",
       "      <td>2.0</td>\n",
       "      <td>Married</td>\n",
       "      <td>4</td>\n",
       "      <td>6 or more</td>\n",
       "      <td>Php 219,140 or more</td>\n",
       "      <td>33.0</td>\n",
       "      <td>34.0</td>\n",
       "      <td>NaN</td>\n",
       "      <td>NaN</td>\n",
       "      <td>2.0</td>\n",
       "      <td>NaN</td>\n",
       "      <td>2.0</td>\n",
       "      <td>2.0</td>\n",
       "    </tr>\n",
       "    <tr>\n",
       "      <th>...</th>\n",
       "      <td>...</td>\n",
       "      <td>...</td>\n",
       "      <td>...</td>\n",
       "      <td>...</td>\n",
       "      <td>...</td>\n",
       "      <td>...</td>\n",
       "      <td>...</td>\n",
       "      <td>...</td>\n",
       "      <td>...</td>\n",
       "      <td>...</td>\n",
       "      <td>...</td>\n",
       "      <td>...</td>\n",
       "      <td>...</td>\n",
       "      <td>...</td>\n",
       "    </tr>\n",
       "    <tr>\n",
       "      <th>186</th>\n",
       "      <td>Only Child</td>\n",
       "      <td>0.0</td>\n",
       "      <td>Married</td>\n",
       "      <td>2</td>\n",
       "      <td>0 (Lives Alone)</td>\n",
       "      <td>Php 219,140 or more</td>\n",
       "      <td>21.0</td>\n",
       "      <td>25.0</td>\n",
       "      <td>NaN</td>\n",
       "      <td>NaN</td>\n",
       "      <td>NaN</td>\n",
       "      <td>NaN</td>\n",
       "      <td>2.0</td>\n",
       "      <td>1.0</td>\n",
       "    </tr>\n",
       "    <tr>\n",
       "      <th>187</th>\n",
       "      <td>Only Child</td>\n",
       "      <td>0.0</td>\n",
       "      <td>Separated</td>\n",
       "      <td>1</td>\n",
       "      <td>3</td>\n",
       "      <td>Php 76,669 - Php 131,484</td>\n",
       "      <td>NaN</td>\n",
       "      <td>32.0</td>\n",
       "      <td>NaN</td>\n",
       "      <td>NaN</td>\n",
       "      <td>5.0</td>\n",
       "      <td>NaN</td>\n",
       "      <td>NaN</td>\n",
       "      <td>2.0</td>\n",
       "    </tr>\n",
       "    <tr>\n",
       "      <th>188</th>\n",
       "      <td>Eldest</td>\n",
       "      <td>1.0</td>\n",
       "      <td>Others</td>\n",
       "      <td>2</td>\n",
       "      <td>2</td>\n",
       "      <td>Php 131,483 - Php 219,140</td>\n",
       "      <td>24.0</td>\n",
       "      <td>23.0</td>\n",
       "      <td>5.0</td>\n",
       "      <td>2.0</td>\n",
       "      <td>1.0</td>\n",
       "      <td>NaN</td>\n",
       "      <td>1.0</td>\n",
       "      <td>2.0</td>\n",
       "    </tr>\n",
       "    <tr>\n",
       "      <th>189</th>\n",
       "      <td>Middle</td>\n",
       "      <td>3.0</td>\n",
       "      <td>Married</td>\n",
       "      <td>5</td>\n",
       "      <td>6 or more</td>\n",
       "      <td>Php 219,140 or more</td>\n",
       "      <td>40.0</td>\n",
       "      <td>37.0</td>\n",
       "      <td>12.0</td>\n",
       "      <td>11.0</td>\n",
       "      <td>NaN</td>\n",
       "      <td>3.0</td>\n",
       "      <td>4.0</td>\n",
       "      <td>2.0</td>\n",
       "    </tr>\n",
       "    <tr>\n",
       "      <th>190</th>\n",
       "      <td>Youngest</td>\n",
       "      <td>4.0</td>\n",
       "      <td>Separated</td>\n",
       "      <td>3</td>\n",
       "      <td>0 (Lives Alone)</td>\n",
       "      <td>Php 43,828 - Php 76,669</td>\n",
       "      <td>32.0</td>\n",
       "      <td>32.0</td>\n",
       "      <td>NaN</td>\n",
       "      <td>NaN</td>\n",
       "      <td>NaN</td>\n",
       "      <td>NaN</td>\n",
       "      <td>2.0</td>\n",
       "      <td>1.0</td>\n",
       "    </tr>\n",
       "  </tbody>\n",
       "</table>\n",
       "<p>191 rows × 14 columns</p>\n",
       "</div>"
      ],
      "text/plain": [
       "        BIRTORD  SIBNO    PARSTAT NUIMFAM         HOUSEPOP  \\\n",
       "0      Youngest    2.0    Married       2                2   \n",
       "1        Eldest    0.0    Married       4        6 or more   \n",
       "2    Only Child    0.0    Married       2  0 (Lives Alone)   \n",
       "3        Eldest    1.0    Married       3                3   \n",
       "4        Middle    2.0    Married       4        6 or more   \n",
       "..          ...    ...        ...     ...              ...   \n",
       "186  Only Child    0.0    Married       2  0 (Lives Alone)   \n",
       "187  Only Child    0.0  Separated       1                3   \n",
       "188      Eldest    1.0     Others       2                2   \n",
       "189      Middle    3.0    Married       5        6 or more   \n",
       "190    Youngest    4.0  Separated       3  0 (Lives Alone)   \n",
       "\n",
       "                       COMONIN  AGEGAP:DAD  AGEGAP:MOM  AGEGAP:ELDEST  \\\n",
       "0          Php 219,140 or more        33.0        32.0            6.0   \n",
       "1      Php 43,828 - Php 76,669        20.0        20.0            NaN   \n",
       "2          Php 219,140 or more        31.0        19.0            NaN   \n",
       "3     Php 76,669 - Php 131,484        31.0        30.0            NaN   \n",
       "4          Php 219,140 or more        33.0        34.0            NaN   \n",
       "..                         ...         ...         ...            ...   \n",
       "186        Php 219,140 or more        21.0        25.0            NaN   \n",
       "187   Php 76,669 - Php 131,484         NaN        32.0            NaN   \n",
       "188  Php 131,483 - Php 219,140        24.0        23.0            5.0   \n",
       "189        Php 219,140 or more        40.0        37.0           12.0   \n",
       "190    Php 43,828 - Php 76,669        32.0        32.0            NaN   \n",
       "\n",
       "     AGEGAP:MIDDLE  AGEGAP:YOUNGEST  AGEGAP:OTHER  RATIO:M  RATIO:F  \n",
       "0              2.0              NaN           NaN      3.0      2.0  \n",
       "1              NaN              3.0           NaN      2.0      4.0  \n",
       "2              NaN              NaN           NaN      3.0      1.0  \n",
       "3              NaN              2.0           NaN      2.0      2.0  \n",
       "4              NaN              2.0           NaN      2.0      2.0  \n",
       "..             ...              ...           ...      ...      ...  \n",
       "186            NaN              NaN           NaN      2.0      1.0  \n",
       "187            NaN              5.0           NaN      NaN      2.0  \n",
       "188            2.0              1.0           NaN      1.0      2.0  \n",
       "189           11.0              NaN           3.0      4.0      2.0  \n",
       "190            NaN              NaN           NaN      2.0      1.0  \n",
       "\n",
       "[191 rows x 14 columns]"
      ]
     },
     "execution_count": 141,
     "metadata": {},
     "output_type": "execute_result"
    }
   ],
   "source": [
    "fam_profile = pd.DataFrame(quanfin, columns = \n",
    "                           ['BIRTORD','SIBNO','PARSTAT','NUIMFAM',\n",
    "                            'HOUSEPOP','COMONIN','AGEGAP:DAD','AGEGAP:MOM',\n",
    "                            'AGEGAP:ELDEST','AGEGAP:MIDDLE','AGEGAP:YOUNGEST','AGEGAP:OTHER',\n",
    "                            'RATIO:M','RATIO:F'])\n",
    "fam_profile"
   ]
  },
  {
   "cell_type": "code",
   "execution_count": 142,
   "id": "b1d8f287-093f-4389-b69e-6dfd74bfb0e9",
   "metadata": {
    "tags": []
   },
   "outputs": [
    {
     "name": "stdout",
     "output_type": "stream",
     "text": [
      "col_0       count\n",
      "BIRTORD          \n",
      "Eldest         65\n",
      "Middle         32\n",
      "Only Child     28\n",
      "Others          1\n",
      "Youngest       65\n"
     ]
    },
    {
     "data": {
      "text/plain": [
       "Youngest      34.031414\n",
       "Eldest        34.031414\n",
       "Middle        16.753927\n",
       "Only Child    14.659686\n",
       "Others         0.523560\n",
       "Name: BIRTORD, dtype: float64"
      ]
     },
     "execution_count": 142,
     "metadata": {},
     "output_type": "execute_result"
    }
   ],
   "source": [
    "birtord = pd.crosstab(index = fam_profile['BIRTORD'], columns = 'count')\n",
    "print(birtord)\n",
    "fam_profile['BIRTORD'].value_counts(normalize = True) * 100"
   ]
  },
  {
   "cell_type": "code",
   "execution_count": 143,
   "id": "ca260ddd-1d7e-48fa-a928-89906903e1aa",
   "metadata": {
    "tags": []
   },
   "outputs": [
    {
     "name": "stdout",
     "output_type": "stream",
     "text": [
      "col_0  count\n",
      "SIBNO       \n",
      "0.0       29\n",
      "1.0       49\n",
      "2.0       67\n",
      "3.0       32\n",
      "4.0        9\n",
      "5.0        4\n",
      "7.0        1\n",
      "\n",
      "1.7905759162303665\n",
      "\n",
      "1.2260828439624398\n"
     ]
    },
    {
     "data": {
      "text/plain": [
       "2.0    35.078534\n",
       "1.0    25.654450\n",
       "3.0    16.753927\n",
       "0.0    15.183246\n",
       "4.0     4.712042\n",
       "5.0     2.094241\n",
       "7.0     0.523560\n",
       "Name: SIBNO, dtype: float64"
      ]
     },
     "execution_count": 143,
     "metadata": {},
     "output_type": "execute_result"
    }
   ],
   "source": [
    "sibno = pd.crosstab(index = fam_profile['SIBNO'], columns = 'count')\n",
    "print(sibno)\n",
    "sibno_mean = quanfin['SIBNO'].mean()\n",
    "print()\n",
    "print(sibno_mean)\n",
    "sibno_stdev = stat.stdev(quanfin['SIBNO'])\n",
    "print()\n",
    "print(sibno_stdev)\n",
    "fam_profile['SIBNO'].value_counts(normalize = True) * 100"
   ]
  },
  {
   "cell_type": "code",
   "execution_count": 144,
   "id": "47624b45-80e8-46c1-83c5-e50677b542d8",
   "metadata": {
    "tags": []
   },
   "outputs": [
    {
     "name": "stdout",
     "output_type": "stream",
     "text": [
      "col_0      count\n",
      "PARSTAT         \n",
      "Married      151\n",
      "Others        11\n",
      "Separated     24\n",
      "Single         5\n"
     ]
    },
    {
     "data": {
      "text/plain": [
       "Married      79.057592\n",
       "Separated    12.565445\n",
       "Others        5.759162\n",
       "Single        2.617801\n",
       "Name: PARSTAT, dtype: float64"
      ]
     },
     "execution_count": 144,
     "metadata": {},
     "output_type": "execute_result"
    }
   ],
   "source": [
    "parstat = pd.crosstab(index = fam_profile['PARSTAT'], columns = 'count')\n",
    "print(parstat)\n",
    "fam_profile['PARSTAT'].value_counts(normalize = True) * 100"
   ]
  },
  {
   "cell_type": "code",
   "execution_count": 145,
   "id": "12dada65-1d55-4239-996e-f4503d405afb",
   "metadata": {
    "tags": []
   },
   "outputs": [
    {
     "name": "stdout",
     "output_type": "stream",
     "text": [
      "col_0      count\n",
      "NUIMFAM         \n",
      "1              5\n",
      "2             28\n",
      "3             48\n",
      "4             63\n",
      "5             31\n",
      "6 or more     16\n"
     ]
    },
    {
     "data": {
      "text/plain": [
       "4            32.984293\n",
       "3            25.130890\n",
       "5            16.230366\n",
       "2            14.659686\n",
       "6 or more     8.376963\n",
       "1             2.617801\n",
       "Name: NUIMFAM, dtype: float64"
      ]
     },
     "execution_count": 145,
     "metadata": {},
     "output_type": "execute_result"
    }
   ],
   "source": [
    "nuimfam = pd.crosstab(index = fam_profile['NUIMFAM'], columns = 'count')\n",
    "print(nuimfam)\n",
    "fam_profile['NUIMFAM'].value_counts(normalize = True) * 100"
   ]
  },
  {
   "cell_type": "code",
   "execution_count": 146,
   "id": "0cdfd716-e93a-484d-92be-b234104c9d4f",
   "metadata": {
    "tags": []
   },
   "outputs": [
    {
     "name": "stdout",
     "output_type": "stream",
     "text": [
      "col_0            count\n",
      "HOUSEPOP              \n",
      "0 (Lives Alone)     27\n",
      "1                   13\n",
      "2                   20\n",
      "3                   28\n",
      "4                   32\n",
      "5                   30\n",
      "6 or more           41\n"
     ]
    },
    {
     "data": {
      "text/plain": [
       "6 or more          21.465969\n",
       "4                  16.753927\n",
       "5                  15.706806\n",
       "3                  14.659686\n",
       "0 (Lives Alone)    14.136126\n",
       "2                  10.471204\n",
       "1                   6.806283\n",
       "Name: HOUSEPOP, dtype: float64"
      ]
     },
     "execution_count": 146,
     "metadata": {},
     "output_type": "execute_result"
    }
   ],
   "source": [
    "housepop = pd.crosstab(index = fam_profile['HOUSEPOP'], columns = 'count')\n",
    "print(housepop)\n",
    "fam_profile['HOUSEPOP'].value_counts(normalize = True) * 100"
   ]
  },
  {
   "cell_type": "code",
   "execution_count": 147,
   "id": "078a6a66-b20f-474e-93a0-7c6af42ca3f7",
   "metadata": {
    "tags": []
   },
   "outputs": [
    {
     "name": "stdout",
     "output_type": "stream",
     "text": [
      "col_0                      count\n",
      "COMONIN                         \n",
      "Below Php 10,957               1\n",
      "Php 10,957 - Php 21,914       11\n",
      "Php 131,483 - Php 219,140     38\n",
      "Php 21,914 - Php 43,828       11\n",
      "Php 219,140 or more           67\n",
      "Php 43,828 - Php 76,669       22\n",
      "Php 76,669 - Php 131,484      40\n"
     ]
    },
    {
     "data": {
      "text/plain": [
       "Php 219,140 or more          35.263158\n",
       "Php 76,669 - Php 131,484     21.052632\n",
       "Php 131,483 - Php 219,140    20.000000\n",
       "Php 43,828 - Php 76,669      11.578947\n",
       "Php 21,914 - Php 43,828       5.789474\n",
       "Php 10,957 - Php 21,914       5.789474\n",
       "Below Php 10,957              0.526316\n",
       "Name: COMONIN, dtype: float64"
      ]
     },
     "execution_count": 147,
     "metadata": {},
     "output_type": "execute_result"
    }
   ],
   "source": [
    "comonin = pd.crosstab(index = fam_profile['COMONIN'], columns = 'count')\n",
    "print(comonin)\n",
    "fam_profile['COMONIN'].value_counts(normalize = True) * 100"
   ]
  },
  {
   "cell_type": "code",
   "execution_count": 148,
   "id": "c63ad03a-7d00-4b6d-92e3-1c9a14198834",
   "metadata": {
    "tags": []
   },
   "outputs": [
    {
     "name": "stdout",
     "output_type": "stream",
     "text": [
      "{33.0: 8, 20.0: 2, 31.0: 12, 40.0: 12, 30.0: 11, 24.0: 10, 34.0: 15, 41.0: 8, 35.0: 11, 42.0: 3, 28.0: 11, 32.0: 8, 36.0: 8, 23.0: 7, 59.0: 2, 39.0: 5, 29.0: 8, 26.0: 6, 44.0: 3, 25.0: 4, 38.0: 6, 21.0: 2, 37.0: 3, 51.0: 1, 27.0: 8, 45.0: 1, 46.0: 1, 54.0: 1, 52.0: 1, 50.0: 1}\n",
      "\n",
      "32.650273224043715\n",
      "\n",
      "7.634370475834998\n"
     ]
    }
   ],
   "source": [
    "agegap_dad = []\n",
    "for i in range(0,190):\n",
    "    agdad = quanfin.loc[i,'AGEGAP:DAD']\n",
    "    if agdad >= 18:\n",
    "        agegap_dad.append(agdad)\n",
    "        \n",
    "freq_agdad = collections.Counter(agegap_dad)\n",
    "print(dict(freq_agdad))\n",
    "\n",
    "agegap_dad_mean = stat.mean(quanfin['AGEGAP:DAD'].dropna())\n",
    "print()\n",
    "print(agegap_dad_mean)\n",
    "\n",
    "agegap_dad_stdev = stat.stdev(quanfin['AGEGAP:DAD'].dropna())\n",
    "print()\n",
    "print(agegap_dad_stdev)"
   ]
  },
  {
   "cell_type": "code",
   "execution_count": 149,
   "id": "77bc7401-9ee6-4cad-a3ce-c633426e290b",
   "metadata": {
    "tags": []
   },
   "outputs": [
    {
     "name": "stdout",
     "output_type": "stream",
     "text": [
      "{'26-34': 87, '18-25': 25, '35-42': 56, '52-60': 4, '60 and above': 8, '43-51': 7}\n"
     ]
    }
   ],
   "source": [
    "agegap_dad = []\n",
    "for i in range(0,190):\n",
    "    agdad = quanfin.loc[i,'AGEGAP:DAD']\n",
    "    if agdad < 18:\n",
    "        continue\n",
    "    elif agdad <= 25:\n",
    "        agegap_dad.append(\"18-25\")\n",
    "    elif agdad <= 34:\n",
    "        agegap_dad.append(\"26-34\")\n",
    "    elif agdad <= 42:\n",
    "        agegap_dad.append(\"35-42\")\n",
    "    elif agdad <= 51:\n",
    "        agegap_dad.append(\"43-51\")\n",
    "    elif agdad <= 60:\n",
    "        agegap_dad.append(\"52-60\")\n",
    "    else:\n",
    "        agegap_dad.append(\"60 and above\")\n",
    "\n",
    "freq_agdad = collections.Counter(agegap_dad)\n",
    "print(dict(freq_agdad))"
   ]
  },
  {
   "cell_type": "code",
   "execution_count": 150,
   "id": "a7a7df9d-db2b-455f-9f60-1811f5698ae0",
   "metadata": {
    "tags": []
   },
   "outputs": [
    {
     "name": "stdout",
     "output_type": "stream",
     "text": [
      "{32.0: 16, 20.0: 2, 19.0: 2, 30.0: 19, 34.0: 8, 38.0: 3, 33.0: 18, 25.0: 14, 39.0: 5, 40.0: 7, 26.0: 7, 28.0: 10, 35.0: 5, 36.0: 5, 23.0: 12, 42.0: 2, 27.0: 11, 24.0: 7, 29.0: 12, 22.0: 1, 31.0: 7, 18.0: 1, 21.0: 3, 44.0: 1, 37.0: 2, 52.0: 1}\n",
      "\n",
      "29.875\n",
      "\n",
      "5.810356779203782\n"
     ]
    }
   ],
   "source": [
    "agegap_mom = []\n",
    "for i in range(0,190):\n",
    "    agmom = quanfin.loc[i,'AGEGAP:MOM']\n",
    "    if agmom >= 18:\n",
    "        agegap_mom.append(agmom)\n",
    "        \n",
    "freq_agmom = collections.Counter(agegap_mom)\n",
    "print(dict(freq_agmom))\n",
    "\n",
    "agegap_mom_mean = stat.mean(quanfin['AGEGAP:MOM'].dropna())\n",
    "print()\n",
    "print(agegap_mom_mean)\n",
    "\n",
    "agegap_mom_stdev = stat.stdev(quanfin['AGEGAP:MOM'].dropna())\n",
    "print()\n",
    "print(agegap_mom_stdev)"
   ]
  },
  {
   "cell_type": "code",
   "execution_count": 151,
   "id": "ddc6bb2f-bd87-4fd6-93c5-86f34aaf28fa",
   "metadata": {
    "tags": []
   },
   "outputs": [
    {
     "name": "stdout",
     "output_type": "stream",
     "text": [
      "{'26-34': 108, '18-25': 42, '35-42': 29, '60 and above': 7, '43-51': 1, '52-60': 1}\n"
     ]
    }
   ],
   "source": [
    "agegap_mom = []\n",
    "for i in range(0,190):\n",
    "    agmom = quanfin.loc[i,'AGEGAP:MOM']\n",
    "    if agmom < 18:\n",
    "        continue\n",
    "    elif agmom <= 25:\n",
    "        agegap_mom.append(\"18-25\")\n",
    "    elif agmom <= 34:\n",
    "        agegap_mom.append(\"26-34\")\n",
    "    elif agmom <= 42:\n",
    "        agegap_mom.append(\"35-42\")\n",
    "    elif agmom <= 51:\n",
    "        agegap_mom.append(\"43-51\")\n",
    "    elif agmom <= 60:\n",
    "        agegap_mom.append(\"52-60\")\n",
    "    else:\n",
    "        agegap_mom.append(\"60 and above\")\n",
    "\n",
    "freq_agmom = collections.Counter(agegap_mom)\n",
    "print(dict(freq_agmom))"
   ]
  },
  {
   "cell_type": "code",
   "execution_count": 152,
   "id": "805b452f-9552-421c-868e-feba33db86ec",
   "metadata": {
    "tags": []
   },
   "outputs": [
    {
     "name": "stdout",
     "output_type": "stream",
     "text": [
      "{6.0: 9, 13.0: 2, 8.0: 10, 18.0: 3, 1.0: 12, 3.0: 10, 4.0: 7, 30.0: 1, 5.0: 8, 11.0: 1, 2.0: 7, 7.0: 3, 17.0: 2, 21.0: 1, 15.0: 2, 9.0: 5, 26.0: 1, 12.0: 6, 38.0: 1, 10.0: 2, 20.0: 2, 16.0: 1, 19.0: 1, 14.0: 1}\n",
      "\n",
      "7.908163265306122\n",
      "\n",
      "6.75504658189602\n"
     ]
    }
   ],
   "source": [
    "agegap_eldest = []\n",
    "for i in range(0,190):\n",
    "    ageldest = quanfin.loc[i,'AGEGAP:ELDEST']\n",
    "    if ageldest > 0:\n",
    "        agegap_eldest.append(ageldest)\n",
    "        \n",
    "freq_ageld = collections.Counter(agegap_eldest)\n",
    "print(dict(freq_ageld))\n",
    "\n",
    "agegap_eldest_mean = stat.mean(quanfin['AGEGAP:ELDEST'].dropna())\n",
    "print()\n",
    "print(agegap_eldest_mean)\n",
    "\n",
    "agegap_eldest_stdev = stat.stdev(quanfin['AGEGAP:ELDEST'].dropna())\n",
    "print()\n",
    "print(agegap_eldest_stdev)"
   ]
  },
  {
   "cell_type": "code",
   "execution_count": 153,
   "id": "b53f3a17-1326-404c-a8c0-7844f72c2889",
   "metadata": {
    "tags": []
   },
   "outputs": [
    {
     "name": "stdout",
     "output_type": "stream",
     "text": [
      "{'1-6': 53, '30 and above': 93, '13-18': 11, '7-12': 27, '25-30': 2, '19-24': 4}\n"
     ]
    }
   ],
   "source": [
    "agegap_eldest = []\n",
    "for i in range(0,190):\n",
    "    ageld = quanfin.loc[i,'AGEGAP:ELDEST']\n",
    "    if ageld < 0:\n",
    "        continue\n",
    "    elif ageld <= 6:\n",
    "        agegap_eldest.append(\"1-6\")\n",
    "    elif ageld <= 12:\n",
    "        agegap_eldest.append(\"7-12\")\n",
    "    elif ageld <= 18:\n",
    "        agegap_eldest.append(\"13-18\")\n",
    "    elif ageld <= 24:\n",
    "        agegap_eldest.append(\"19-24\")\n",
    "    elif ageld <= 30:\n",
    "        agegap_eldest.append(\"25-30\")\n",
    "    else:\n",
    "        agegap_eldest.append(\"30 and above\")\n",
    "\n",
    "freq_ageld = collections.Counter(agegap_eldest)\n",
    "print(dict(freq_ageld))"
   ]
  },
  {
   "cell_type": "code",
   "execution_count": 154,
   "id": "c3d9018a-1b60-4aff-a9e0-ea593513f013",
   "metadata": {
    "tags": []
   },
   "outputs": [
    {
     "name": "stdout",
     "output_type": "stream",
     "text": [
      "{2.0: 21, 11.0: 4, 1.0: 7, 4.0: 14, 5.0: 8, 3.0: 9, 16.0: 2, 24.0: 2, 9.0: 6, 15.0: 2, 10.0: 4, 6.0: 5, 18.0: 1, 8.0: 2, 14.0: 1, 12.0: 1, 7.0: 1}\n",
      "\n",
      "5.681318681318682\n",
      "\n",
      "4.9032395660173735\n"
     ]
    }
   ],
   "source": [
    "agegap_middle = []\n",
    "for i in range(0,190):\n",
    "    agemiddle = quanfin.loc[i,'AGEGAP:MIDDLE']\n",
    "    if agemiddle > 0:\n",
    "        agegap_middle.append(agemiddle)\n",
    "        \n",
    "freq_agmid = collections.Counter(agegap_middle)\n",
    "print(dict(freq_agmid))\n",
    "\n",
    "agegap_middle_mean = stat.mean(quanfin['AGEGAP:MIDDLE'].dropna())\n",
    "print()\n",
    "print(agegap_middle_mean)\n",
    "\n",
    "agegap_middle_stdev = stat.stdev(quanfin['AGEGAP:MIDDLE'].dropna())\n",
    "print()\n",
    "print(agegap_middle_stdev)"
   ]
  },
  {
   "cell_type": "code",
   "execution_count": 155,
   "id": "44149646-0e59-4791-81c7-6dfd41eeaf1f",
   "metadata": {
    "tags": []
   },
   "outputs": [
    {
     "name": "stdout",
     "output_type": "stream",
     "text": [
      "{'1-6': 65, '30 and above': 99, '7-12': 18, '13-18': 6, '19-24': 2}\n"
     ]
    }
   ],
   "source": [
    "agegap_middle = []\n",
    "for i in range(0,190):\n",
    "    agmid = quanfin.loc[i,'AGEGAP:MIDDLE']\n",
    "    if agmid < 0:\n",
    "        continue\n",
    "    elif agmid <= 6:\n",
    "        agegap_middle.append(\"1-6\")\n",
    "    elif agmid <= 12:\n",
    "        agegap_middle.append(\"7-12\")\n",
    "    elif agmid <= 18:\n",
    "        agegap_middle.append(\"13-18\")\n",
    "    elif agmid <= 24:\n",
    "        agegap_middle.append(\"19-24\")\n",
    "    elif agmid <= 30:\n",
    "        agegap_middle.append(\"25-30\")\n",
    "    else:\n",
    "        agegap_middle.append(\"30 and above\")\n",
    "\n",
    "freq_agmid = collections.Counter(agegap_middle)\n",
    "print(dict(freq_agmid))"
   ]
  },
  {
   "cell_type": "code",
   "execution_count": 156,
   "id": "fbd725d7-1287-4d6c-8a24-c89616117a91",
   "metadata": {
    "tags": []
   },
   "outputs": [
    {
     "name": "stdout",
     "output_type": "stream",
     "text": [
      "{3.0: 6, 2.0: 15, 1.0: 9, 4.0: 9, 6.0: 10, 7.0: 7, 8.0: 11, 10.0: 2, 9.0: 3, 11.0: 2, 15.0: 2, 5.0: 11, 14.0: 3, 19.0: 2, 12.0: 8, 17.0: 1, 18.0: 2}\n",
      "\n",
      "6.533980582524272\n",
      "\n",
      "4.521876094209567\n"
     ]
    }
   ],
   "source": [
    "agegap_youngest = []\n",
    "for i in range(0,190):\n",
    "    ageyoung = quanfin.loc[i,'AGEGAP:YOUNGEST']\n",
    "    if ageyoung > 0:\n",
    "        agegap_youngest.append(ageyoung)\n",
    "        \n",
    "freq_ageyoung = collections.Counter(agegap_youngest)\n",
    "print(dict(freq_ageyoung))\n",
    "\n",
    "agegap_youngest_mean = stat.mean(quanfin['AGEGAP:YOUNGEST'].dropna())\n",
    "print()\n",
    "print(agegap_youngest_mean)\n",
    "\n",
    "agegap_youngest_stdev = stat.stdev(quanfin['AGEGAP:YOUNGEST'].dropna())\n",
    "print()\n",
    "print(agegap_youngest_stdev)"
   ]
  },
  {
   "cell_type": "code",
   "execution_count": 157,
   "id": "96c299b9-5f2b-4d59-a8ef-a903a9230b88",
   "metadata": {
    "tags": []
   },
   "outputs": [
    {
     "name": "stdout",
     "output_type": "stream",
     "text": [
      "{'30 and above': 87, '1-6': 60, '7-12': 33, '13-18': 8, '19-24': 2}\n"
     ]
    }
   ],
   "source": [
    "agegap_youngest = []\n",
    "for i in range(0,190):\n",
    "    agyoung = quanfin.loc[i,'AGEGAP:YOUNGEST']\n",
    "    if agyoung < 0:\n",
    "        continue\n",
    "    elif agyoung <= 6:\n",
    "        agegap_youngest.append(\"1-6\")\n",
    "    elif agyoung <= 12:\n",
    "        agegap_youngest.append(\"7-12\")\n",
    "    elif agyoung <= 18:\n",
    "        agegap_youngest.append(\"13-18\")\n",
    "    elif agyoung <= 24:\n",
    "        agegap_youngest.append(\"19-24\")\n",
    "    elif agyoung <= 30:\n",
    "        agegap_youngest.append(\"25-30\")\n",
    "    else:\n",
    "        agegap_youngest.append(\"30 and above\")\n",
    "\n",
    "freq_agyoung = collections.Counter(agegap_youngest)\n",
    "print(dict(freq_agyoung))"
   ]
  },
  {
   "cell_type": "code",
   "execution_count": 158,
   "id": "6c627194-9ac4-4bbb-ba30-4185465f87ed",
   "metadata": {
    "tags": []
   },
   "outputs": [
    {
     "name": "stdout",
     "output_type": "stream",
     "text": [
      "{3.0: 6, 2.0: 15, 1.0: 9, 4.0: 9, 6.0: 10, 7.0: 7, 8.0: 11, 10.0: 2, 9.0: 3, 11.0: 2, 15.0: 2, 5.0: 11, 14.0: 3, 19.0: 2, 12.0: 8, 17.0: 1, 18.0: 2}\n",
      "\n",
      "10.0\n",
      "\n",
      "7.507571935295483\n"
     ]
    }
   ],
   "source": [
    "agegap_others = []\n",
    "for i in range(0,190):\n",
    "    agother = quanfin.loc[i,'AGEGAP:OTHER']\n",
    "    if agother > 0:\n",
    "        agegap_others.append(agother)\n",
    "        \n",
    "freq_agother = collections.Counter(agegap_others)\n",
    "print(dict(freq_ageyoung))\n",
    "\n",
    "agegap_others_mean = stat.mean(quanfin['AGEGAP:OTHER'].dropna())\n",
    "print()\n",
    "print(agegap_others_mean)\n",
    "\n",
    "agegap_others_stdev = stat.stdev(quanfin['AGEGAP:OTHER'].dropna())\n",
    "print()\n",
    "print(agegap_others_stdev)"
   ]
  },
  {
   "cell_type": "code",
   "execution_count": 159,
   "id": "fc13269b-62f2-4021-82f8-dcaa507be190",
   "metadata": {
    "tags": []
   },
   "outputs": [
    {
     "name": "stdout",
     "output_type": "stream",
     "text": [
      "{'1-6': 11, '13-18': 4, '19-24': 2, '7-12': 5}\n"
     ]
    }
   ],
   "source": [
    "agegap_others = []\n",
    "for i in range(0,190):\n",
    "    agothers = quanfin.loc[i,'AGEGAP:OTHER']\n",
    "    if agothers < 0:\n",
    "        continue\n",
    "    elif agothers <= 6:\n",
    "        agegap_others.append(\"1-6\")\n",
    "    elif agothers <= 12:\n",
    "        agegap_others.append(\"7-12\")\n",
    "    elif agothers <= 18:\n",
    "        agegap_others.append(\"13-18\")\n",
    "    elif agothers <= 24:\n",
    "        agegap_others.append(\"19-24\")\n",
    "    elif agothers <= 30:\n",
    "        agegap_others.append(\"25-30\")\n",
    "    else:\n",
    "        agegap_youngest.append(\"30 and above\")\n",
    "\n",
    "freq_agothers = collections.Counter(agegap_others)\n",
    "print(dict(freq_agothers))"
   ]
  },
  {
   "cell_type": "code",
   "execution_count": 160,
   "id": "0d5d239a-0434-4683-9c99-8c775f0ad57c",
   "metadata": {
    "tags": []
   },
   "outputs": [
    {
     "name": "stdout",
     "output_type": "stream",
     "text": [
      "col_0    count\n",
      "RATIO:M       \n",
      "1.0         40\n",
      "2.0         84\n",
      "3.0         43\n",
      "4.0         16\n",
      "5.0          2\n",
      "6.0          1\n",
      "7.0          1\n",
      "\n",
      "2.267379679144385\n",
      "\n",
      "1.0176692114267376\n"
     ]
    },
    {
     "data": {
      "text/plain": [
       "2.0    44.919786\n",
       "3.0    22.994652\n",
       "1.0    21.390374\n",
       "4.0     8.556150\n",
       "5.0     1.069519\n",
       "7.0     0.534759\n",
       "6.0     0.534759\n",
       "Name: RATIO:M, dtype: float64"
      ]
     },
     "execution_count": 160,
     "metadata": {},
     "output_type": "execute_result"
    }
   ],
   "source": [
    "ratio_m = pd.crosstab(index = fam_profile['RATIO:M'].dropna(), columns = 'count')\n",
    "print(ratio_m)\n",
    "\n",
    "ratio_m_mean = stat.mean(quanfin['RATIO:M'].dropna())\n",
    "print()\n",
    "print(ratio_m_mean)\n",
    "\n",
    "ratio_m_stdev = stat.stdev(quanfin['RATIO:M'].dropna())\n",
    "print()\n",
    "print(ratio_m_stdev)\n",
    "fam_profile['RATIO:M'].value_counts(normalize = True) * 100"
   ]
  },
  {
   "cell_type": "code",
   "execution_count": 161,
   "id": "7b715e56-c934-4701-b685-cd067b7703a7",
   "metadata": {
    "tags": []
   },
   "outputs": [
    {
     "name": "stdout",
     "output_type": "stream",
     "text": [
      "col_0    count\n",
      "RATIO:F       \n",
      "1.0         48\n",
      "2.0         76\n",
      "3.0         45\n",
      "4.0         14\n",
      "5.0          4\n",
      "6.0          1\n",
      "\n",
      "2.2180851063829787\n",
      "\n",
      "1.0134351775167127\n"
     ]
    },
    {
     "data": {
      "text/plain": [
       "2.0    40.425532\n",
       "1.0    25.531915\n",
       "3.0    23.936170\n",
       "4.0     7.446809\n",
       "5.0     2.127660\n",
       "6.0     0.531915\n",
       "Name: RATIO:F, dtype: float64"
      ]
     },
     "execution_count": 161,
     "metadata": {},
     "output_type": "execute_result"
    }
   ],
   "source": [
    "ratio_f = pd.crosstab(index = fam_profile['RATIO:F'].dropna(), columns = 'count')\n",
    "print(ratio_f)\n",
    "\n",
    "ratio_f_mean = stat.mean(quanfin['RATIO:F'].dropna())\n",
    "print()\n",
    "print(ratio_f_mean)\n",
    "\n",
    "ratio_f_stdev = stat.stdev(quanfin['RATIO:F'].dropna())\n",
    "print()\n",
    "print(ratio_f_stdev)\n",
    "fam_profile['RATIO:F'].value_counts(normalize = True) * 100"
   ]
  },
  {
   "cell_type": "markdown",
   "id": "2f524ec2-3db4-4488-aeeb-3afa6675c5fb",
   "metadata": {},
   "source": [
    "## Brief Family Relationship Scale"
   ]
  },
  {
   "cell_type": "code",
   "execution_count": 162,
   "id": "1ea7c575-316b-4e52-ba93-077ea33c8a20",
   "metadata": {
    "tags": []
   },
   "outputs": [
    {
     "data": {
      "text/html": [
       "<div>\n",
       "<style scoped>\n",
       "    .dataframe tbody tr th:only-of-type {\n",
       "        vertical-align: middle;\n",
       "    }\n",
       "\n",
       "    .dataframe tbody tr th {\n",
       "        vertical-align: top;\n",
       "    }\n",
       "\n",
       "    .dataframe thead th {\n",
       "        text-align: right;\n",
       "    }\n",
       "</style>\n",
       "<table border=\"1\" class=\"dataframe\">\n",
       "  <thead>\n",
       "    <tr style=\"text-align: right;\">\n",
       "      <th></th>\n",
       "      <th>HELPSUP</th>\n",
       "      <th>ARGUEM</th>\n",
       "      <th>TIMETOG</th>\n",
       "      <th>OPENCON</th>\n",
       "      <th>MADEO</th>\n",
       "      <th>WRKHRD</th>\n",
       "      <th>TOGTHR</th>\n",
       "      <th>PERPROB</th>\n",
       "      <th>TEMPER</th>\n",
       "      <th>PUTFOWN</th>\n",
       "      <th>SUPPORT</th>\n",
       "      <th>VIOLENT</th>\n",
       "      <th>PROUD</th>\n",
       "      <th>ALONG</th>\n",
       "      <th>BEGDISC</th>\n",
       "      <th>RVOICE</th>\n",
       "    </tr>\n",
       "  </thead>\n",
       "  <tbody>\n",
       "    <tr>\n",
       "      <th>0</th>\n",
       "      <td>2</td>\n",
       "      <td>2</td>\n",
       "      <td>1</td>\n",
       "      <td>2</td>\n",
       "      <td>2</td>\n",
       "      <td>2</td>\n",
       "      <td>1</td>\n",
       "      <td>2</td>\n",
       "      <td>1</td>\n",
       "      <td>2</td>\n",
       "      <td>1</td>\n",
       "      <td>2</td>\n",
       "      <td>0</td>\n",
       "      <td>1</td>\n",
       "      <td>1</td>\n",
       "      <td>1</td>\n",
       "    </tr>\n",
       "    <tr>\n",
       "      <th>1</th>\n",
       "      <td>0</td>\n",
       "      <td>1</td>\n",
       "      <td>1</td>\n",
       "      <td>0</td>\n",
       "      <td>2</td>\n",
       "      <td>1</td>\n",
       "      <td>0</td>\n",
       "      <td>0</td>\n",
       "      <td>0</td>\n",
       "      <td>1</td>\n",
       "      <td>0</td>\n",
       "      <td>1</td>\n",
       "      <td>0</td>\n",
       "      <td>0</td>\n",
       "      <td>1</td>\n",
       "      <td>1</td>\n",
       "    </tr>\n",
       "    <tr>\n",
       "      <th>2</th>\n",
       "      <td>1</td>\n",
       "      <td>1</td>\n",
       "      <td>2</td>\n",
       "      <td>2</td>\n",
       "      <td>1</td>\n",
       "      <td>2</td>\n",
       "      <td>1</td>\n",
       "      <td>0</td>\n",
       "      <td>0</td>\n",
       "      <td>3</td>\n",
       "      <td>1</td>\n",
       "      <td>3</td>\n",
       "      <td>1</td>\n",
       "      <td>1</td>\n",
       "      <td>1</td>\n",
       "      <td>2</td>\n",
       "    </tr>\n",
       "    <tr>\n",
       "      <th>3</th>\n",
       "      <td>1</td>\n",
       "      <td>1</td>\n",
       "      <td>2</td>\n",
       "      <td>1</td>\n",
       "      <td>2</td>\n",
       "      <td>1</td>\n",
       "      <td>2</td>\n",
       "      <td>2</td>\n",
       "      <td>1</td>\n",
       "      <td>2</td>\n",
       "      <td>1</td>\n",
       "      <td>2</td>\n",
       "      <td>1</td>\n",
       "      <td>1</td>\n",
       "      <td>2</td>\n",
       "      <td>1</td>\n",
       "    </tr>\n",
       "    <tr>\n",
       "      <th>4</th>\n",
       "      <td>1</td>\n",
       "      <td>1</td>\n",
       "      <td>1</td>\n",
       "      <td>2</td>\n",
       "      <td>2</td>\n",
       "      <td>1</td>\n",
       "      <td>1</td>\n",
       "      <td>1</td>\n",
       "      <td>1</td>\n",
       "      <td>2</td>\n",
       "      <td>1</td>\n",
       "      <td>1</td>\n",
       "      <td>1</td>\n",
       "      <td>1</td>\n",
       "      <td>2</td>\n",
       "      <td>1</td>\n",
       "    </tr>\n",
       "    <tr>\n",
       "      <th>...</th>\n",
       "      <td>...</td>\n",
       "      <td>...</td>\n",
       "      <td>...</td>\n",
       "      <td>...</td>\n",
       "      <td>...</td>\n",
       "      <td>...</td>\n",
       "      <td>...</td>\n",
       "      <td>...</td>\n",
       "      <td>...</td>\n",
       "      <td>...</td>\n",
       "      <td>...</td>\n",
       "      <td>...</td>\n",
       "      <td>...</td>\n",
       "      <td>...</td>\n",
       "      <td>...</td>\n",
       "      <td>...</td>\n",
       "    </tr>\n",
       "    <tr>\n",
       "      <th>186</th>\n",
       "      <td>1</td>\n",
       "      <td>0</td>\n",
       "      <td>2</td>\n",
       "      <td>2</td>\n",
       "      <td>2</td>\n",
       "      <td>1</td>\n",
       "      <td>1</td>\n",
       "      <td>2</td>\n",
       "      <td>1</td>\n",
       "      <td>2</td>\n",
       "      <td>1</td>\n",
       "      <td>2</td>\n",
       "      <td>1</td>\n",
       "      <td>1</td>\n",
       "      <td>1</td>\n",
       "      <td>1</td>\n",
       "    </tr>\n",
       "    <tr>\n",
       "      <th>187</th>\n",
       "      <td>0</td>\n",
       "      <td>2</td>\n",
       "      <td>1</td>\n",
       "      <td>1</td>\n",
       "      <td>3</td>\n",
       "      <td>1</td>\n",
       "      <td>1</td>\n",
       "      <td>1</td>\n",
       "      <td>2</td>\n",
       "      <td>2</td>\n",
       "      <td>0</td>\n",
       "      <td>2</td>\n",
       "      <td>0</td>\n",
       "      <td>0</td>\n",
       "      <td>1</td>\n",
       "      <td>1</td>\n",
       "    </tr>\n",
       "    <tr>\n",
       "      <th>188</th>\n",
       "      <td>0</td>\n",
       "      <td>1</td>\n",
       "      <td>0</td>\n",
       "      <td>0</td>\n",
       "      <td>2</td>\n",
       "      <td>0</td>\n",
       "      <td>0</td>\n",
       "      <td>0</td>\n",
       "      <td>2</td>\n",
       "      <td>3</td>\n",
       "      <td>0</td>\n",
       "      <td>3</td>\n",
       "      <td>0</td>\n",
       "      <td>0</td>\n",
       "      <td>0</td>\n",
       "      <td>2</td>\n",
       "    </tr>\n",
       "    <tr>\n",
       "      <th>189</th>\n",
       "      <td>0</td>\n",
       "      <td>1</td>\n",
       "      <td>0</td>\n",
       "      <td>0</td>\n",
       "      <td>1</td>\n",
       "      <td>0</td>\n",
       "      <td>0</td>\n",
       "      <td>2</td>\n",
       "      <td>1</td>\n",
       "      <td>2</td>\n",
       "      <td>0</td>\n",
       "      <td>2</td>\n",
       "      <td>0</td>\n",
       "      <td>1</td>\n",
       "      <td>2</td>\n",
       "      <td>1</td>\n",
       "    </tr>\n",
       "    <tr>\n",
       "      <th>190</th>\n",
       "      <td>0</td>\n",
       "      <td>2</td>\n",
       "      <td>1</td>\n",
       "      <td>2</td>\n",
       "      <td>2</td>\n",
       "      <td>0</td>\n",
       "      <td>0</td>\n",
       "      <td>1</td>\n",
       "      <td>2</td>\n",
       "      <td>3</td>\n",
       "      <td>1</td>\n",
       "      <td>3</td>\n",
       "      <td>0</td>\n",
       "      <td>0</td>\n",
       "      <td>0</td>\n",
       "      <td>2</td>\n",
       "    </tr>\n",
       "  </tbody>\n",
       "</table>\n",
       "<p>191 rows × 16 columns</p>\n",
       "</div>"
      ],
      "text/plain": [
       "     HELPSUP  ARGUEM  TIMETOG  OPENCON  MADEO  WRKHRD  TOGTHR  PERPROB  \\\n",
       "0          2       2        1        2      2       2       1        2   \n",
       "1          0       1        1        0      2       1       0        0   \n",
       "2          1       1        2        2      1       2       1        0   \n",
       "3          1       1        2        1      2       1       2        2   \n",
       "4          1       1        1        2      2       1       1        1   \n",
       "..       ...     ...      ...      ...    ...     ...     ...      ...   \n",
       "186        1       0        2        2      2       1       1        2   \n",
       "187        0       2        1        1      3       1       1        1   \n",
       "188        0       1        0        0      2       0       0        0   \n",
       "189        0       1        0        0      1       0       0        2   \n",
       "190        0       2        1        2      2       0       0        1   \n",
       "\n",
       "     TEMPER  PUTFOWN  SUPPORT  VIOLENT  PROUD  ALONG  BEGDISC  RVOICE  \n",
       "0         1        2        1        2      0      1        1       1  \n",
       "1         0        1        0        1      0      0        1       1  \n",
       "2         0        3        1        3      1      1        1       2  \n",
       "3         1        2        1        2      1      1        2       1  \n",
       "4         1        2        1        1      1      1        2       1  \n",
       "..      ...      ...      ...      ...    ...    ...      ...     ...  \n",
       "186       1        2        1        2      1      1        1       1  \n",
       "187       2        2        0        2      0      0        1       1  \n",
       "188       2        3        0        3      0      0        0       2  \n",
       "189       1        2        0        2      0      1        2       1  \n",
       "190       2        3        1        3      0      0        0       2  \n",
       "\n",
       "[191 rows x 16 columns]"
      ]
     },
     "execution_count": 162,
     "metadata": {},
     "output_type": "execute_result"
    }
   ],
   "source": [
    "brieffam = pd.DataFrame(quanfin, columns = ['HELPSUP','ARGUEM','TIMETOG','OPENCON','MADEO','WRKHRD','TOGTHR','PERPROB','TEMPER','PUTFOWN','SUPPORT','VIOLENT','PROUD','ALONG','BEGDISC','RVOICE'])\n",
    "brieffam"
   ]
  },
  {
   "cell_type": "markdown",
   "id": "dbc95036-aa40-4fd0-9b94-39e5f0bbd0f3",
   "metadata": {},
   "source": [
    "### Frequency per Question"
   ]
  },
  {
   "cell_type": "code",
   "execution_count": 163,
   "id": "ae687dd2-9051-4527-94bd-3150b93fc82e",
   "metadata": {
    "tags": []
   },
   "outputs": [],
   "source": [
    "helpsup = pd.crosstab(index = brieffam['HELPSUP'], columns = 'count')\n",
    "arguem = pd.crosstab(index = brieffam['ARGUEM'], columns = 'count')\n",
    "timetog = pd.crosstab(index = brieffam['TIMETOG'], columns = 'count')\n",
    "opencon = pd.crosstab(index = brieffam['OPENCON'], columns = 'count')\n",
    "madeo = pd.crosstab(index = brieffam['MADEO'], columns = 'count')\n",
    "wrkhrd = pd.crosstab(index = brieffam['WRKHRD'], columns = 'count')\n",
    "togthr = pd.crosstab(index = brieffam['TOGTHR'], columns = 'count')\n",
    "perprob = pd.crosstab(index = brieffam['PERPROB'], columns = 'count')\n",
    "temper = pd.crosstab(index = brieffam['TEMPER'], columns = 'count')\n",
    "putdown = pd.crosstab(index = brieffam['PUTFOWN'], columns = 'count')\n",
    "support = pd.crosstab(index = brieffam['SUPPORT'], columns = 'count')\n",
    "violent = pd.crosstab(index = brieffam['VIOLENT'], columns = 'count')\n",
    "proud = pd.crosstab(index = brieffam['PROUD'], columns = 'count')\n",
    "along = pd.crosstab(index = brieffam['ALONG'], columns = 'count')\n",
    "begdisc = pd.crosstab(index = brieffam['BEGDISC'], columns = 'count')\n",
    "rvoice = pd.crosstab(index = brieffam['RVOICE'], columns = 'count')"
   ]
  },
  {
   "cell_type": "markdown",
   "id": "5d6e4708-dc3a-49da-af25-eab83665d11e",
   "metadata": {},
   "source": [
    "### Mean and Standard Deviation per Question"
   ]
  },
  {
   "cell_type": "code",
   "execution_count": 164,
   "id": "c8e16847-4e3f-49fc-9e64-6e8373136b14",
   "metadata": {
    "tags": []
   },
   "outputs": [
    {
     "name": "stdout",
     "output_type": "stream",
     "text": [
      "Mean of HELPSUP: 0.675392670157068\n",
      "Mean of ARGUEM: 1.3089005235602094\n",
      "Mean of TIMETOG: 1.3926701570680629\n",
      "Mean of OPENCON: 1.4240837696335078\n",
      "Mean of MADEO: 1.963350785340314\n",
      "Mean of WRKHRD: 0.8900523560209425\n",
      "Mean of TOGTHR: 0.8691099476439791\n",
      "Mean of PERPROB: 1.1884816753926701\n",
      "Mean of TEMPER: 1.3455497382198953\n",
      "Mean of PUTDOWN: 2.1727748691099475\n",
      "Mean of SUPPORT: 0.8167539267015707\n",
      "Mean of VIOLENT: 2.2408376963350785\n",
      "Mean of PROUD: 0.675392670157068\n",
      "Mean of ALONG: 0.9057591623036649\n",
      "Mean of BEGSIC: 0.9057591623036649\n",
      "Mean of RVOICE: 1.057591623036649\n"
     ]
    }
   ],
   "source": [
    "helpsup_mean = stat.mean(brieffam['HELPSUP'].dropna())\n",
    "arguem_mean = stat.mean(brieffam['ARGUEM'].dropna())\n",
    "timetog_mean = stat.mean(brieffam['TIMETOG'].dropna())\n",
    "opencon_mean = stat.mean(brieffam['OPENCON'].dropna())\n",
    "madeo_mean = stat.mean(brieffam['MADEO'].dropna())\n",
    "wrkhrd_mean = stat.mean(brieffam['WRKHRD'].dropna())\n",
    "togthr_mean = stat.mean(brieffam['TOGTHR'].dropna())\n",
    "perprob_mean = stat.mean(brieffam['PERPROB'].dropna())\n",
    "temper_mean = stat.mean(brieffam['TEMPER'].dropna())\n",
    "putdown_mean = stat.mean(brieffam['PUTFOWN'].dropna())\n",
    "support_mean = stat.mean(brieffam['SUPPORT'].dropna())\n",
    "violent_mean = stat.mean(brieffam['VIOLENT'].dropna())\n",
    "proud_mean = stat.mean(brieffam['PROUD'].dropna())\n",
    "along_mean = stat.mean(brieffam['ALONG'].dropna())\n",
    "begdisc_mean = stat.mean(brieffam['BEGDISC'].dropna())\n",
    "rvoice_mean = stat.mean(brieffam['RVOICE'].dropna())\n",
    "\n",
    "print(\"Mean of HELPSUP:\", helpsup_mean)\n",
    "print(\"Mean of ARGUEM:\", arguem_mean)\n",
    "print(\"Mean of TIMETOG:\", timetog_mean)\n",
    "print(\"Mean of OPENCON:\", opencon_mean)\n",
    "print(\"Mean of MADEO:\", madeo_mean)\n",
    "print(\"Mean of WRKHRD:\", wrkhrd_mean)\n",
    "print(\"Mean of TOGTHR:\", togthr_mean)\n",
    "print(\"Mean of PERPROB:\", perprob_mean)\n",
    "print(\"Mean of TEMPER:\", temper_mean)\n",
    "print(\"Mean of PUTDOWN:\", putdown_mean)\n",
    "print(\"Mean of SUPPORT:\", support_mean)\n",
    "print(\"Mean of VIOLENT:\", violent_mean)\n",
    "print(\"Mean of PROUD:\", proud_mean)\n",
    "print(\"Mean of ALONG:\", along_mean)\n",
    "print(\"Mean of BEGSIC:\", along_mean)\n",
    "print(\"Mean of RVOICE:\", rvoice_mean)"
   ]
  },
  {
   "cell_type": "markdown",
   "id": "587fa8f2-f771-482b-83a0-24a91f85b159",
   "metadata": {},
   "source": [
    "### Interpretation"
   ]
  },
  {
   "cell_type": "code",
   "execution_count": 165,
   "id": "2dd17b22-b13d-446d-a04f-f97f1223fd7c",
   "metadata": {
    "tags": []
   },
   "outputs": [
    {
     "name": "stdout",
     "output_type": "stream",
     "text": [
      "['Low', 'Moderate', 'Moderate', 'Moderate', 'Moderate', 'Low', 'Low', 'Moderate', 'Moderate', 'High', 'Low', 'High', 'Low', 'Low', 'Low', 'Moderate']\n"
     ]
    }
   ],
   "source": [
    "brieffam_interpretation = [helpsup_mean, arguem_mean, timetog_mean, opencon_mean, madeo_mean,\n",
    "                           wrkhrd_mean, togthr_mean,perprob_mean, temper_mean, putdown_mean,\n",
    "                           support_mean, violent_mean, proud_mean, along_mean, along_mean, rvoice_mean]\n",
    "\n",
    "brieffam_score = []\n",
    "for i in brieffam_interpretation:\n",
    "    if i < 1:\n",
    "        brieffam_score.append(\"Low\")\n",
    "    elif i <2: \n",
    "        brieffam_score.append(\"Moderate\")\n",
    "    else:\n",
    "        brieffam_score.append(\"High\")\n",
    "print(brieffam_score)"
   ]
  },
  {
   "cell_type": "code",
   "execution_count": 166,
   "id": "3a048741-bece-40e0-ac7c-dbdcb12d5a6c",
   "metadata": {
    "tags": []
   },
   "outputs": [
    {
     "name": "stdout",
     "output_type": "stream",
     "text": [
      "SD of HELPSUP: 0.5976900514733378\n",
      "SD of ARGUEM: 0.7635611481043685\n",
      "SD of TIMETOG: 0.799834648108744\n",
      "SD of OPENCON: 0.8099682081470069\n",
      "SD of MADEO: 0.7135657513958819\n",
      "SD of WRKHRD: 0.6516824358876184\n",
      "SD of TOGTHR: 0.7023559926984826\n",
      "SD of PERPROB: 0.8310255543789629\n",
      "SD of TEMPER: 0.8620468825860035\n",
      "SD of PUTDOWN: 0.6931940919030721\n",
      "SD of SUPPORT: 0.6348907383601942\n",
      "SD of VIOLENT: 0.8612153773304647\n",
      "SD of PROUD: 0.6402069794820809\n",
      "SD of ALONG: 0.6419692766933959\n",
      "SD of BEGSIC: 0.8515947143176994\n",
      "SD of RVOICE: 0.7621523958210542\n"
     ]
    }
   ],
   "source": [
    "helpsup_sd = stat.stdev(brieffam['HELPSUP'].dropna())\n",
    "arguem_sd = stat.stdev(brieffam['ARGUEM'].dropna())\n",
    "timetog_sd = stat.stdev(brieffam['TIMETOG'].dropna())\n",
    "opencon_sd = stat.stdev(brieffam['OPENCON'].dropna())\n",
    "madeo_sd = stat.stdev(brieffam['MADEO'].dropna())\n",
    "wrkhrd_sd = stat.stdev(brieffam['WRKHRD'].dropna())\n",
    "togthr_sd = stat.stdev(brieffam['TOGTHR'].dropna())\n",
    "perprob_sd = stat.stdev(brieffam['PERPROB'].dropna())\n",
    "temper_sd = stat.stdev(brieffam['TEMPER'].dropna())\n",
    "putdown_sd = stat.stdev(brieffam['PUTFOWN'].dropna())\n",
    "support_sd = stat.stdev(brieffam['SUPPORT'].dropna())\n",
    "violent_sd = stat.stdev(brieffam['VIOLENT'].dropna())\n",
    "proud_sd = stat.stdev(brieffam['PROUD'].dropna())\n",
    "along_sd = stat.stdev(brieffam['ALONG'].dropna())\n",
    "begdisc_sd = stat.stdev(brieffam['BEGDISC'].dropna())\n",
    "rvoice_sd = stat.stdev(brieffam['RVOICE'].dropna())\n",
    "\n",
    "print(\"SD of HELPSUP:\", helpsup_sd)\n",
    "print(\"SD of ARGUEM:\", arguem_sd)\n",
    "print(\"SD of TIMETOG:\", timetog_sd)\n",
    "print(\"SD of OPENCON:\", opencon_sd)\n",
    "print(\"SD of MADEO:\", madeo_sd)\n",
    "print(\"SD of WRKHRD:\", wrkhrd_sd)\n",
    "print(\"SD of TOGTHR:\", togthr_sd)\n",
    "print(\"SD of PERPROB:\", perprob_sd)\n",
    "print(\"SD of TEMPER:\", temper_sd)\n",
    "print(\"SD of PUTDOWN:\", putdown_sd)\n",
    "print(\"SD of SUPPORT:\", support_sd)\n",
    "print(\"SD of VIOLENT:\", violent_sd)\n",
    "print(\"SD of PROUD:\", proud_sd)\n",
    "print(\"SD of ALONG:\", along_sd)\n",
    "print(\"SD of BEGSIC:\", begdisc_sd)\n",
    "print(\"SD of RVOICE:\", rvoice_sd)"
   ]
  },
  {
   "cell_type": "markdown",
   "id": "0c4e21fa-43c9-4317-b776-947a145eb629",
   "metadata": {},
   "source": [
    "### Cohesion Category"
   ]
  },
  {
   "cell_type": "code",
   "execution_count": 236,
   "id": "b1077c8e-ee34-4743-9cd4-bd1dc3de2ea3",
   "metadata": {
    "tags": []
   },
   "outputs": [
    {
     "data": {
      "text/html": [
       "<div>\n",
       "<style scoped>\n",
       "    .dataframe tbody tr th:only-of-type {\n",
       "        vertical-align: middle;\n",
       "    }\n",
       "\n",
       "    .dataframe tbody tr th {\n",
       "        vertical-align: top;\n",
       "    }\n",
       "\n",
       "    .dataframe thead th {\n",
       "        text-align: right;\n",
       "    }\n",
       "</style>\n",
       "<table border=\"1\" class=\"dataframe\">\n",
       "  <thead>\n",
       "    <tr style=\"text-align: right;\">\n",
       "      <th></th>\n",
       "      <th>HELPSUP</th>\n",
       "      <th>TIMETOG</th>\n",
       "      <th>WRKHRD</th>\n",
       "      <th>TOGTHR</th>\n",
       "      <th>VIOLENT</th>\n",
       "      <th>ALONG</th>\n",
       "      <th>SUPPORT</th>\n",
       "      <th>PROUD</th>\n",
       "    </tr>\n",
       "  </thead>\n",
       "  <tbody>\n",
       "    <tr>\n",
       "      <th>0</th>\n",
       "      <td>2</td>\n",
       "      <td>1</td>\n",
       "      <td>2</td>\n",
       "      <td>1</td>\n",
       "      <td>2</td>\n",
       "      <td>1</td>\n",
       "      <td>1</td>\n",
       "      <td>0</td>\n",
       "    </tr>\n",
       "    <tr>\n",
       "      <th>1</th>\n",
       "      <td>0</td>\n",
       "      <td>1</td>\n",
       "      <td>1</td>\n",
       "      <td>0</td>\n",
       "      <td>1</td>\n",
       "      <td>0</td>\n",
       "      <td>0</td>\n",
       "      <td>0</td>\n",
       "    </tr>\n",
       "    <tr>\n",
       "      <th>2</th>\n",
       "      <td>1</td>\n",
       "      <td>2</td>\n",
       "      <td>2</td>\n",
       "      <td>1</td>\n",
       "      <td>3</td>\n",
       "      <td>1</td>\n",
       "      <td>1</td>\n",
       "      <td>1</td>\n",
       "    </tr>\n",
       "    <tr>\n",
       "      <th>3</th>\n",
       "      <td>1</td>\n",
       "      <td>2</td>\n",
       "      <td>1</td>\n",
       "      <td>2</td>\n",
       "      <td>2</td>\n",
       "      <td>1</td>\n",
       "      <td>1</td>\n",
       "      <td>1</td>\n",
       "    </tr>\n",
       "    <tr>\n",
       "      <th>4</th>\n",
       "      <td>1</td>\n",
       "      <td>1</td>\n",
       "      <td>1</td>\n",
       "      <td>1</td>\n",
       "      <td>1</td>\n",
       "      <td>1</td>\n",
       "      <td>1</td>\n",
       "      <td>1</td>\n",
       "    </tr>\n",
       "    <tr>\n",
       "      <th>...</th>\n",
       "      <td>...</td>\n",
       "      <td>...</td>\n",
       "      <td>...</td>\n",
       "      <td>...</td>\n",
       "      <td>...</td>\n",
       "      <td>...</td>\n",
       "      <td>...</td>\n",
       "      <td>...</td>\n",
       "    </tr>\n",
       "    <tr>\n",
       "      <th>186</th>\n",
       "      <td>1</td>\n",
       "      <td>2</td>\n",
       "      <td>1</td>\n",
       "      <td>1</td>\n",
       "      <td>2</td>\n",
       "      <td>1</td>\n",
       "      <td>1</td>\n",
       "      <td>1</td>\n",
       "    </tr>\n",
       "    <tr>\n",
       "      <th>187</th>\n",
       "      <td>0</td>\n",
       "      <td>1</td>\n",
       "      <td>1</td>\n",
       "      <td>1</td>\n",
       "      <td>2</td>\n",
       "      <td>0</td>\n",
       "      <td>0</td>\n",
       "      <td>0</td>\n",
       "    </tr>\n",
       "    <tr>\n",
       "      <th>188</th>\n",
       "      <td>0</td>\n",
       "      <td>0</td>\n",
       "      <td>0</td>\n",
       "      <td>0</td>\n",
       "      <td>3</td>\n",
       "      <td>0</td>\n",
       "      <td>0</td>\n",
       "      <td>0</td>\n",
       "    </tr>\n",
       "    <tr>\n",
       "      <th>189</th>\n",
       "      <td>0</td>\n",
       "      <td>0</td>\n",
       "      <td>0</td>\n",
       "      <td>0</td>\n",
       "      <td>2</td>\n",
       "      <td>1</td>\n",
       "      <td>0</td>\n",
       "      <td>0</td>\n",
       "    </tr>\n",
       "    <tr>\n",
       "      <th>190</th>\n",
       "      <td>0</td>\n",
       "      <td>1</td>\n",
       "      <td>0</td>\n",
       "      <td>0</td>\n",
       "      <td>3</td>\n",
       "      <td>0</td>\n",
       "      <td>1</td>\n",
       "      <td>0</td>\n",
       "    </tr>\n",
       "  </tbody>\n",
       "</table>\n",
       "<p>191 rows × 8 columns</p>\n",
       "</div>"
      ],
      "text/plain": [
       "     HELPSUP  TIMETOG  WRKHRD  TOGTHR  VIOLENT  ALONG  SUPPORT  PROUD\n",
       "0          2        1       2       1        2      1        1      0\n",
       "1          0        1       1       0        1      0        0      0\n",
       "2          1        2       2       1        3      1        1      1\n",
       "3          1        2       1       2        2      1        1      1\n",
       "4          1        1       1       1        1      1        1      1\n",
       "..       ...      ...     ...     ...      ...    ...      ...    ...\n",
       "186        1        2       1       1        2      1        1      1\n",
       "187        0        1       1       1        2      0        0      0\n",
       "188        0        0       0       0        3      0        0      0\n",
       "189        0        0       0       0        2      1        0      0\n",
       "190        0        1       0       0        3      0        1      0\n",
       "\n",
       "[191 rows x 8 columns]"
      ]
     },
     "execution_count": 236,
     "metadata": {},
     "output_type": "execute_result"
    }
   ],
   "source": [
    "cohesion = pd.DataFrame(quanfin, columns = ['HELPSUP','TIMETOG','WRKHRD','TOGTHR','VIOLENT','ALONG','SUPPORT','PROUD'])\n",
    "cohesion"
   ]
  },
  {
   "cell_type": "code",
   "execution_count": 168,
   "id": "42183440-1a54-4899-8a8d-3f39413a7c8c",
   "metadata": {
    "tags": []
   },
   "outputs": [
    {
     "name": "stdout",
     "output_type": "stream",
     "text": [
      "{10: 24, 3: 12, 12: 14, 11: 17, 8: 23, 13: 7, 9: 26, 4: 14, 6: 12, 7: 16, 5: 14, 15: 5, 14: 4, 2: 1, 17: 2}\n",
      "\n",
      "Cohesion Score Mean is  8.465968586387435\n",
      "\n",
      "Cohesion Score SD is  3.1900575772823307\n"
     ]
    }
   ],
   "source": [
    "sum_cohesion = cohesion.sum(axis=1)\n",
    "sum_cohesion_rate = collections.Counter(sum_cohesion)\n",
    "print(dict(sum_cohesion_rate))\n",
    "\n",
    "sum_cohesion_mean = stat.mean(sum_cohesion)\n",
    "print()\n",
    "print(\"Cohesion Score Mean is \", sum_cohesion_mean)\n",
    "\n",
    "sum_cohesion_stdev = stat.stdev(sum_cohesion)\n",
    "print()\n",
    "print(\"Cohesion Score SD is \", sum_cohesion_stdev)"
   ]
  },
  {
   "cell_type": "code",
   "execution_count": 169,
   "id": "8ed17c1d-dc89-4029-9fc4-fb81b8f13af7",
   "metadata": {
    "tags": []
   },
   "outputs": [
    {
     "name": "stdout",
     "output_type": "stream",
     "text": [
      "{'Moderate': 131, 'Most Cohesive': 53, 'Least Cohesive': 7}\n"
     ]
    }
   ],
   "source": [
    "cohesion_rate = []\n",
    "for i in sum_cohesion:\n",
    "    if i < 7:\n",
    "        cohesion_rate.append(\"Most Cohesive\")\n",
    "    elif i <= 14:\n",
    "        cohesion_rate.append(\"Moderate\")\n",
    "    else:\n",
    "        cohesion_rate.append(\"Least Cohesive\")\n",
    "        \n",
    "freq_cohesion_rate = collections.Counter(cohesion_rate)\n",
    "print(dict(freq_cohesion_rate))"
   ]
  },
  {
   "cell_type": "markdown",
   "id": "4544e3b7-8f75-4581-81ff-d980fbbe834d",
   "metadata": {},
   "source": [
    "### Expressiveness Category"
   ]
  },
  {
   "cell_type": "code",
   "execution_count": 170,
   "id": "e157b9b6-b9b6-4e4d-be08-49ab612ecba3",
   "metadata": {
    "tags": []
   },
   "outputs": [],
   "source": [
    "expression = pd.DataFrame(quanfin, columns = ['OPENCON','PERPROB','BEGDISC'])"
   ]
  },
  {
   "cell_type": "code",
   "execution_count": 171,
   "id": "478d0717-dc2b-4bd8-aec4-e002be79a37e",
   "metadata": {
    "tags": []
   },
   "outputs": [
    {
     "name": "stdout",
     "output_type": "stream",
     "text": [
      "{5: 37, 1: 8, 3: 36, 4: 30, 6: 22, 2: 26, 7: 10, 0: 12, 8: 7, 9: 3}\n",
      "\n",
      "Expressiveness Score Mean is  3.968586387434555\n",
      "\n",
      "Expressiveness Score SD is  2.0593963325062123\n"
     ]
    }
   ],
   "source": [
    "sum_expression = expression.sum(axis=1)\n",
    "sum_expression_rate = collections.Counter(sum_expression)\n",
    "print(dict(sum_expression_rate))\n",
    "\n",
    "sum_expression_mean = stat.mean(sum_expression)\n",
    "print()\n",
    "print(\"Expressiveness Score Mean is \", sum_expression_mean)\n",
    "\n",
    "sum_expression_stdev = stat.stdev(sum_expression)\n",
    "print()\n",
    "print(\"Expressiveness Score SD is \", sum_expression_stdev)"
   ]
  },
  {
   "cell_type": "code",
   "execution_count": 172,
   "id": "a748d92d-f685-4e2f-9f01-885a268dff30",
   "metadata": {
    "tags": []
   },
   "outputs": [
    {
     "name": "stdout",
     "output_type": "stream",
     "text": [
      "{'Moderate': 125, 'Most Expressive': 46, 'Least Expressive': 20}\n"
     ]
    }
   ],
   "source": [
    "expression_rate = []\n",
    "for i in sum_expression:\n",
    "    if i < 3:\n",
    "        expression_rate.append(\"Most Expressive\")\n",
    "    elif i <= 6:\n",
    "        expression_rate.append(\"Moderate\")\n",
    "    else:\n",
    "        expression_rate.append(\"Least Expressive\")\n",
    "        \n",
    "freq_expression_rate = collections.Counter(expression_rate)\n",
    "print(dict(freq_expression_rate))"
   ]
  },
  {
   "cell_type": "markdown",
   "id": "8a883826-6ff1-44af-884d-773fc7d84149",
   "metadata": {},
   "source": [
    "### Conflict Category"
   ]
  },
  {
   "cell_type": "code",
   "execution_count": 173,
   "id": "18b16240-10c7-4558-aa4d-6c619e63b268",
   "metadata": {
    "tags": []
   },
   "outputs": [],
   "source": [
    "conflict = pd.DataFrame(quanfin, columns = ['ARGUEM','MADEO','TEMPER','PUTFOWN','RVOICE'])"
   ]
  },
  {
   "cell_type": "code",
   "execution_count": 174,
   "id": "daafa994-d65e-49df-8542-63f44e93609b",
   "metadata": {
    "tags": []
   },
   "outputs": [
    {
     "name": "stdout",
     "output_type": "stream",
     "text": [
      "{8: 21, 5: 16, 7: 29, 13: 10, 4: 14, 9: 24, 6: 24, 11: 11, 3: 3, 12: 10, 10: 20, 1: 3, 14: 2, 2: 3, 15: 1}\n",
      "\n",
      "Conflict Score Mean is  7.848167539267016\n",
      "\n",
      "Conflict Score SD is  2.858594482239152\n"
     ]
    }
   ],
   "source": [
    "sum_conflict = conflict.sum(axis=1)\n",
    "sum_conflict_rate = collections.Counter(sum_conflict)\n",
    "print(dict(sum_conflict_rate))\n",
    "\n",
    "sum_conflict_mean = stat.mean(sum_conflict)\n",
    "print()\n",
    "print(\"Conflict Score Mean is \", sum_conflict_mean)\n",
    "\n",
    "sum_conflict_stdev = stat.stdev(sum_conflict)\n",
    "print()\n",
    "print(\"Conflict Score SD is \", sum_conflict_stdev)"
   ]
  },
  {
   "cell_type": "code",
   "execution_count": 175,
   "id": "0833cbee-0efa-4045-8f11-2cb12d11560c",
   "metadata": {
    "tags": []
   },
   "outputs": [
    {
     "name": "stdout",
     "output_type": "stream",
     "text": [
      "{'Moderate': 139, 'Most Conflict': 39, 'Least Conflict': 13}\n"
     ]
    }
   ],
   "source": [
    "conflict_rate = []\n",
    "for i in sum_conflict:\n",
    "    if i < 6:\n",
    "        conflict_rate.append(\"Most Conflict\")\n",
    "    elif i <= 12:\n",
    "        conflict_rate.append(\"Moderate\")\n",
    "    else:\n",
    "        conflict_rate.append(\"Least Conflict\")\n",
    "\n",
    "freq_conflict_rate = collections.Counter(conflict_rate)\n",
    "print(dict(freq_conflict_rate))"
   ]
  },
  {
   "cell_type": "markdown",
   "id": "c34993fc-c82e-4338-a03f-3cc8860b42ad",
   "metadata": {},
   "source": [
    "## Parent/Sibling Adult-Child Relationship"
   ]
  },
  {
   "cell_type": "markdown",
   "id": "de14c90e-a22c-4959-8408-1a7bec6fa54e",
   "metadata": {},
   "source": [
    "### Father Relationship"
   ]
  },
  {
   "cell_type": "code",
   "execution_count": 176,
   "id": "3351504d-ceb6-4d58-b375-455d6cad8094",
   "metadata": {
    "tags": []
   },
   "outputs": [
    {
     "data": {
      "text/html": [
       "<div>\n",
       "<style scoped>\n",
       "    .dataframe tbody tr th:only-of-type {\n",
       "        vertical-align: middle;\n",
       "    }\n",
       "\n",
       "    .dataframe tbody tr th {\n",
       "        vertical-align: top;\n",
       "    }\n",
       "\n",
       "    .dataframe thead th {\n",
       "        text-align: right;\n",
       "    }\n",
       "</style>\n",
       "<table border=\"1\" class=\"dataframe\">\n",
       "  <thead>\n",
       "    <tr style=\"text-align: right;\">\n",
       "      <th></th>\n",
       "      <th>FNAG</th>\n",
       "      <th>FOPN</th>\n",
       "      <th>FCARE</th>\n",
       "      <th>FMANIP</th>\n",
       "      <th>FSEE</th>\n",
       "      <th>FHAPP</th>\n",
       "      <th>FDOM</th>\n",
       "      <th>FDEM</th>\n",
       "      <th>FRELY</th>\n",
       "      <th>FGUILTY</th>\n",
       "      <th>FCRIT</th>\n",
       "      <th>PMOF</th>\n",
       "      <th>FCRISIS</th>\n",
       "    </tr>\n",
       "  </thead>\n",
       "  <tbody>\n",
       "    <tr>\n",
       "      <th>0</th>\n",
       "      <td>0.0</td>\n",
       "      <td>0.0</td>\n",
       "      <td>2.0</td>\n",
       "      <td>2.0</td>\n",
       "      <td>0.0</td>\n",
       "      <td>0.0</td>\n",
       "      <td>2.0</td>\n",
       "      <td>0.0</td>\n",
       "      <td>0.0</td>\n",
       "      <td>2.0</td>\n",
       "      <td>2.0</td>\n",
       "      <td>1.0</td>\n",
       "      <td>1.0</td>\n",
       "    </tr>\n",
       "    <tr>\n",
       "      <th>1</th>\n",
       "      <td>2.0</td>\n",
       "      <td>2.0</td>\n",
       "      <td>2.0</td>\n",
       "      <td>2.0</td>\n",
       "      <td>1.0</td>\n",
       "      <td>2.0</td>\n",
       "      <td>2.0</td>\n",
       "      <td>2.0</td>\n",
       "      <td>2.0</td>\n",
       "      <td>1.0</td>\n",
       "      <td>1.0</td>\n",
       "      <td>2.0</td>\n",
       "      <td>1.0</td>\n",
       "    </tr>\n",
       "    <tr>\n",
       "      <th>2</th>\n",
       "      <td>2.0</td>\n",
       "      <td>1.0</td>\n",
       "      <td>3.0</td>\n",
       "      <td>2.0</td>\n",
       "      <td>1.0</td>\n",
       "      <td>3.0</td>\n",
       "      <td>1.0</td>\n",
       "      <td>1.0</td>\n",
       "      <td>0.0</td>\n",
       "      <td>3.0</td>\n",
       "      <td>2.0</td>\n",
       "      <td>1.0</td>\n",
       "      <td>1.0</td>\n",
       "    </tr>\n",
       "    <tr>\n",
       "      <th>3</th>\n",
       "      <td>2.0</td>\n",
       "      <td>1.0</td>\n",
       "      <td>1.0</td>\n",
       "      <td>2.0</td>\n",
       "      <td>1.0</td>\n",
       "      <td>2.0</td>\n",
       "      <td>2.0</td>\n",
       "      <td>2.0</td>\n",
       "      <td>2.0</td>\n",
       "      <td>2.0</td>\n",
       "      <td>1.0</td>\n",
       "      <td>2.0</td>\n",
       "      <td>2.0</td>\n",
       "    </tr>\n",
       "    <tr>\n",
       "      <th>4</th>\n",
       "      <td>3.0</td>\n",
       "      <td>1.0</td>\n",
       "      <td>3.0</td>\n",
       "      <td>3.0</td>\n",
       "      <td>1.0</td>\n",
       "      <td>2.0</td>\n",
       "      <td>3.0</td>\n",
       "      <td>3.0</td>\n",
       "      <td>1.0</td>\n",
       "      <td>2.0</td>\n",
       "      <td>1.0</td>\n",
       "      <td>2.0</td>\n",
       "      <td>1.0</td>\n",
       "    </tr>\n",
       "    <tr>\n",
       "      <th>...</th>\n",
       "      <td>...</td>\n",
       "      <td>...</td>\n",
       "      <td>...</td>\n",
       "      <td>...</td>\n",
       "      <td>...</td>\n",
       "      <td>...</td>\n",
       "      <td>...</td>\n",
       "      <td>...</td>\n",
       "      <td>...</td>\n",
       "      <td>...</td>\n",
       "      <td>...</td>\n",
       "      <td>...</td>\n",
       "      <td>...</td>\n",
       "    </tr>\n",
       "    <tr>\n",
       "      <th>184</th>\n",
       "      <td>1.0</td>\n",
       "      <td>1.0</td>\n",
       "      <td>1.0</td>\n",
       "      <td>2.0</td>\n",
       "      <td>1.0</td>\n",
       "      <td>1.0</td>\n",
       "      <td>2.0</td>\n",
       "      <td>2.0</td>\n",
       "      <td>2.0</td>\n",
       "      <td>1.0</td>\n",
       "      <td>1.0</td>\n",
       "      <td>2.0</td>\n",
       "      <td>1.0</td>\n",
       "    </tr>\n",
       "    <tr>\n",
       "      <th>185</th>\n",
       "      <td>3.0</td>\n",
       "      <td>0.0</td>\n",
       "      <td>2.0</td>\n",
       "      <td>3.0</td>\n",
       "      <td>1.0</td>\n",
       "      <td>1.0</td>\n",
       "      <td>2.0</td>\n",
       "      <td>2.0</td>\n",
       "      <td>0.0</td>\n",
       "      <td>2.0</td>\n",
       "      <td>2.0</td>\n",
       "      <td>1.0</td>\n",
       "      <td>1.0</td>\n",
       "    </tr>\n",
       "    <tr>\n",
       "      <th>186</th>\n",
       "      <td>1.0</td>\n",
       "      <td>1.0</td>\n",
       "      <td>2.0</td>\n",
       "      <td>2.0</td>\n",
       "      <td>1.0</td>\n",
       "      <td>2.0</td>\n",
       "      <td>2.0</td>\n",
       "      <td>2.0</td>\n",
       "      <td>1.0</td>\n",
       "      <td>2.0</td>\n",
       "      <td>1.0</td>\n",
       "      <td>1.0</td>\n",
       "      <td>1.0</td>\n",
       "    </tr>\n",
       "    <tr>\n",
       "      <th>189</th>\n",
       "      <td>3.0</td>\n",
       "      <td>1.0</td>\n",
       "      <td>2.0</td>\n",
       "      <td>3.0</td>\n",
       "      <td>0.0</td>\n",
       "      <td>3.0</td>\n",
       "      <td>3.0</td>\n",
       "      <td>2.0</td>\n",
       "      <td>0.0</td>\n",
       "      <td>2.0</td>\n",
       "      <td>0.0</td>\n",
       "      <td>1.0</td>\n",
       "      <td>1.0</td>\n",
       "    </tr>\n",
       "    <tr>\n",
       "      <th>190</th>\n",
       "      <td>3.0</td>\n",
       "      <td>0.0</td>\n",
       "      <td>2.0</td>\n",
       "      <td>3.0</td>\n",
       "      <td>0.0</td>\n",
       "      <td>1.0</td>\n",
       "      <td>3.0</td>\n",
       "      <td>3.0</td>\n",
       "      <td>0.0</td>\n",
       "      <td>0.0</td>\n",
       "      <td>1.0</td>\n",
       "      <td>0.0</td>\n",
       "      <td>2.0</td>\n",
       "    </tr>\n",
       "  </tbody>\n",
       "</table>\n",
       "<p>181 rows × 13 columns</p>\n",
       "</div>"
      ],
      "text/plain": [
       "     FNAG  FOPN  FCARE  FMANIP  FSEE  FHAPP  FDOM  FDEM  FRELY  FGUILTY  \\\n",
       "0     0.0   0.0    2.0     2.0   0.0    0.0   2.0   0.0    0.0      2.0   \n",
       "1     2.0   2.0    2.0     2.0   1.0    2.0   2.0   2.0    2.0      1.0   \n",
       "2     2.0   1.0    3.0     2.0   1.0    3.0   1.0   1.0    0.0      3.0   \n",
       "3     2.0   1.0    1.0     2.0   1.0    2.0   2.0   2.0    2.0      2.0   \n",
       "4     3.0   1.0    3.0     3.0   1.0    2.0   3.0   3.0    1.0      2.0   \n",
       "..    ...   ...    ...     ...   ...    ...   ...   ...    ...      ...   \n",
       "184   1.0   1.0    1.0     2.0   1.0    1.0   2.0   2.0    2.0      1.0   \n",
       "185   3.0   0.0    2.0     3.0   1.0    1.0   2.0   2.0    0.0      2.0   \n",
       "186   1.0   1.0    2.0     2.0   1.0    2.0   2.0   2.0    1.0      2.0   \n",
       "189   3.0   1.0    2.0     3.0   0.0    3.0   3.0   2.0    0.0      2.0   \n",
       "190   3.0   0.0    2.0     3.0   0.0    1.0   3.0   3.0    0.0      0.0   \n",
       "\n",
       "     FCRIT  PMOF  FCRISIS  \n",
       "0      2.0   1.0      1.0  \n",
       "1      1.0   2.0      1.0  \n",
       "2      2.0   1.0      1.0  \n",
       "3      1.0   2.0      2.0  \n",
       "4      1.0   2.0      1.0  \n",
       "..     ...   ...      ...  \n",
       "184    1.0   2.0      1.0  \n",
       "185    2.0   1.0      1.0  \n",
       "186    1.0   1.0      1.0  \n",
       "189    0.0   1.0      1.0  \n",
       "190    1.0   0.0      2.0  \n",
       "\n",
       "[181 rows x 13 columns]"
      ]
     },
     "execution_count": 176,
     "metadata": {},
     "output_type": "execute_result"
    }
   ],
   "source": [
    "pacqf = pd.DataFrame(quanfin, columns = ['FNAG','FOPN','FCARE','FMANIP','FSEE','FHAPP','FDOM','FDEM','FRELY','FGUILTY','FCRIT','PMOF','FCRISIS']).dropna()\n",
    "pacqf"
   ]
  },
  {
   "cell_type": "code",
   "execution_count": 177,
   "id": "ef1bf84f-83c4-49fa-815c-1b35c9888246",
   "metadata": {
    "tags": []
   },
   "outputs": [
    {
     "name": "stdout",
     "output_type": "stream",
     "text": [
      "col_0  count\n",
      "FNAG        \n",
      "0.0       35\n",
      "1.0       60\n",
      "2.0       58\n",
      "3.0       28 col_0  count\n",
      "FOPN        \n",
      "0.0       42\n",
      "1.0      115\n",
      "2.0       20\n",
      "3.0        4 col_0  count\n",
      "FCARE       \n",
      "0.0       19\n",
      "1.0       48\n",
      "2.0       71\n",
      "3.0       43 col_0   count\n",
      "FMANIP       \n",
      "0.0        18\n",
      "1.0        25\n",
      "2.0        76\n",
      "3.0        62 col_0  count\n",
      "FSEE        \n",
      "0.0       56\n",
      "1.0       98\n",
      "2.0       20\n",
      "3.0        7 col_0  count\n",
      "FHAPP       \n",
      "0.0       20\n",
      "1.0       71\n",
      "2.0       64\n",
      "3.0       26 col_0  count\n",
      "FDOM        \n",
      "0.0       18\n",
      "1.0       27\n",
      "2.0       81\n",
      "3.0       55 col_0  count\n",
      "FDEM        \n",
      "0.0       15\n",
      "1.0       32\n",
      "2.0       85\n",
      "3.0       49 col_0  count\n",
      "FRELY       \n",
      "0.0       99\n",
      "1.0       60\n",
      "2.0       15\n",
      "3.0        7 col_0    count\n",
      "FGUILTY       \n",
      "0.0         24\n",
      "1.0         51\n",
      "2.0         75\n",
      "3.0         31 col_0  count\n",
      "FCRIT       \n",
      "0.0       40\n",
      "1.0       56\n",
      "2.0       67\n",
      "3.0       18 col_0  count\n",
      "PMOF        \n",
      "0.0       32\n",
      "1.0       97\n",
      "2.0       38\n",
      "3.0       14 col_0    count\n",
      "FCRISIS       \n",
      "0.0         19\n",
      "1.0         75\n",
      "2.0         64\n",
      "3.0         23\n"
     ]
    }
   ],
   "source": [
    "fnag = pd.crosstab(index = pacqf['FNAG'], columns = 'count')\n",
    "fopn = pd.crosstab(index = pacqf['FOPN'], columns = 'count')\n",
    "fcare = pd.crosstab(index = pacqf['FCARE'], columns = 'count')\n",
    "fmanip = pd.crosstab(index = pacqf['FMANIP'], columns = 'count')\n",
    "fsee = pd.crosstab(index = pacqf['FSEE'], columns = 'count')\n",
    "fhapp = pd.crosstab(index = pacqf['FHAPP'], columns = 'count')\n",
    "fdom = pd.crosstab(index = pacqf['FDOM'], columns = 'count')\n",
    "fdem = pd.crosstab(index = pacqf['FDEM'], columns = 'count')\n",
    "frely = pd.crosstab(index = pacqf['FRELY'], columns = 'count')\n",
    "fguilty = pd.crosstab(index = pacqf['FGUILTY'], columns = 'count')\n",
    "fcrit = pd.crosstab(index = pacqf['FCRIT'], columns = 'count')\n",
    "pmof = pd.crosstab(index = pacqf['PMOF'], columns = 'count')\n",
    "fcrisis = pd.crosstab(index = pacqf['FCRISIS'], columns = 'count')\n",
    "\n",
    "print(fnag,fopn,fcare,fmanip,fsee,fhapp,fdom,fdem,frely,fguilty,fcrit,pmof,fcrisis)"
   ]
  },
  {
   "cell_type": "markdown",
   "id": "5e4bb71e-ac79-4254-9d0e-a04aa5dbb856",
   "metadata": {},
   "source": [
    "### Mean and Standard Deviation per Question"
   ]
  },
  {
   "cell_type": "code",
   "execution_count": 178,
   "id": "367c524d-096a-4994-822d-0507a8b044f1",
   "metadata": {
    "tags": []
   },
   "outputs": [
    {
     "name": "stdout",
     "output_type": "stream",
     "text": [
      "SD of FNAG: 0.9733086098931217\n",
      "SD of FOPN: 0.6536951679653445\n",
      "SD of FCARE: 0.9332872916820544\n",
      "SD of FMANIP: 0.9398418162947586\n",
      "SD of FSEE: 0.7502813059514142\n",
      "SD of FHAPP: 0.8726806496466212\n",
      "SD of FDOM: 0.9238999730603927\n",
      "SD of FDEM: 0.8821258991226865\n",
      "SD of FRELY: 0.7990556120111767\n",
      "SD of FGUILTY: 0.9203050178972463\n",
      "SD of FCRIT: 0.9341419806563427\n",
      "SD of PMOF: 0.8151798018041728\n",
      "SD of FCRISIS: 0.8473770601900195\n"
     ]
    }
   ],
   "source": [
    "fnag_sd = stat.stdev(pacqf['FNAG'].dropna())\n",
    "fopn_sd = stat.stdev(pacqf['FOPN'].dropna())\n",
    "fcare_sd = stat.stdev(pacqf['FCARE'].dropna())\n",
    "fmanip_sd = stat.stdev(pacqf['FMANIP'].dropna())\n",
    "fsee_sd = stat.stdev(pacqf['FSEE'].dropna())\n",
    "fhapp_sd = stat.stdev(pacqf['FHAPP'].dropna())\n",
    "fdom_sd = stat.stdev(pacqf['FDOM'].dropna())\n",
    "fdem_sd = stat.stdev(pacqf['FDEM'].dropna())\n",
    "frely_sd = stat.stdev(pacqf['FRELY'].dropna())\n",
    "fguilty_sd = stat.stdev(pacqf['FGUILTY'].dropna())\n",
    "fcrit_sd = stat.stdev(pacqf['FCRIT'].dropna())\n",
    "pmof_sd = stat.stdev(pacqf['PMOF'].dropna())\n",
    "fcrisis_sd = stat.stdev(pacqf['FCRISIS'].dropna())\n",
    "\n",
    "\n",
    "print(\"SD of FNAG:\", fnag_sd)\n",
    "print(\"SD of FOPN:\", fopn_sd)\n",
    "print(\"SD of FCARE:\", fcare_sd)\n",
    "print(\"SD of FMANIP:\", fmanip_sd)\n",
    "print(\"SD of FSEE:\", fsee_sd)\n",
    "print(\"SD of FHAPP:\", fhapp_sd)\n",
    "print(\"SD of FDOM:\", fdom_sd)\n",
    "print(\"SD of FDEM:\", fdem_sd)\n",
    "print(\"SD of FRELY:\", frely_sd)\n",
    "print(\"SD of FGUILTY:\", fguilty_sd)\n",
    "print(\"SD of FCRIT:\", fcrit_sd)\n",
    "print(\"SD of PMOF:\", pmof_sd)\n",
    "print(\"SD of FCRISIS:\", fcrisis_sd)"
   ]
  },
  {
   "cell_type": "code",
   "execution_count": 179,
   "id": "767a46be-f581-4fec-9146-572553086342",
   "metadata": {
    "tags": []
   },
   "outputs": [
    {
     "name": "stdout",
     "output_type": "stream",
     "text": [
      "Mean of FNAG: 1.4364640883977902\n",
      "Mean of FOPN: 0.9226519337016574\n",
      "Mean of FCARE: 1.7624309392265194\n",
      "Mean of FMANIP: 2.005524861878453\n",
      "Mean of FSEE: 0.8784530386740331\n",
      "Mean of FHAPP: 1.5303867403314917\n",
      "Mean of FDOM: 1.9558011049723756\n",
      "Mean of FDEM: 1.9281767955801106\n",
      "Mean of FRELY: 0.6132596685082873\n",
      "Mean of FGUILTY: 1.6243093922651934\n",
      "Mean of FCRIT: 1.3480662983425415\n",
      "Mean of PMOF: 1.1878453038674033\n",
      "Mean of FCRISIS: 1.5027624309392265\n"
     ]
    }
   ],
   "source": [
    "fnag_mean = stat.mean(pacqf['FNAG'].dropna())\n",
    "fopn_mean = stat.mean(pacqf['FOPN'].dropna())\n",
    "fcare_mean = stat.mean(pacqf['FCARE'].dropna())\n",
    "fmanip_mean = stat.mean(pacqf['FMANIP'].dropna())\n",
    "fsee_mean = stat.mean(pacqf['FSEE'].dropna())\n",
    "fhapp_mean = stat.mean(pacqf['FHAPP'].dropna())\n",
    "fdom_mean = stat.mean(pacqf['FDOM'].dropna())\n",
    "fdem_mean = stat.mean(pacqf['FDEM'].dropna())\n",
    "frely_mean = stat.mean(pacqf['FRELY'].dropna())\n",
    "fguilty_mean = stat.mean(pacqf['FGUILTY'].dropna())\n",
    "fcrit_mean = stat.mean(pacqf['FCRIT'].dropna())\n",
    "pmof_mean = stat.mean(pacqf['PMOF'].dropna())\n",
    "fcrisis_mean = stat.mean(pacqf['FCRISIS'].dropna())\n",
    "\n",
    "\n",
    "print(\"Mean of FNAG:\", fnag_mean)\n",
    "print(\"Mean of FOPN:\", fopn_mean)\n",
    "print(\"Mean of FCARE:\", fcare_mean)\n",
    "print(\"Mean of FMANIP:\", fmanip_mean)\n",
    "print(\"Mean of FSEE:\", fsee_mean)\n",
    "print(\"Mean of FHAPP:\", fhapp_mean)\n",
    "print(\"Mean of FDOM:\", fdom_mean)\n",
    "print(\"Mean of FDEM:\", fdem_mean)\n",
    "print(\"Mean of FRELY:\", frely_mean)\n",
    "print(\"Mean of FGUILTY:\", fguilty_mean)\n",
    "print(\"Mean of FCRIT:\", fcrit_mean)\n",
    "print(\"Mean of PMOF:\", pmof_mean)\n",
    "print(\"Mean of FCRISIS:\", fcrisis_mean)"
   ]
  },
  {
   "cell_type": "code",
   "execution_count": 180,
   "id": "6c06060e-c79d-4845-bf5a-a1a491b94c1a",
   "metadata": {
    "tags": []
   },
   "outputs": [
    {
     "name": "stdout",
     "output_type": "stream",
     "text": [
      "['Moderate', 'Low', 'Moderate', 'High', 'Low', 'Moderate', 'Moderate', 'Moderate', 'Low', 'Moderate', 'Moderate', 'Moderate', 'Moderate']\n"
     ]
    }
   ],
   "source": [
    "pacfq_interpretation = [fnag_mean, fopn_mean, fcare_mean, fmanip_mean, fsee_mean,\n",
    "                           fhapp_mean, fdom_mean,fdem_mean, frely_mean, fguilty_mean,\n",
    "                           fcrit_mean, pmof_mean, fcrisis_mean]\n",
    "\n",
    "pacfq_score = []\n",
    "for i in pacfq_interpretation:\n",
    "    if i < 1:\n",
    "        pacfq_score.append(\"Low\")\n",
    "    elif i <2: \n",
    "        pacfq_score.append(\"Moderate\")\n",
    "    else:\n",
    "        pacfq_score.append(\"High\")\n",
    "print(pacfq_score)"
   ]
  },
  {
   "cell_type": "markdown",
   "id": "0433ef99-8af3-4663-a14b-3162530d46ff",
   "metadata": {},
   "source": [
    "#### Regard Scale"
   ]
  },
  {
   "cell_type": "code",
   "execution_count": 181,
   "id": "6958391e-3245-4ea9-b580-9056cc601a63",
   "metadata": {
    "tags": []
   },
   "outputs": [],
   "source": [
    "pacqf_regard = pd.DataFrame(quanfin, columns = ['FOPN','FSEE','PMOF','FRELY']).dropna()"
   ]
  },
  {
   "cell_type": "code",
   "execution_count": 182,
   "id": "891608b4-92f5-4af3-a0fc-8a0f3c9b2232",
   "metadata": {
    "tags": []
   },
   "outputs": [
    {
     "name": "stdout",
     "output_type": "stream",
     "text": [
      "{1.0: 17, 7.0: 9, 3.0: 32, 6.0: 15, 5.0: 21, 8.0: 2, 4.0: 36, 0.0: 15, 2.0: 28, 12.0: 3, 9.0: 1, 10.0: 2}\n",
      "\n",
      "Regard for Father Mean Score is 3.6022099447513813\n",
      "\n",
      "Regard for Father SD Score is 2.34681713061909\n"
     ]
    }
   ],
   "source": [
    "sum_pacqf_regard = pacqf_regard.sum(axis=1)\n",
    "sum_pacqf_regard_rate = collections.Counter(sum_pacqf_regard)\n",
    "print(dict(sum_pacqf_regard_rate))\n",
    "\n",
    "sum_pacqf_regard_mean = stat.mean(sum_pacqf_regard)\n",
    "print()\n",
    "print(\"Regard for Father Mean Score is\", sum_pacqf_regard_mean)\n",
    "\n",
    "sum_pacqf_regard_stdev = stat.stdev(sum_pacqf_regard)\n",
    "print()\n",
    "print(\"Regard for Father SD Score is\", sum_pacqf_regard_stdev)"
   ]
  },
  {
   "cell_type": "code",
   "execution_count": 183,
   "id": "c4149aa5-9e8e-42d1-b9c9-80bf61888b91",
   "metadata": {
    "tags": []
   },
   "outputs": [
    {
     "name": "stdout",
     "output_type": "stream",
     "text": [
      "{'Most Father Regard': 128, 'Moderate Father Regard': 50, 'Least Father Regard': 3}\n"
     ]
    }
   ],
   "source": [
    "pacqf_regard_rate = []\n",
    "for i in sum_pacqf_regard:\n",
    "    if i < 5:\n",
    "        pacqf_regard_rate.append(\"Most Father Regard\")\n",
    "    elif i <= 10:\n",
    "        pacqf_regard_rate.append(\"Moderate Father Regard\")\n",
    "    else:\n",
    "        pacqf_regard_rate.append(\"Least Father Regard\")\n",
    "        \n",
    "freq_pacqf_regard_rate = collections.Counter(pacqf_regard_rate)\n",
    "print(dict(freq_pacqf_regard_rate))"
   ]
  },
  {
   "cell_type": "markdown",
   "id": "92210c3f-357c-4ff9-ae38-66f025b28f7b",
   "metadata": {},
   "source": [
    "#### Responsibility Scale"
   ]
  },
  {
   "cell_type": "code",
   "execution_count": 184,
   "id": "fe1e16e4-c519-4399-a4d7-89cfe6f51e21",
   "metadata": {
    "tags": []
   },
   "outputs": [],
   "source": [
    "pacqf_respon = pd.DataFrame(quanfin, columns = ['FCARE','FHAPP','FGUILTY','FCRISIS']).dropna()"
   ]
  },
  {
   "cell_type": "code",
   "execution_count": 185,
   "id": "24a92c0a-4224-4ec0-855a-3a5eff95717d",
   "metadata": {
    "tags": []
   },
   "outputs": [
    {
     "name": "stdout",
     "output_type": "stream",
     "text": [
      "{5.0: 23, 6.0: 35, 10.0: 7, 7.0: 27, 8.0: 27, 12.0: 4, 1.0: 3, 11.0: 6, 9.0: 15, 3.0: 14, 4.0: 15, 2.0: 4, 0.0: 1}\n",
      "\n",
      "Responsibility for Father Mean Score is 6.419889502762431\n",
      "\n",
      "Responsibility for Father SD Score is 2.3898958575521134\n"
     ]
    }
   ],
   "source": [
    "sum_pacqf_respon = pacqf_respon.sum(axis=1)\n",
    "sum_pacqf_respon_rate = collections.Counter(sum_pacqf_respon)\n",
    "print(dict(sum_pacqf_respon_rate))\n",
    "\n",
    "sum_pacqf_respon_mean = stat.mean(sum_pacqf_respon)\n",
    "print()\n",
    "print(\"Responsibility for Father Mean Score is\", sum_pacqf_respon_mean)\n",
    "\n",
    "sum_pacqf_respon_stdev = stat.stdev(sum_pacqf_respon)\n",
    "print()\n",
    "print(\"Responsibility for Father SD Score is\", sum_pacqf_respon_stdev)"
   ]
  },
  {
   "cell_type": "code",
   "execution_count": 186,
   "id": "de75ac9e-b292-4860-99d7-fdae419d6711",
   "metadata": {
    "tags": []
   },
   "outputs": [
    {
     "name": "stdout",
     "output_type": "stream",
     "text": [
      "{'Moderate Father Responsibility': 134, 'Least Father Responsibility': 10, 'Most Father Responsibility': 37}\n"
     ]
    }
   ],
   "source": [
    "pacqf_respon_rate = []\n",
    "for i in sum_pacqf_respon:\n",
    "    if i < 5:\n",
    "        pacqf_respon_rate.append(\"Most Father Responsibility\")\n",
    "    elif i <= 10:\n",
    "        pacqf_respon_rate.append(\"Moderate Father Responsibility\")\n",
    "    else:\n",
    "        pacqf_respon_rate.append(\"Least Father Responsibility\")\n",
    "        \n",
    "freq_pacqf_respon_rate = collections.Counter(pacqf_respon_rate)\n",
    "print(dict(freq_pacqf_respon_rate))"
   ]
  },
  {
   "cell_type": "markdown",
   "id": "39810b8f-6ce1-4e2a-9580-9db5f86f6e01",
   "metadata": {},
   "source": [
    "#### Control Scale"
   ]
  },
  {
   "cell_type": "code",
   "execution_count": 187,
   "id": "32ff9f2c-9af0-4986-9721-9cada389feeb",
   "metadata": {
    "tags": []
   },
   "outputs": [],
   "source": [
    "pacqf_control = pd.DataFrame(quanfin, columns = ['FNAG','FMANIP','FDOM','FDEM','FCRIT']).dropna()"
   ]
  },
  {
   "cell_type": "code",
   "execution_count": 188,
   "id": "5074ed6c-175a-4d5c-b016-b8196254f27f",
   "metadata": {
    "tags": []
   },
   "outputs": [
    {
     "name": "stdout",
     "output_type": "stream",
     "text": [
      "{6.0: 10, 9.0: 18, 8.0: 18, 13.0: 16, 7.0: 16, 12.0: 6, 4.0: 7, 11.0: 21, 3.0: 6, 10.0: 32, 2.0: 6, 1.0: 3, 15.0: 7, 14.0: 5, 5.0: 5, 0.0: 5}\n",
      "\n",
      "Father Control Mean Score is 8.67403314917127\n",
      "\n",
      "Father Control SD Score is 3.5883824549982783\n"
     ]
    }
   ],
   "source": [
    "sum_pacqf_control = pacqf_control.sum(axis=1)\n",
    "sum_pacqf_control_rate = collections.Counter(sum_pacqf_control)\n",
    "print(dict(sum_pacqf_control_rate))\n",
    "\n",
    "sum_pacqf_control_mean = stat.mean(sum_pacqf_control)\n",
    "print()\n",
    "print(\"Father Control Mean Score is\", sum_pacqf_control_mean)\n",
    "\n",
    "sum_pacqf_control_stdev = stat.stdev(sum_pacqf_control)\n",
    "print()\n",
    "print(\"Father Control SD Score is\", sum_pacqf_control_stdev)"
   ]
  },
  {
   "cell_type": "code",
   "execution_count": 189,
   "id": "d282329f-87d2-4a63-a5d0-8d479822e156",
   "metadata": {
    "tags": []
   },
   "outputs": [
    {
     "name": "stdout",
     "output_type": "stream",
     "text": [
      "{'Moderate Father Control': 121, 'Least Father Control': 28, 'Most Father Control': 32}\n"
     ]
    }
   ],
   "source": [
    "pacqf_control_rate = []\n",
    "for i in sum_pacqf_control:\n",
    "    if i < 6:\n",
    "        pacqf_control_rate.append(\"Most Father Control\")\n",
    "    elif i <= 12:\n",
    "        pacqf_control_rate.append(\"Moderate Father Control\")\n",
    "    else:\n",
    "        pacqf_control_rate.append(\"Least Father Control\")\n",
    "\n",
    "freq_pacqf_control_rate = collections.Counter(pacqf_control_rate)\n",
    "print(dict(freq_pacqf_control_rate))"
   ]
  },
  {
   "cell_type": "markdown",
   "id": "cbeebc08-eb65-4dbd-9616-4b9a43145274",
   "metadata": {},
   "source": [
    "### Mother Relationship"
   ]
  },
  {
   "cell_type": "code",
   "execution_count": 190,
   "id": "1db51e87-66f1-4ae7-b995-c87844563524",
   "metadata": {
    "tags": []
   },
   "outputs": [
    {
     "data": {
      "text/html": [
       "<div>\n",
       "<style scoped>\n",
       "    .dataframe tbody tr th:only-of-type {\n",
       "        vertical-align: middle;\n",
       "    }\n",
       "\n",
       "    .dataframe tbody tr th {\n",
       "        vertical-align: top;\n",
       "    }\n",
       "\n",
       "    .dataframe thead th {\n",
       "        text-align: right;\n",
       "    }\n",
       "</style>\n",
       "<table border=\"1\" class=\"dataframe\">\n",
       "  <thead>\n",
       "    <tr style=\"text-align: right;\">\n",
       "      <th></th>\n",
       "      <th>MSEE</th>\n",
       "      <th>MHAPP</th>\n",
       "      <th>MCARE</th>\n",
       "      <th>MBF</th>\n",
       "      <th>MBURDEN</th>\n",
       "      <th>MAPPREC</th>\n",
       "      <th>MRELY</th>\n",
       "      <th>MCRISIS</th>\n",
       "      <th>MOPN</th>\n",
       "      <th>MPROTECT</th>\n",
       "      <th>MTOO</th>\n",
       "      <th>MREPAY</th>\n",
       "    </tr>\n",
       "  </thead>\n",
       "  <tbody>\n",
       "    <tr>\n",
       "      <th>0</th>\n",
       "      <td>0.0</td>\n",
       "      <td>0.0</td>\n",
       "      <td>1.0</td>\n",
       "      <td>2.0</td>\n",
       "      <td>0.0</td>\n",
       "      <td>0.0</td>\n",
       "      <td>2.0</td>\n",
       "      <td>1.0</td>\n",
       "      <td>1.0</td>\n",
       "      <td>0.0</td>\n",
       "      <td>1.0</td>\n",
       "      <td>0.0</td>\n",
       "    </tr>\n",
       "    <tr>\n",
       "      <th>1</th>\n",
       "      <td>0.0</td>\n",
       "      <td>2.0</td>\n",
       "      <td>1.0</td>\n",
       "      <td>1.0</td>\n",
       "      <td>1.0</td>\n",
       "      <td>0.0</td>\n",
       "      <td>1.0</td>\n",
       "      <td>1.0</td>\n",
       "      <td>2.0</td>\n",
       "      <td>2.0</td>\n",
       "      <td>2.0</td>\n",
       "      <td>1.0</td>\n",
       "    </tr>\n",
       "    <tr>\n",
       "      <th>2</th>\n",
       "      <td>0.0</td>\n",
       "      <td>0.0</td>\n",
       "      <td>1.0</td>\n",
       "      <td>0.0</td>\n",
       "      <td>2.0</td>\n",
       "      <td>1.0</td>\n",
       "      <td>2.0</td>\n",
       "      <td>3.0</td>\n",
       "      <td>1.0</td>\n",
       "      <td>0.0</td>\n",
       "      <td>2.0</td>\n",
       "      <td>0.0</td>\n",
       "    </tr>\n",
       "    <tr>\n",
       "      <th>3</th>\n",
       "      <td>1.0</td>\n",
       "      <td>1.0</td>\n",
       "      <td>1.0</td>\n",
       "      <td>2.0</td>\n",
       "      <td>2.0</td>\n",
       "      <td>1.0</td>\n",
       "      <td>2.0</td>\n",
       "      <td>2.0</td>\n",
       "      <td>1.0</td>\n",
       "      <td>2.0</td>\n",
       "      <td>2.0</td>\n",
       "      <td>1.0</td>\n",
       "    </tr>\n",
       "    <tr>\n",
       "      <th>4</th>\n",
       "      <td>0.0</td>\n",
       "      <td>1.0</td>\n",
       "      <td>0.0</td>\n",
       "      <td>1.0</td>\n",
       "      <td>2.0</td>\n",
       "      <td>1.0</td>\n",
       "      <td>1.0</td>\n",
       "      <td>0.0</td>\n",
       "      <td>0.0</td>\n",
       "      <td>0.0</td>\n",
       "      <td>0.0</td>\n",
       "      <td>1.0</td>\n",
       "    </tr>\n",
       "    <tr>\n",
       "      <th>...</th>\n",
       "      <td>...</td>\n",
       "      <td>...</td>\n",
       "      <td>...</td>\n",
       "      <td>...</td>\n",
       "      <td>...</td>\n",
       "      <td>...</td>\n",
       "      <td>...</td>\n",
       "      <td>...</td>\n",
       "      <td>...</td>\n",
       "      <td>...</td>\n",
       "      <td>...</td>\n",
       "      <td>...</td>\n",
       "    </tr>\n",
       "    <tr>\n",
       "      <th>186</th>\n",
       "      <td>1.0</td>\n",
       "      <td>2.0</td>\n",
       "      <td>2.0</td>\n",
       "      <td>2.0</td>\n",
       "      <td>2.0</td>\n",
       "      <td>0.0</td>\n",
       "      <td>1.0</td>\n",
       "      <td>1.0</td>\n",
       "      <td>1.0</td>\n",
       "      <td>0.0</td>\n",
       "      <td>2.0</td>\n",
       "      <td>0.0</td>\n",
       "    </tr>\n",
       "    <tr>\n",
       "      <th>187</th>\n",
       "      <td>0.0</td>\n",
       "      <td>0.0</td>\n",
       "      <td>0.0</td>\n",
       "      <td>0.0</td>\n",
       "      <td>2.0</td>\n",
       "      <td>1.0</td>\n",
       "      <td>1.0</td>\n",
       "      <td>2.0</td>\n",
       "      <td>1.0</td>\n",
       "      <td>0.0</td>\n",
       "      <td>1.0</td>\n",
       "      <td>0.0</td>\n",
       "    </tr>\n",
       "    <tr>\n",
       "      <th>188</th>\n",
       "      <td>0.0</td>\n",
       "      <td>1.0</td>\n",
       "      <td>1.0</td>\n",
       "      <td>0.0</td>\n",
       "      <td>2.0</td>\n",
       "      <td>0.0</td>\n",
       "      <td>2.0</td>\n",
       "      <td>0.0</td>\n",
       "      <td>0.0</td>\n",
       "      <td>0.0</td>\n",
       "      <td>3.0</td>\n",
       "      <td>0.0</td>\n",
       "    </tr>\n",
       "    <tr>\n",
       "      <th>189</th>\n",
       "      <td>0.0</td>\n",
       "      <td>3.0</td>\n",
       "      <td>0.0</td>\n",
       "      <td>3.0</td>\n",
       "      <td>3.0</td>\n",
       "      <td>0.0</td>\n",
       "      <td>3.0</td>\n",
       "      <td>1.0</td>\n",
       "      <td>1.0</td>\n",
       "      <td>0.0</td>\n",
       "      <td>3.0</td>\n",
       "      <td>0.0</td>\n",
       "    </tr>\n",
       "    <tr>\n",
       "      <th>190</th>\n",
       "      <td>0.0</td>\n",
       "      <td>0.0</td>\n",
       "      <td>0.0</td>\n",
       "      <td>1.0</td>\n",
       "      <td>3.0</td>\n",
       "      <td>1.0</td>\n",
       "      <td>2.0</td>\n",
       "      <td>2.0</td>\n",
       "      <td>0.0</td>\n",
       "      <td>0.0</td>\n",
       "      <td>2.0</td>\n",
       "      <td>0.0</td>\n",
       "    </tr>\n",
       "  </tbody>\n",
       "</table>\n",
       "<p>191 rows × 12 columns</p>\n",
       "</div>"
      ],
      "text/plain": [
       "     MSEE  MHAPP  MCARE  MBF  MBURDEN  MAPPREC  MRELY  MCRISIS  MOPN  \\\n",
       "0     0.0    0.0    1.0  2.0      0.0      0.0    2.0      1.0   1.0   \n",
       "1     0.0    2.0    1.0  1.0      1.0      0.0    1.0      1.0   2.0   \n",
       "2     0.0    0.0    1.0  0.0      2.0      1.0    2.0      3.0   1.0   \n",
       "3     1.0    1.0    1.0  2.0      2.0      1.0    2.0      2.0   1.0   \n",
       "4     0.0    1.0    0.0  1.0      2.0      1.0    1.0      0.0   0.0   \n",
       "..    ...    ...    ...  ...      ...      ...    ...      ...   ...   \n",
       "186   1.0    2.0    2.0  2.0      2.0      0.0    1.0      1.0   1.0   \n",
       "187   0.0    0.0    0.0  0.0      2.0      1.0    1.0      2.0   1.0   \n",
       "188   0.0    1.0    1.0  0.0      2.0      0.0    2.0      0.0   0.0   \n",
       "189   0.0    3.0    0.0  3.0      3.0      0.0    3.0      1.0   1.0   \n",
       "190   0.0    0.0    0.0  1.0      3.0      1.0    2.0      2.0   0.0   \n",
       "\n",
       "     MPROTECT  MTOO  MREPAY  \n",
       "0         0.0   1.0     0.0  \n",
       "1         2.0   2.0     1.0  \n",
       "2         0.0   2.0     0.0  \n",
       "3         2.0   2.0     1.0  \n",
       "4         0.0   0.0     1.0  \n",
       "..        ...   ...     ...  \n",
       "186       0.0   2.0     0.0  \n",
       "187       0.0   1.0     0.0  \n",
       "188       0.0   3.0     0.0  \n",
       "189       0.0   3.0     0.0  \n",
       "190       0.0   2.0     0.0  \n",
       "\n",
       "[191 rows x 12 columns]"
      ]
     },
     "execution_count": 190,
     "metadata": {},
     "output_type": "execute_result"
    }
   ],
   "source": [
    "pacqm = pd.DataFrame(quanfin, columns = ['MSEE', 'MHAPP','MCARE','MBF','MBURDEN','MAPPREC','MRELY','MCRISIS','MOPN','MPROTECT','MTOO','MREPAY'])\n",
    "pacqm"
   ]
  },
  {
   "cell_type": "code",
   "execution_count": 191,
   "id": "38552231-3c98-455e-8cb9-e232efb711e1",
   "metadata": {
    "tags": []
   },
   "outputs": [
    {
     "data": {
      "text/html": [
       "<div>\n",
       "<style scoped>\n",
       "    .dataframe tbody tr th:only-of-type {\n",
       "        vertical-align: middle;\n",
       "    }\n",
       "\n",
       "    .dataframe tbody tr th {\n",
       "        vertical-align: top;\n",
       "    }\n",
       "\n",
       "    .dataframe thead th {\n",
       "        text-align: right;\n",
       "    }\n",
       "</style>\n",
       "<table border=\"1\" class=\"dataframe\">\n",
       "  <thead>\n",
       "    <tr style=\"text-align: right;\">\n",
       "      <th>col_0</th>\n",
       "      <th>count</th>\n",
       "    </tr>\n",
       "    <tr>\n",
       "      <th>MREPAY</th>\n",
       "      <th></th>\n",
       "    </tr>\n",
       "  </thead>\n",
       "  <tbody>\n",
       "    <tr>\n",
       "      <th>0.0</th>\n",
       "      <td>94</td>\n",
       "    </tr>\n",
       "    <tr>\n",
       "      <th>1.0</th>\n",
       "      <td>80</td>\n",
       "    </tr>\n",
       "    <tr>\n",
       "      <th>2.0</th>\n",
       "      <td>7</td>\n",
       "    </tr>\n",
       "    <tr>\n",
       "      <th>3.0</th>\n",
       "      <td>3</td>\n",
       "    </tr>\n",
       "  </tbody>\n",
       "</table>\n",
       "</div>"
      ],
      "text/plain": [
       "col_0   count\n",
       "MREPAY       \n",
       "0.0        94\n",
       "1.0        80\n",
       "2.0         7\n",
       "3.0         3"
      ]
     },
     "execution_count": 191,
     "metadata": {},
     "output_type": "execute_result"
    }
   ],
   "source": [
    "mburden = pd.crosstab(index = pacqm['MBURDEN'], columns = 'count')\n",
    "mbf = pd.crosstab(index = pacqm['MBF'], columns = 'count')\n",
    "mcare = pd.crosstab(index = pacqm['MCARE'], columns = 'count')\n",
    "mopn = pd.crosstab(index = pacqm['MOPN'], columns = 'count')\n",
    "msee = pd.crosstab(index = pacqm['MSEE'], columns = 'count')\n",
    "mhapp = pd.crosstab(index = pacqm['MHAPP'], columns = 'count')\n",
    "mprotect = pd.crosstab(index = pacqm['MPROTECT'], columns = 'count')\n",
    "mtoo = pd.crosstab(index = pacqm['MTOO'], columns = 'count')\n",
    "mrely = pd.crosstab(index = pacqm['MRELY'], columns = 'count')\n",
    "mapprec = pd.crosstab(index = pacqm['MAPPREC'], columns = 'count')\n",
    "mrepay = pd.crosstab(index = pacqm['MREPAY'], columns = 'count')\n",
    "mcrisis = pd.crosstab(index = pacqm['MCRISIS'], columns = 'count')\n",
    "mrepay"
   ]
  },
  {
   "cell_type": "markdown",
   "id": "7edb7d5c-5dbc-4291-96d4-defdf74e22fb",
   "metadata": {},
   "source": [
    "### Mean and Standard Deviation per Question"
   ]
  },
  {
   "cell_type": "code",
   "execution_count": 192,
   "id": "d1c5f6d8-3b86-4dd2-966d-f8fb8239e112",
   "metadata": {
    "tags": []
   },
   "outputs": [
    {
     "name": "stdout",
     "output_type": "stream",
     "text": [
      "stdev of MBURDEN: 0.8923894848298192\n",
      "stdev of MBF: 0.884920260759191\n",
      "stdev of MCARE: 0.8331848287730642\n",
      "stdev of MOPN: 0.6710771191757374\n",
      "stdev of MSEE: 0.6610897646181417\n",
      "stdev of MHAPP: 0.8516576432280226\n",
      "stdev of MPROTECT: 0.7471335895391961\n",
      "stdev of MTOO: 0.8235767654108451\n",
      "stdev of MRELY: 0.8851216001711686\n",
      "stdev of MAPPREC: 0.7397835081083451\n",
      "stdev of MREPAY: 0.6501046208546325\n",
      "stdev of MCRISIS: 0.8484434338212495\n"
     ]
    }
   ],
   "source": [
    "mburden_sd = stat.stdev(pacqm['MBURDEN'].dropna())\n",
    "mbf_sd = stat.stdev(pacqm['MBF'].dropna())\n",
    "mcare_sd = stat.stdev(pacqm['MCARE'].dropna())\n",
    "mopn_sd = stat.stdev(pacqm['MOPN'].dropna())\n",
    "msee_sd = stat.stdev(pacqm['MSEE'].dropna())\n",
    "mhapp_sd = stat.stdev(pacqm['MHAPP'].dropna())\n",
    "mprotect_sd = stat.stdev(pacqm['MPROTECT'].dropna())\n",
    "mtoo_sd = stat.stdev(pacqm['MTOO'].dropna())\n",
    "mrely_sd = stat.stdev(pacqm['MRELY'].dropna())\n",
    "mapprec_sd = stat.stdev(pacqm['MAPPREC'].dropna())\n",
    "mrepay_sd = stat.stdev(pacqm['MREPAY'].dropna())\n",
    "mcrisis_sd = stat.stdev(pacqm['MCRISIS'].dropna())\n",
    "\n",
    "\n",
    "print(\"stdev of MBURDEN:\", mburden_sd)\n",
    "print(\"stdev of MBF:\", mbf_sd)\n",
    "print(\"stdev of MCARE:\", mcare_sd)\n",
    "print(\"stdev of MOPN:\", mopn_sd)\n",
    "print(\"stdev of MSEE:\", msee_sd)\n",
    "print(\"stdev of MHAPP:\", mhapp_sd)\n",
    "print(\"stdev of MPROTECT:\", mprotect_sd)\n",
    "print(\"stdev of MTOO:\", mtoo_sd)\n",
    "print(\"stdev of MRELY:\", mrely_sd)\n",
    "print(\"stdev of MAPPREC:\", mapprec_sd)\n",
    "print(\"stdev of MREPAY:\", mrepay_sd)\n",
    "print(\"stdev of MCRISIS:\", mcrisis_sd)"
   ]
  },
  {
   "cell_type": "code",
   "execution_count": 193,
   "id": "f5f73fd8-a4c9-45fe-b3b1-23c7945a75d6",
   "metadata": {
    "tags": []
   },
   "outputs": [
    {
     "name": "stdout",
     "output_type": "stream",
     "text": [
      "Mean of MBURDEN: 1.7119565217391304\n",
      "Mean of MBF: 1.2173913043478262\n",
      "Mean of MCARE: 0.8967391304347826\n",
      "Mean of MOPEN: 0.7282608695652174\n",
      "Mean of MSEE: 0.5108695652173914\n",
      "Mean of MHAPP: 1.0380434782608696\n",
      "Mean of MPROTECT: 0.7065217391304348\n",
      "Mean of MTOO: 1.875\n",
      "Mean of MRELY: 1.8804347826086956\n",
      "Mean of MAPPREC: 0.7065217391304348\n",
      "Mean of MREPAY: 0.5597826086956522\n",
      "Mean of MCRISIS: 1.2880434782608696\n"
     ]
    }
   ],
   "source": [
    "mburden_mean = stat.mean(pacqm['MBURDEN'].dropna())\n",
    "mbf_mean = stat.mean(pacqm['MBF'].dropna())\n",
    "mcare_mean = stat.mean(pacqm['MCARE'].dropna())\n",
    "mopn_mean = stat.mean(pacqm['MOPN'].dropna())\n",
    "msee_mean = stat.mean(pacqm['MSEE'].dropna())\n",
    "mhapp_mean = stat.mean(pacqm['MHAPP'].dropna())\n",
    "mprotect_mean = stat.mean(pacqm['MPROTECT'].dropna())\n",
    "mtoo_mean = stat.mean(pacqm['MTOO'].dropna())\n",
    "mrely_mean = stat.mean(pacqm['MRELY'].dropna())\n",
    "mapprec_mean = stat.mean(pacqm['MAPPREC'].dropna())\n",
    "mrepay_mean = stat.mean(pacqm['MREPAY'].dropna())\n",
    "mcrisis_mean = stat.mean(pacqm['MCRISIS'].dropna())\n",
    "\n",
    "\n",
    "print(\"Mean of MBURDEN:\", mburden_mean)\n",
    "print(\"Mean of MBF:\", mbf_mean)\n",
    "print(\"Mean of MCARE:\", mcare_mean)\n",
    "print(\"Mean of MOPEN:\", mopn_mean)\n",
    "print(\"Mean of MSEE:\", msee_mean)\n",
    "print(\"Mean of MHAPP:\", mhapp_mean)\n",
    "print(\"Mean of MPROTECT:\", mprotect_mean)\n",
    "print(\"Mean of MTOO:\", mtoo_mean)\n",
    "print(\"Mean of MRELY:\", mrely_mean)\n",
    "print(\"Mean of MAPPREC:\", mapprec_mean)\n",
    "print(\"Mean of MREPAY:\", mrepay_mean)\n",
    "print(\"Mean of MCRISIS:\", mcrisis_mean)"
   ]
  },
  {
   "cell_type": "code",
   "execution_count": 194,
   "id": "6c8c116b-7ea0-48a0-8c97-3e6a6d28516b",
   "metadata": {
    "tags": []
   },
   "outputs": [
    {
     "name": "stdout",
     "output_type": "stream",
     "text": [
      "['Moderate', 'Moderate', 'Low', 'Low', 'Low', 'Moderate', 'Low', 'Moderate', 'Moderate', 'Low', 'Low', 'Moderate']\n"
     ]
    }
   ],
   "source": [
    "pacqm_interpretation = [mburden_mean, mbf_mean, mcare_mean, mopn_mean, msee_mean,\n",
    "                           mhapp_mean, mprotect_mean, mtoo_mean, mrely_mean, mapprec_mean,\n",
    "                           mrepay_mean, mcrisis_mean]\n",
    "\n",
    "pacqm_score = []\n",
    "for i in pacqm_interpretation:\n",
    "    if i < 1:\n",
    "        pacqm_score.append(\"Low\")\n",
    "    elif i <2: \n",
    "        pacqm_score.append(\"Moderate\")\n",
    "    else:\n",
    "        pacqm_score.append(\"High\")\n",
    "print(pacqm_score)"
   ]
  },
  {
   "cell_type": "markdown",
   "id": "8c886660-c5b5-4d75-9045-59dab312cecf",
   "metadata": {},
   "source": [
    "#### Regard Scale"
   ]
  },
  {
   "cell_type": "code",
   "execution_count": 195,
   "id": "e3f60808-f29a-4fe9-931f-d1c499518f92",
   "metadata": {
    "tags": []
   },
   "outputs": [],
   "source": [
    "pacqm_regard = pd.DataFrame(quanfin, columns = ['MSEE','MBF','MAPPREC','MOPN','MREPAY']).dropna()"
   ]
  },
  {
   "cell_type": "code",
   "execution_count": 196,
   "id": "4e4f002e-b451-448a-af78-deb502fbf1e2",
   "metadata": {
    "tags": []
   },
   "outputs": [
    {
     "name": "stdout",
     "output_type": "stream",
     "text": [
      "{3.0: 16, 4.0: 36, 2.0: 25, 6.0: 14, 1.0: 21, 5.0: 22, 7.0: 11, 0.0: 23, 10.0: 2, 8.0: 7, 11.0: 3, 12.0: 2, 9.0: 2}\n",
      "\n",
      "Regard for Mother Mean Score  3.722826086956522\n",
      "\n",
      "Regard for Mother SD Score  2.7109010161412668\n"
     ]
    }
   ],
   "source": [
    "sum_pacqm_regard = pacqm_regard.sum(axis=1)\n",
    "sum_pacqm_regard_rate = collections.Counter(sum_pacqm_regard)\n",
    "print(dict(sum_pacqm_regard_rate))\n",
    "\n",
    "sum_pacqm_regard_mean = stat.mean(sum_pacqm_regard)\n",
    "print()\n",
    "print(\"Regard for Mother Mean Score \", sum_pacqm_regard_mean)\n",
    "\n",
    "sum_pacqm_regard_stdev = stat.stdev(sum_pacqm_regard)\n",
    "print()\n",
    "print(\"Regard for Mother SD Score \", sum_pacqm_regard_stdev)"
   ]
  },
  {
   "cell_type": "code",
   "execution_count": 197,
   "id": "807d2e25-cd52-46ad-b29d-6feb76491019",
   "metadata": {
    "tags": []
   },
   "outputs": [
    {
     "name": "stdout",
     "output_type": "stream",
     "text": [
      "{'Most Mother Regard': 121, 'Moderate Mother Regard': 58, 'Least Mother Regard': 5}\n"
     ]
    }
   ],
   "source": [
    "pacqm_regard_rate = []\n",
    "for i in sum_pacqm_regard:\n",
    "    if i < 5:\n",
    "        pacqm_regard_rate.append(\"Most Mother Regard\")\n",
    "    elif i <= 10:\n",
    "        pacqm_regard_rate.append(\"Moderate Mother Regard\")\n",
    "    else:\n",
    "        pacqm_regard_rate.append(\"Least Mother Regard\")\n",
    "\n",
    "freq_pacqm_regard_rate = collections.Counter(pacqm_regard_rate)\n",
    "print(dict(freq_pacqm_regard_rate))"
   ]
  },
  {
   "cell_type": "markdown",
   "id": "b9127929-b614-4d73-85af-a7ec799ffa5e",
   "metadata": {},
   "source": [
    "#### Responsibility Scale"
   ]
  },
  {
   "cell_type": "code",
   "execution_count": 198,
   "id": "c9775229-7652-4941-b9f8-a48afdf39a3e",
   "metadata": {
    "tags": []
   },
   "outputs": [],
   "source": [
    "pacqm_respon = pd.DataFrame(quanfin, columns = ['MHAPP','MCARE','MBURDEN','MRELY','MCRISIS','MPROTECT','MREPAY']).dropna()"
   ]
  },
  {
   "cell_type": "code",
   "execution_count": 199,
   "id": "75b68585-75e5-44c2-98b2-5acfb6c47ac2",
   "metadata": {
    "tags": []
   },
   "outputs": [
    {
     "name": "stdout",
     "output_type": "stream",
     "text": [
      "{4.0: 18, 9.0: 23, 8.0: 18, 11.0: 12, 5.0: 11, 2.0: 6, 10.0: 24, 12.0: 11, 6.0: 19, 13.0: 8, 7.0: 14, 14.0: 4, 1.0: 4, 16.0: 2, 3.0: 6, 18.0: 1, 17.0: 2, 15.0: 1}\n",
      "\n",
      "Responsibility for Mother Mean Score  8.081521739130435\n",
      "\n",
      "Responsibility for Mother SD Score  3.4859414561335367\n"
     ]
    }
   ],
   "source": [
    "sum_pacqm_respon = pacqm_respon.sum(axis=1)\n",
    "sum_pacqm_respon_rate = collections.Counter(sum_pacqm_respon)\n",
    "print(dict(sum_pacqm_respon_rate))\n",
    "\n",
    "sum_pacqm_respon_mean = stat.mean(sum_pacqm_respon)\n",
    "print()\n",
    "print(\"Responsibility for Mother Mean Score \", sum_pacqm_respon_mean)\n",
    "\n",
    "sum_pacqm_respon_stdev = stat.stdev(sum_pacqm_respon)\n",
    "print()\n",
    "print(\"Responsibility for Mother SD Score \", sum_pacqm_respon_stdev)"
   ]
  },
  {
   "cell_type": "code",
   "execution_count": 200,
   "id": "42fd5016-cb19-416d-90fe-53ad16b5278e",
   "metadata": {
    "tags": []
   },
   "outputs": [
    {
     "name": "stdout",
     "output_type": "stream",
     "text": [
      "{'Most Mother Responsibility': 64, 'Moderate Mother Responsibility': 114, 'Least Mother Responsibility': 6}\n"
     ]
    }
   ],
   "source": [
    "pacqm_respon_rate = []\n",
    "for i in sum_pacqm_respon:\n",
    "    if i < 7:\n",
    "        pacqm_respon_rate.append(\"Most Mother Responsibility\")\n",
    "    elif i <= 14:\n",
    "        pacqm_respon_rate.append(\"Moderate Mother Responsibility\")\n",
    "    else:\n",
    "        pacqm_respon_rate.append(\"Least Mother Responsibility\") \n",
    "\n",
    "freq_pacqm_respon_rate = collections.Counter(pacqm_respon_rate)\n",
    "print(dict(freq_pacqm_respon_rate))"
   ]
  },
  {
   "cell_type": "markdown",
   "id": "5edb8ec9-3511-4f35-b514-34609d0dd95c",
   "metadata": {
    "tags": []
   },
   "source": [
    "### Sibling Relationship"
   ]
  },
  {
   "cell_type": "code",
   "execution_count": 201,
   "id": "2fb343d1-3787-4911-a58d-df12691ba0db",
   "metadata": {
    "tags": []
   },
   "outputs": [
    {
     "data": {
      "text/html": [
       "<div>\n",
       "<style scoped>\n",
       "    .dataframe tbody tr th:only-of-type {\n",
       "        vertical-align: middle;\n",
       "    }\n",
       "\n",
       "    .dataframe tbody tr th {\n",
       "        vertical-align: top;\n",
       "    }\n",
       "\n",
       "    .dataframe thead th {\n",
       "        text-align: right;\n",
       "    }\n",
       "</style>\n",
       "<table border=\"1\" class=\"dataframe\">\n",
       "  <thead>\n",
       "    <tr style=\"text-align: right;\">\n",
       "      <th></th>\n",
       "      <th>SNAG</th>\n",
       "      <th>SOPN</th>\n",
       "      <th>SRESPON</th>\n",
       "      <th>SMANIP</th>\n",
       "      <th>SSEE</th>\n",
       "      <th>SHAPP</th>\n",
       "      <th>SDOM</th>\n",
       "      <th>SDEM</th>\n",
       "      <th>SRELY</th>\n",
       "      <th>SGUILTY</th>\n",
       "      <th>SCRIT</th>\n",
       "      <th>PMOS</th>\n",
       "      <th>SCRISIS</th>\n",
       "      <th>SBF</th>\n",
       "    </tr>\n",
       "  </thead>\n",
       "  <tbody>\n",
       "    <tr>\n",
       "      <th>0</th>\n",
       "      <td>2.0</td>\n",
       "      <td>1.0</td>\n",
       "      <td>1.0</td>\n",
       "      <td>2.0</td>\n",
       "      <td>1.0</td>\n",
       "      <td>2.0</td>\n",
       "      <td>3.0</td>\n",
       "      <td>2.0</td>\n",
       "      <td>0.0</td>\n",
       "      <td>2.0</td>\n",
       "      <td>1.0</td>\n",
       "      <td>0.0</td>\n",
       "      <td>0.0</td>\n",
       "      <td>2.0</td>\n",
       "    </tr>\n",
       "    <tr>\n",
       "      <th>1</th>\n",
       "      <td>2.0</td>\n",
       "      <td>1.0</td>\n",
       "      <td>0.0</td>\n",
       "      <td>2.0</td>\n",
       "      <td>0.0</td>\n",
       "      <td>1.0</td>\n",
       "      <td>2.0</td>\n",
       "      <td>2.0</td>\n",
       "      <td>1.0</td>\n",
       "      <td>0.0</td>\n",
       "      <td>0.0</td>\n",
       "      <td>0.0</td>\n",
       "      <td>3.0</td>\n",
       "      <td>0.0</td>\n",
       "    </tr>\n",
       "    <tr>\n",
       "      <th>3</th>\n",
       "      <td>2.0</td>\n",
       "      <td>1.0</td>\n",
       "      <td>1.0</td>\n",
       "      <td>2.0</td>\n",
       "      <td>2.0</td>\n",
       "      <td>1.0</td>\n",
       "      <td>2.0</td>\n",
       "      <td>1.0</td>\n",
       "      <td>1.0</td>\n",
       "      <td>2.0</td>\n",
       "      <td>1.0</td>\n",
       "      <td>1.0</td>\n",
       "      <td>1.0</td>\n",
       "      <td>2.0</td>\n",
       "    </tr>\n",
       "    <tr>\n",
       "      <th>4</th>\n",
       "      <td>1.0</td>\n",
       "      <td>1.0</td>\n",
       "      <td>0.0</td>\n",
       "      <td>1.0</td>\n",
       "      <td>1.0</td>\n",
       "      <td>1.0</td>\n",
       "      <td>1.0</td>\n",
       "      <td>1.0</td>\n",
       "      <td>1.0</td>\n",
       "      <td>1.0</td>\n",
       "      <td>1.0</td>\n",
       "      <td>1.0</td>\n",
       "      <td>1.0</td>\n",
       "      <td>1.0</td>\n",
       "    </tr>\n",
       "    <tr>\n",
       "      <th>5</th>\n",
       "      <td>3.0</td>\n",
       "      <td>1.0</td>\n",
       "      <td>3.0</td>\n",
       "      <td>1.0</td>\n",
       "      <td>2.0</td>\n",
       "      <td>3.0</td>\n",
       "      <td>2.0</td>\n",
       "      <td>3.0</td>\n",
       "      <td>1.0</td>\n",
       "      <td>2.0</td>\n",
       "      <td>2.0</td>\n",
       "      <td>2.0</td>\n",
       "      <td>0.0</td>\n",
       "      <td>3.0</td>\n",
       "    </tr>\n",
       "    <tr>\n",
       "      <th>...</th>\n",
       "      <td>...</td>\n",
       "      <td>...</td>\n",
       "      <td>...</td>\n",
       "      <td>...</td>\n",
       "      <td>...</td>\n",
       "      <td>...</td>\n",
       "      <td>...</td>\n",
       "      <td>...</td>\n",
       "      <td>...</td>\n",
       "      <td>...</td>\n",
       "      <td>...</td>\n",
       "      <td>...</td>\n",
       "      <td>...</td>\n",
       "      <td>...</td>\n",
       "    </tr>\n",
       "    <tr>\n",
       "      <th>184</th>\n",
       "      <td>2.0</td>\n",
       "      <td>1.0</td>\n",
       "      <td>0.0</td>\n",
       "      <td>3.0</td>\n",
       "      <td>0.0</td>\n",
       "      <td>1.0</td>\n",
       "      <td>2.0</td>\n",
       "      <td>1.0</td>\n",
       "      <td>2.0</td>\n",
       "      <td>1.0</td>\n",
       "      <td>2.0</td>\n",
       "      <td>0.0</td>\n",
       "      <td>2.0</td>\n",
       "      <td>0.0</td>\n",
       "    </tr>\n",
       "    <tr>\n",
       "      <th>185</th>\n",
       "      <td>2.0</td>\n",
       "      <td>1.0</td>\n",
       "      <td>0.0</td>\n",
       "      <td>3.0</td>\n",
       "      <td>0.0</td>\n",
       "      <td>1.0</td>\n",
       "      <td>2.0</td>\n",
       "      <td>3.0</td>\n",
       "      <td>0.0</td>\n",
       "      <td>1.0</td>\n",
       "      <td>1.0</td>\n",
       "      <td>1.0</td>\n",
       "      <td>1.0</td>\n",
       "      <td>0.0</td>\n",
       "    </tr>\n",
       "    <tr>\n",
       "      <th>188</th>\n",
       "      <td>2.0</td>\n",
       "      <td>0.0</td>\n",
       "      <td>1.0</td>\n",
       "      <td>3.0</td>\n",
       "      <td>0.0</td>\n",
       "      <td>1.0</td>\n",
       "      <td>3.0</td>\n",
       "      <td>3.0</td>\n",
       "      <td>0.0</td>\n",
       "      <td>3.0</td>\n",
       "      <td>0.0</td>\n",
       "      <td>0.0</td>\n",
       "      <td>0.0</td>\n",
       "      <td>0.0</td>\n",
       "    </tr>\n",
       "    <tr>\n",
       "      <th>189</th>\n",
       "      <td>3.0</td>\n",
       "      <td>0.0</td>\n",
       "      <td>3.0</td>\n",
       "      <td>3.0</td>\n",
       "      <td>1.0</td>\n",
       "      <td>3.0</td>\n",
       "      <td>3.0</td>\n",
       "      <td>3.0</td>\n",
       "      <td>0.0</td>\n",
       "      <td>3.0</td>\n",
       "      <td>0.0</td>\n",
       "      <td>0.0</td>\n",
       "      <td>0.0</td>\n",
       "      <td>0.0</td>\n",
       "    </tr>\n",
       "    <tr>\n",
       "      <th>190</th>\n",
       "      <td>1.0</td>\n",
       "      <td>0.0</td>\n",
       "      <td>1.0</td>\n",
       "      <td>3.0</td>\n",
       "      <td>0.0</td>\n",
       "      <td>1.0</td>\n",
       "      <td>1.0</td>\n",
       "      <td>3.0</td>\n",
       "      <td>0.0</td>\n",
       "      <td>2.0</td>\n",
       "      <td>2.0</td>\n",
       "      <td>0.0</td>\n",
       "      <td>0.0</td>\n",
       "      <td>0.0</td>\n",
       "    </tr>\n",
       "  </tbody>\n",
       "</table>\n",
       "<p>161 rows × 14 columns</p>\n",
       "</div>"
      ],
      "text/plain": [
       "     SNAG  SOPN  SRESPON  SMANIP  SSEE  SHAPP  SDOM  SDEM  SRELY  SGUILTY  \\\n",
       "0     2.0   1.0      1.0     2.0   1.0    2.0   3.0   2.0    0.0      2.0   \n",
       "1     2.0   1.0      0.0     2.0   0.0    1.0   2.0   2.0    1.0      0.0   \n",
       "3     2.0   1.0      1.0     2.0   2.0    1.0   2.0   1.0    1.0      2.0   \n",
       "4     1.0   1.0      0.0     1.0   1.0    1.0   1.0   1.0    1.0      1.0   \n",
       "5     3.0   1.0      3.0     1.0   2.0    3.0   2.0   3.0    1.0      2.0   \n",
       "..    ...   ...      ...     ...   ...    ...   ...   ...    ...      ...   \n",
       "184   2.0   1.0      0.0     3.0   0.0    1.0   2.0   1.0    2.0      1.0   \n",
       "185   2.0   1.0      0.0     3.0   0.0    1.0   2.0   3.0    0.0      1.0   \n",
       "188   2.0   0.0      1.0     3.0   0.0    1.0   3.0   3.0    0.0      3.0   \n",
       "189   3.0   0.0      3.0     3.0   1.0    3.0   3.0   3.0    0.0      3.0   \n",
       "190   1.0   0.0      1.0     3.0   0.0    1.0   1.0   3.0    0.0      2.0   \n",
       "\n",
       "     SCRIT  PMOS  SCRISIS   SBF  \n",
       "0      1.0   0.0       0.0  2.0  \n",
       "1      0.0   0.0       3.0  0.0  \n",
       "3      1.0   1.0       1.0  2.0  \n",
       "4      1.0   1.0       1.0  1.0  \n",
       "5      2.0   2.0       0.0  3.0  \n",
       "..     ...   ...       ...  ...  \n",
       "184    2.0   0.0       2.0  0.0  \n",
       "185    1.0   1.0       1.0  0.0  \n",
       "188    0.0   0.0       0.0  0.0  \n",
       "189    0.0   0.0       0.0  0.0  \n",
       "190    2.0   0.0       0.0  0.0  \n",
       "\n",
       "[161 rows x 14 columns]"
      ]
     },
     "execution_count": 201,
     "metadata": {},
     "output_type": "execute_result"
    }
   ],
   "source": [
    "pacqs = pd.DataFrame(quanfin, columns = ['SNAG','SOPN','SRESPON','SMANIP','SSEE','SHAPP','SDOM','SDEM','SRELY','SGUILTY','SCRIT','PMOS','SCRISIS ','SBF']).dropna()\n",
    "pacqs"
   ]
  },
  {
   "cell_type": "code",
   "execution_count": 202,
   "id": "ad65dd8b-d1c8-497f-a6a4-b5efc44baf11",
   "metadata": {
    "tags": []
   },
   "outputs": [],
   "source": [
    "snag = pd.crosstab(index = pacqs['SNAG'], columns = 'count')\n",
    "sopn = pd.crosstab(index = pacqs['SOPN'], columns = 'count')\n",
    "srespon = pd.crosstab(index = pacqs['SRESPON'], columns = 'count')\n",
    "smanip = pd.crosstab(index = pacqs['SMANIP'], columns = 'count')\n",
    "ssee = pd.crosstab(index = pacqs['SSEE'], columns = 'count')\n",
    "shapp = pd.crosstab(index = pacqs['SHAPP'], columns = 'count')\n",
    "sdom = pd.crosstab(index = pacqs['SDOM'], columns = 'count')\n",
    "sdem = pd.crosstab(index = pacqs['SDEM'], columns = 'count')\n",
    "srely = pd.crosstab(index = pacqs['SRELY'], columns = 'count')\n",
    "sguilty = pd.crosstab(index = pacqs['SGUILTY'], columns = 'count')\n",
    "scrit = pd.crosstab(index = pacqs['SCRIT'], columns = 'count')\n",
    "pmos = pd.crosstab(index = pacqs['PMOS'], columns = 'count')\n",
    "scrisis = pd.crosstab(index = pacqs['SCRISIS '], columns = 'count')\n",
    "sbf = pd.crosstab(index = pacqs['SBF'], columns = 'count')"
   ]
  },
  {
   "cell_type": "markdown",
   "id": "05d3352d-f918-4be3-b3a6-95b936bdc513",
   "metadata": {},
   "source": [
    "### Mean and Standard Deviation per Question"
   ]
  },
  {
   "cell_type": "code",
   "execution_count": 203,
   "id": "6a5637a3-fcf8-4352-9009-f3ce3d925488",
   "metadata": {
    "tags": []
   },
   "outputs": [
    {
     "name": "stdout",
     "output_type": "stream",
     "text": [
      "stdev of SNAG: 0.9682057427264348\n",
      "stdev of SOPN: 0.6337431930858183\n",
      "stdev of SRESPON: 0.9313384477985573\n",
      "stdev of SMANIP: 0.9473729613780998\n",
      "stdev of SSEE: 0.7599750731446672\n",
      "stdev of SHAPP: 0.9019905523461647\n",
      "stdev of SDOM: 0.9052126478834677\n",
      "stdev of SDEM: 0.9740419723888469\n",
      "stdev of SRELY: 0.8364744114399368\n",
      "stdev of SGUILTY: 0.9391006005153009\n",
      "stdev of SCRIT: 0.9091921880343059\n",
      "stdev of PMOS: 0.778745208254203\n",
      "stdev of SCRISIS: 0.9246033226999707\n",
      "stdev of SBF: 0.8983248731053547\n"
     ]
    }
   ],
   "source": [
    "snag_stdev = stat.stdev(pacqs['SNAG'].dropna())\n",
    "sopn_stdev = stat.stdev(pacqs['SOPN'].dropna())\n",
    "srespon_stdev = stat.stdev(pacqs['SRESPON'].dropna())\n",
    "smanip_stdev = stat.stdev(pacqs['SMANIP'].dropna())\n",
    "ssee_stdev = stat.stdev(pacqs['SSEE'].dropna())\n",
    "shapp_stdev = stat.stdev(pacqs['SHAPP'].dropna())\n",
    "sdom_stdev = stat.stdev(pacqs['SDOM'].dropna())\n",
    "sdem_stdev = stat.stdev(pacqs['SDEM'].dropna())\n",
    "srely_stdev = stat.stdev(pacqs['SRELY'].dropna())\n",
    "sguilty_stdev = stat.stdev(pacqs['SGUILTY'].dropna())\n",
    "scrit_stdev = stat.stdev(pacqs['SCRIT'].dropna())\n",
    "pmos_stdev = stat.stdev(pacqs['PMOS'].dropna())\n",
    "scrisis_stdev = stat.stdev(pacqs['SCRISIS '].dropna())\n",
    "sbf_stdev = stat.stdev(pacqs['SBF'].dropna())\n",
    "\n",
    "\n",
    "print(\"stdev of SNAG:\", snag_stdev)\n",
    "print(\"stdev of SOPN:\", sopn_stdev)\n",
    "print(\"stdev of SRESPON:\", srespon_stdev)\n",
    "print(\"stdev of SMANIP:\", smanip_stdev)\n",
    "print(\"stdev of SSEE:\", ssee_stdev)\n",
    "print(\"stdev of SHAPP:\", shapp_stdev)\n",
    "print(\"stdev of SDOM:\", sdom_stdev)\n",
    "print(\"stdev of SDEM:\", sdem_stdev)\n",
    "print(\"stdev of SRELY:\", srely_stdev)\n",
    "print(\"stdev of SGUILTY:\", sguilty_stdev)\n",
    "print(\"stdev of SCRIT:\", scrit_stdev)\n",
    "print(\"stdev of PMOS:\", pmos_stdev)\n",
    "print(\"stdev of SCRISIS:\", scrisis_stdev)\n",
    "print(\"stdev of SBF:\", sbf_stdev)"
   ]
  },
  {
   "cell_type": "code",
   "execution_count": 204,
   "id": "573c50ca-11c0-4f1e-8352-e1a3f5291eed",
   "metadata": {
    "tags": []
   },
   "outputs": [
    {
     "name": "stdout",
     "output_type": "stream",
     "text": [
      "Mean of SNAG: 1.5403726708074534\n",
      "Mean of SOPN: 0.8695652173913043\n",
      "Mean of SRESPON: 1.0869565217391304\n",
      "Mean of SMANIP: 2.049689440993789\n",
      "Mean of SSEE: 0.8136645962732919\n",
      "Mean of SHAPP: 1.5217391304347827\n",
      "Mean of SDOM: 2.0745341614906834\n",
      "Mean of SDEM: 1.5527950310559007\n",
      "Mean of SRELY: 0.9192546583850931\n",
      "Mean of SGUILTY: 1.639751552795031\n",
      "Mean of SCRIT: 1.1304347826086956\n",
      "Mean of PMOS: 0.8074534161490683\n",
      "Mean of SCRISIS: 1.0869565217391304\n",
      "Mean of SBF: 1.15527950310559\n"
     ]
    }
   ],
   "source": [
    "snag_mean = stat.mean(pacqs['SNAG'].dropna())\n",
    "sopn_mean = stat.mean(pacqs['SOPN'].dropna())\n",
    "srespon_mean = stat.mean(pacqs['SRESPON'].dropna())\n",
    "smanip_mean = stat.mean(pacqs['SMANIP'].dropna())\n",
    "ssee_mean = stat.mean(pacqs['SSEE'].dropna())\n",
    "shapp_mean = stat.mean(pacqs['SHAPP'].dropna())\n",
    "sdom_mean = stat.mean(pacqs['SDOM'].dropna())\n",
    "sdem_mean = stat.mean(pacqs['SDEM'].dropna())\n",
    "srely_mean = stat.mean(pacqs['SRELY'].dropna())\n",
    "sguilty_mean = stat.mean(pacqs['SGUILTY'].dropna())\n",
    "scrit_mean = stat.mean(pacqs['SCRIT'].dropna())\n",
    "pmos_mean = stat.mean(pacqs['PMOS'].dropna())\n",
    "scrisis_mean = stat.mean(pacqs['SCRISIS '].dropna())\n",
    "sbf_mean = stat.mean(pacqs['SBF'].dropna())\n",
    "\n",
    "\n",
    "print(\"Mean of SNAG:\", snag_mean)\n",
    "print(\"Mean of SOPN:\", sopn_mean)\n",
    "print(\"Mean of SRESPON:\", srespon_mean)\n",
    "print(\"Mean of SMANIP:\", smanip_mean)\n",
    "print(\"Mean of SSEE:\", ssee_mean)\n",
    "print(\"Mean of SHAPP:\", shapp_mean)\n",
    "print(\"Mean of SDOM:\", sdom_mean)\n",
    "print(\"Mean of SDEM:\", sdem_mean)\n",
    "print(\"Mean of SRELY:\", srely_mean)\n",
    "print(\"Mean of SGUILTY:\", sguilty_mean)\n",
    "print(\"Mean of SCRIT:\", scrit_mean)\n",
    "print(\"Mean of PMOS:\", pmos_mean)\n",
    "print(\"Mean of SCRISIS:\", scrisis_mean)\n",
    "print(\"Mean of SBF:\", sbf_mean)"
   ]
  },
  {
   "cell_type": "code",
   "execution_count": 205,
   "id": "1249ebf7-896d-465f-8002-37e29f5b1fe2",
   "metadata": {
    "tags": []
   },
   "outputs": [
    {
     "name": "stdout",
     "output_type": "stream",
     "text": [
      "['Moderate', 'Low', 'Moderate', 'High', 'Low', 'Moderate', 'High', 'Moderate', 'Low', 'Moderate', 'Moderate', 'Low', 'Moderate', 'Moderate']\n"
     ]
    }
   ],
   "source": [
    "pacqs_interpretation = [snag_mean, sopn_mean, srespon_mean, smanip_mean, ssee_mean,\n",
    "                           shapp_mean, sdom_mean, sdem_mean, srely_mean, sguilty_mean,\n",
    "                           scrit_mean, pmos_mean, scrisis_mean, sbf_mean]\n",
    "\n",
    "pacqs_score = []\n",
    "for i in pacqs_interpretation:\n",
    "    if i < 1:\n",
    "        pacqs_score.append(\"Low\")\n",
    "    elif i <2: \n",
    "        pacqs_score.append(\"Moderate\")\n",
    "    else:\n",
    "        pacqs_score.append(\"High\")\n",
    "print(pacqs_score)"
   ]
  },
  {
   "cell_type": "markdown",
   "id": "797c3bbc-b3aa-4add-ae37-e02e768b7596",
   "metadata": {},
   "source": [
    "#### Regard Scale"
   ]
  },
  {
   "cell_type": "code",
   "execution_count": 206,
   "id": "2b4e2797-6111-4285-b77d-ac6064f0104b",
   "metadata": {
    "tags": []
   },
   "outputs": [],
   "source": [
    "pacqs_regard = pd.DataFrame(quanfin, columns = ['SOPN','SSEE','PMOS','SRELY','SBF']).dropna()"
   ]
  },
  {
   "cell_type": "code",
   "execution_count": 207,
   "id": "1ee3dc6d-e5df-4a4e-9d32-288b37366599",
   "metadata": {
    "tags": []
   },
   "outputs": [
    {
     "name": "stdout",
     "output_type": "stream",
     "text": [
      "{4.0: 26, 2.0: 10, 7.0: 13, 5.0: 24, 9.0: 5, 1.0: 11, 6.0: 19, 0.0: 17, 8.0: 6, 14.0: 3, 3.0: 20, 11.0: 2, 10.0: 3, 13.0: 1, 15.0: 1}\n",
      "\n",
      "Regard for Siblings Mean Score  4.565217391304348\n",
      "\n",
      "Regard for Siblings SD Score  3.0878443303857877\n"
     ]
    }
   ],
   "source": [
    "sum_pacqs_regard = pacqs_regard.sum(axis=1)\n",
    "sum_pacqs_regard_rate = collections.Counter(sum_pacqs_regard)\n",
    "print(dict(sum_pacqs_regard_rate))\n",
    "\n",
    "sum_pacqs_regard_mean = stat.mean(sum_pacqs_regard)\n",
    "print()\n",
    "print(\"Regard for Siblings Mean Score \", sum_pacqs_regard_mean)\n",
    "\n",
    "sum_pacqs_regard_stdev = stat.stdev(sum_pacqs_regard)\n",
    "print()\n",
    "print(\"Regard for Siblings SD Score \", sum_pacqs_regard_stdev)"
   ]
  },
  {
   "cell_type": "code",
   "execution_count": 208,
   "id": "a69968a0-7773-4099-ace4-dbd14788c025",
   "metadata": {
    "tags": []
   },
   "outputs": [
    {
     "name": "stdout",
     "output_type": "stream",
     "text": [
      "{'Most Sibling Regard': 91, 'Moderate Sibling Regard': 48, 'Only Child': 17, 'Least Sibling Regard': 5}\n"
     ]
    }
   ],
   "source": [
    "pacqs_regard_rate = []\n",
    "for i in sum_pacqs_regard:\n",
    "    if i == 0:\n",
    "        pacqs_regard_rate.append(\"Only Child\")\n",
    "    elif i < 6:\n",
    "        pacqs_regard_rate.append(\"Most Sibling Regard\")\n",
    "    elif i <= 12:\n",
    "        pacqs_regard_rate.append(\"Moderate Sibling Regard\")\n",
    "    else:\n",
    "        pacqs_regard_rate.append(\"Least Sibling Regard\") \n",
    "\n",
    "freq_pacqs_regard_rate = collections.Counter(pacqs_regard_rate)\n",
    "print(dict(freq_pacqs_regard_rate))"
   ]
  },
  {
   "cell_type": "markdown",
   "id": "ec6deade-cc3a-4489-939a-81b7656a82a3",
   "metadata": {},
   "source": [
    "#### Responsibility Scale"
   ]
  },
  {
   "cell_type": "code",
   "execution_count": 209,
   "id": "44bb1e63-2987-4267-9af1-8255de309f28",
   "metadata": {
    "tags": []
   },
   "outputs": [],
   "source": [
    "pacqs_respon = pd.DataFrame(quanfin, columns = ['SRESPON','SHAPP','SGUILTY','SCRISIS ']).dropna()"
   ]
  },
  {
   "cell_type": "code",
   "execution_count": 210,
   "id": "97b8c57e-52b7-4b63-bc49-3cb56c963946",
   "metadata": {
    "tags": []
   },
   "outputs": [
    {
     "name": "stdout",
     "output_type": "stream",
     "text": [
      "{5.0: 22, 4.0: 20, 3.0: 12, 8.0: 17, 7.0: 24, 6.0: 29, 0.0: 8, 2.0: 15, 12.0: 3, 10.0: 2, 9.0: 5, 1.0: 2, 11.0: 2}\n",
      "\n",
      "Responsibility for Siblings Mean Score  5.3354037267080745\n",
      "\n",
      "Responsibility for Siblings SD Score  2.554271176331132\n"
     ]
    }
   ],
   "source": [
    "sum_pacqs_respon = pacqs_respon.sum(axis=1)\n",
    "sum_pacqs_respon_rate = collections.Counter(sum_pacqs_respon)\n",
    "print(dict(sum_pacqs_respon_rate))\n",
    "\n",
    "sum_pacqs_respon_mean = stat.mean(sum_pacqs_respon)\n",
    "print()\n",
    "print(\"Responsibility for Siblings Mean Score \", sum_pacqs_respon_mean)\n",
    "\n",
    "sum_pacqs_respon_stdev = stat.stdev(sum_pacqs_respon)\n",
    "print()\n",
    "print(\"Responsibility for Siblings SD Score \", sum_pacqs_respon_stdev)"
   ]
  },
  {
   "cell_type": "code",
   "execution_count": 211,
   "id": "bc3471ce-aba3-4b24-9068-887db870dea4",
   "metadata": {
    "tags": []
   },
   "outputs": [
    {
     "name": "stdout",
     "output_type": "stream",
     "text": [
      "{'Most Sibling Responsibility': 71, 'Moderate Sibling Responsibility': 82, 'Only Child': 8}\n"
     ]
    }
   ],
   "source": [
    "pacqs_respon_rate = []\n",
    "for i in sum_pacqs_respon:\n",
    "    if i == 0:\n",
    "        pacqs_respon_rate.append(\"Only Child\")\n",
    "    elif i < 6:\n",
    "        pacqs_respon_rate.append(\"Most Sibling Responsibility\")\n",
    "    elif i <= 12:\n",
    "        pacqs_respon_rate.append(\"Moderate Sibling Responsibility\")\n",
    "    else:\n",
    "        pacqs_respon_rate.append(\"Least Sibling Responsibility\") \n",
    "\n",
    "freq_pacqs_respon_rate = collections.Counter(pacqs_respon_rate)\n",
    "print(dict(freq_pacqs_respon_rate))"
   ]
  },
  {
   "cell_type": "markdown",
   "id": "2cf6c5b1-fe7c-42b8-96bf-5874d79275e8",
   "metadata": {},
   "source": [
    "#### Control Scale"
   ]
  },
  {
   "cell_type": "code",
   "execution_count": 212,
   "id": "3364d3db-b30a-4b21-a645-2612cffc041d",
   "metadata": {
    "tags": []
   },
   "outputs": [],
   "source": [
    "pacqs_control = pd.DataFrame(quanfin, columns = ['SNAG','SMANIP','SDOM','SDEM','SCRIT']).dropna()"
   ]
  },
  {
   "cell_type": "code",
   "execution_count": 213,
   "id": "532019b4-13a7-4aaf-919f-6a7022e93a48",
   "metadata": {
    "tags": []
   },
   "outputs": [
    {
     "name": "stdout",
     "output_type": "stream",
     "text": [
      "{10.0: 18, 8.0: 27, 5.0: 12, 11.0: 16, 7.0: 17, 4.0: 4, 6.0: 12, 12.0: 19, 3.0: 9, 9.0: 20, 13.0: 4, 2.0: 2, 14.0: 1}\n",
      "\n",
      "Sibling Control Mean Score  8.347826086956522\n",
      "\n",
      "Sibling Control SD Score  2.7277758099897467\n"
     ]
    }
   ],
   "source": [
    "sum_pacqs_control = pacqs_control.sum(axis=1)\n",
    "sum_pacqs_control_rate = collections.Counter(sum_pacqs_control)\n",
    "print(dict(sum_pacqs_control_rate))\n",
    "\n",
    "sum_pacqs_control_mean = stat.mean(sum_pacqs_control)\n",
    "print()\n",
    "print(\"Sibling Control Mean Score \", sum_pacqs_control_mean)\n",
    "\n",
    "sum_pacqs_control_stdev = stat.stdev(sum_pacqs_control)\n",
    "print()\n",
    "print(\"Sibling Control SD Score \", sum_pacqs_control_stdev)"
   ]
  },
  {
   "cell_type": "code",
   "execution_count": 214,
   "id": "f70302cf-4cd2-42e3-9b90-3aa8c48e6db2",
   "metadata": {
    "tags": []
   },
   "outputs": [
    {
     "name": "stdout",
     "output_type": "stream",
     "text": [
      "{'Moderate Sibling Control': 129, 'Most Sibling Control': 27, 'Least Sibling Control': 5}\n"
     ]
    }
   ],
   "source": [
    "pacqs_control_rate = []\n",
    "for i in sum_pacqs_control:\n",
    "    if i == 0:\n",
    "        pacqs_control_rate.append(\"Only Child\")\n",
    "    elif i < 6:\n",
    "        pacqs_control_rate.append(\"Most Sibling Control\")\n",
    "    elif i <= 12:\n",
    "        pacqs_control_rate.append(\"Moderate Sibling Control\")\n",
    "    else:\n",
    "        pacqs_control_rate.append(\"Least Sibling Control\")\n",
    "\n",
    "freq_pacqs_control_rate = collections.Counter(pacqs_control_rate)\n",
    "print(dict(freq_pacqs_control_rate))"
   ]
  },
  {
   "cell_type": "markdown",
   "id": "bbb916f4-57c3-45b1-a9c7-163f2d0670c5",
   "metadata": {},
   "source": [
    "## Warwick-Edinburgh Mental Well-Being Scale"
   ]
  },
  {
   "cell_type": "code",
   "execution_count": 215,
   "id": "037df208-652c-414d-87f3-b0461e32c9ed",
   "metadata": {
    "tags": []
   },
   "outputs": [
    {
     "data": {
      "text/html": [
       "<div>\n",
       "<style scoped>\n",
       "    .dataframe tbody tr th:only-of-type {\n",
       "        vertical-align: middle;\n",
       "    }\n",
       "\n",
       "    .dataframe tbody tr th {\n",
       "        vertical-align: top;\n",
       "    }\n",
       "\n",
       "    .dataframe thead th {\n",
       "        text-align: right;\n",
       "    }\n",
       "</style>\n",
       "<table border=\"1\" class=\"dataframe\">\n",
       "  <thead>\n",
       "    <tr style=\"text-align: right;\">\n",
       "      <th></th>\n",
       "      <th>FEELIOP</th>\n",
       "      <th>FEELUSE</th>\n",
       "      <th>FEELAX</th>\n",
       "      <th>FEELINT</th>\n",
       "      <th>FENERGY</th>\n",
       "      <th>FEEPROB</th>\n",
       "      <th>FECLEAR</th>\n",
       "      <th>FEGOOD</th>\n",
       "      <th>FECLOSE</th>\n",
       "      <th>FECONFI</th>\n",
       "      <th>FEMKEUP</th>\n",
       "      <th>FELOVED</th>\n",
       "      <th>FENWTHG</th>\n",
       "      <th>FECHEER</th>\n",
       "    </tr>\n",
       "  </thead>\n",
       "  <tbody>\n",
       "    <tr>\n",
       "      <th>0</th>\n",
       "      <td>1</td>\n",
       "      <td>3</td>\n",
       "      <td>5</td>\n",
       "      <td>3</td>\n",
       "      <td>5</td>\n",
       "      <td>4</td>\n",
       "      <td>5</td>\n",
       "      <td>5</td>\n",
       "      <td>5</td>\n",
       "      <td>5</td>\n",
       "      <td>5</td>\n",
       "      <td>5</td>\n",
       "      <td>5</td>\n",
       "      <td>5</td>\n",
       "    </tr>\n",
       "    <tr>\n",
       "      <th>1</th>\n",
       "      <td>3</td>\n",
       "      <td>4</td>\n",
       "      <td>4</td>\n",
       "      <td>3</td>\n",
       "      <td>3</td>\n",
       "      <td>3</td>\n",
       "      <td>3</td>\n",
       "      <td>3</td>\n",
       "      <td>5</td>\n",
       "      <td>3</td>\n",
       "      <td>3</td>\n",
       "      <td>4</td>\n",
       "      <td>3</td>\n",
       "      <td>3</td>\n",
       "    </tr>\n",
       "    <tr>\n",
       "      <th>2</th>\n",
       "      <td>4</td>\n",
       "      <td>4</td>\n",
       "      <td>4</td>\n",
       "      <td>4</td>\n",
       "      <td>3</td>\n",
       "      <td>3</td>\n",
       "      <td>3</td>\n",
       "      <td>3</td>\n",
       "      <td>4</td>\n",
       "      <td>3</td>\n",
       "      <td>4</td>\n",
       "      <td>5</td>\n",
       "      <td>4</td>\n",
       "      <td>4</td>\n",
       "    </tr>\n",
       "    <tr>\n",
       "      <th>3</th>\n",
       "      <td>2</td>\n",
       "      <td>2</td>\n",
       "      <td>2</td>\n",
       "      <td>4</td>\n",
       "      <td>2</td>\n",
       "      <td>4</td>\n",
       "      <td>3</td>\n",
       "      <td>3</td>\n",
       "      <td>3</td>\n",
       "      <td>3</td>\n",
       "      <td>4</td>\n",
       "      <td>3</td>\n",
       "      <td>4</td>\n",
       "      <td>2</td>\n",
       "    </tr>\n",
       "    <tr>\n",
       "      <th>4</th>\n",
       "      <td>3</td>\n",
       "      <td>4</td>\n",
       "      <td>4</td>\n",
       "      <td>4</td>\n",
       "      <td>3</td>\n",
       "      <td>4</td>\n",
       "      <td>4</td>\n",
       "      <td>3</td>\n",
       "      <td>4</td>\n",
       "      <td>3</td>\n",
       "      <td>4</td>\n",
       "      <td>4</td>\n",
       "      <td>4</td>\n",
       "      <td>4</td>\n",
       "    </tr>\n",
       "    <tr>\n",
       "      <th>...</th>\n",
       "      <td>...</td>\n",
       "      <td>...</td>\n",
       "      <td>...</td>\n",
       "      <td>...</td>\n",
       "      <td>...</td>\n",
       "      <td>...</td>\n",
       "      <td>...</td>\n",
       "      <td>...</td>\n",
       "      <td>...</td>\n",
       "      <td>...</td>\n",
       "      <td>...</td>\n",
       "      <td>...</td>\n",
       "      <td>...</td>\n",
       "      <td>...</td>\n",
       "    </tr>\n",
       "    <tr>\n",
       "      <th>186</th>\n",
       "      <td>4</td>\n",
       "      <td>4</td>\n",
       "      <td>4</td>\n",
       "      <td>3</td>\n",
       "      <td>4</td>\n",
       "      <td>2</td>\n",
       "      <td>3</td>\n",
       "      <td>3</td>\n",
       "      <td>4</td>\n",
       "      <td>4</td>\n",
       "      <td>5</td>\n",
       "      <td>4</td>\n",
       "      <td>4</td>\n",
       "      <td>4</td>\n",
       "    </tr>\n",
       "    <tr>\n",
       "      <th>187</th>\n",
       "      <td>4</td>\n",
       "      <td>3</td>\n",
       "      <td>3</td>\n",
       "      <td>3</td>\n",
       "      <td>3</td>\n",
       "      <td>3</td>\n",
       "      <td>3</td>\n",
       "      <td>3</td>\n",
       "      <td>3</td>\n",
       "      <td>3</td>\n",
       "      <td>3</td>\n",
       "      <td>4</td>\n",
       "      <td>3</td>\n",
       "      <td>3</td>\n",
       "    </tr>\n",
       "    <tr>\n",
       "      <th>188</th>\n",
       "      <td>5</td>\n",
       "      <td>5</td>\n",
       "      <td>3</td>\n",
       "      <td>4</td>\n",
       "      <td>3</td>\n",
       "      <td>3</td>\n",
       "      <td>4</td>\n",
       "      <td>4</td>\n",
       "      <td>5</td>\n",
       "      <td>5</td>\n",
       "      <td>4</td>\n",
       "      <td>5</td>\n",
       "      <td>5</td>\n",
       "      <td>5</td>\n",
       "    </tr>\n",
       "    <tr>\n",
       "      <th>189</th>\n",
       "      <td>4</td>\n",
       "      <td>5</td>\n",
       "      <td>2</td>\n",
       "      <td>2</td>\n",
       "      <td>1</td>\n",
       "      <td>4</td>\n",
       "      <td>3</td>\n",
       "      <td>4</td>\n",
       "      <td>5</td>\n",
       "      <td>5</td>\n",
       "      <td>5</td>\n",
       "      <td>5</td>\n",
       "      <td>5</td>\n",
       "      <td>3</td>\n",
       "    </tr>\n",
       "    <tr>\n",
       "      <th>190</th>\n",
       "      <td>4</td>\n",
       "      <td>4</td>\n",
       "      <td>2</td>\n",
       "      <td>4</td>\n",
       "      <td>2</td>\n",
       "      <td>2</td>\n",
       "      <td>2</td>\n",
       "      <td>5</td>\n",
       "      <td>4</td>\n",
       "      <td>4</td>\n",
       "      <td>4</td>\n",
       "      <td>2</td>\n",
       "      <td>4</td>\n",
       "      <td>2</td>\n",
       "    </tr>\n",
       "  </tbody>\n",
       "</table>\n",
       "<p>191 rows × 14 columns</p>\n",
       "</div>"
      ],
      "text/plain": [
       "     FEELIOP  FEELUSE  FEELAX  FEELINT  FENERGY  FEEPROB  FECLEAR  FEGOOD  \\\n",
       "0          1        3       5        3        5        4        5       5   \n",
       "1          3        4       4        3        3        3        3       3   \n",
       "2          4        4       4        4        3        3        3       3   \n",
       "3          2        2       2        4        2        4        3       3   \n",
       "4          3        4       4        4        3        4        4       3   \n",
       "..       ...      ...     ...      ...      ...      ...      ...     ...   \n",
       "186        4        4       4        3        4        2        3       3   \n",
       "187        4        3       3        3        3        3        3       3   \n",
       "188        5        5       3        4        3        3        4       4   \n",
       "189        4        5       2        2        1        4        3       4   \n",
       "190        4        4       2        4        2        2        2       5   \n",
       "\n",
       "     FECLOSE  FECONFI  FEMKEUP  FELOVED  FENWTHG  FECHEER  \n",
       "0          5        5        5        5        5        5  \n",
       "1          5        3        3        4        3        3  \n",
       "2          4        3        4        5        4        4  \n",
       "3          3        3        4        3        4        2  \n",
       "4          4        3        4        4        4        4  \n",
       "..       ...      ...      ...      ...      ...      ...  \n",
       "186        4        4        5        4        4        4  \n",
       "187        3        3        3        4        3        3  \n",
       "188        5        5        4        5        5        5  \n",
       "189        5        5        5        5        5        3  \n",
       "190        4        4        4        2        4        2  \n",
       "\n",
       "[191 rows x 14 columns]"
      ]
     },
     "execution_count": 215,
     "metadata": {},
     "output_type": "execute_result"
    }
   ],
   "source": [
    "wemwebs = pd.DataFrame(quanfin, columns = ['FEELIOP','FEELUSE','FEELAX','FEELINT',\n",
    "                                           'FENERGY','FEEPROB','FECLEAR','FEGOOD',\n",
    "                                           'FECLOSE', 'FECONFI','FEMKEUP','FELOVED',\n",
    "                                           'FENWTHG','FECHEER'])\n",
    "wemwebs"
   ]
  },
  {
   "cell_type": "code",
   "execution_count": 216,
   "id": "db3c66e1-b8e4-4e55-86de-ef52c615d28d",
   "metadata": {
    "tags": []
   },
   "outputs": [],
   "source": [
    "feeliop = pd.crosstab(index = wemwebs['FEELIOP'], columns = 'count')\n",
    "feeluse = pd.crosstab(index = wemwebs['FEELUSE'], columns = 'count')\n",
    "feelax = pd.crosstab(index = wemwebs['FEELAX'], columns = 'count')\n",
    "feelint = pd.crosstab(index = wemwebs['FEELINT'], columns = 'count')\n",
    "fenergy = pd.crosstab(index = wemwebs['FENERGY'], columns = 'count')\n",
    "feeprob = pd.crosstab(index = wemwebs['FEEPROB'], columns = 'count')\n",
    "feclear = pd.crosstab(index = wemwebs['FECLEAR'], columns = 'count')\n",
    "fegood = pd.crosstab(index = wemwebs['FEGOOD'], columns = 'count')\n",
    "feclose = pd.crosstab(index = wemwebs['FECLOSE'], columns = 'count')\n",
    "feconfi = pd.crosstab(index = wemwebs['FECONFI'], columns = 'count')\n",
    "femkeup = pd.crosstab(index = wemwebs['FEMKEUP'], columns = 'count')\n",
    "feloved = pd.crosstab(index = wemwebs['FELOVED'], columns = 'count')\n",
    "fenwthg = pd.crosstab(index = wemwebs['FENWTHG'], columns = 'count')\n",
    "fecheer = pd.crosstab(index = wemwebs['FECHEER'], columns = 'count')"
   ]
  },
  {
   "cell_type": "markdown",
   "id": "1e0838cb-b24b-45db-be7b-e621ae6d3d39",
   "metadata": {},
   "source": [
    "### Mean and Standard Deviation per Question"
   ]
  },
  {
   "cell_type": "code",
   "execution_count": 217,
   "id": "686e6c82-f6c6-41f0-9e5a-9c83f7c58b86",
   "metadata": {
    "tags": []
   },
   "outputs": [
    {
     "name": "stdout",
     "output_type": "stream",
     "text": [
      "stdev of FEELIOP: 0.9249608066290944\n",
      "stdev of FEELUSE: 0.9227834778145566\n",
      "stdev of FEELAX: 1.0325642995917506\n",
      "stdev of FEELINT: 0.9345928333356445\n",
      "stdev of FENERGY: 0.9891948623062681\n",
      "stdev of FEEPROB: 0.9828790636639497\n",
      "stdev of FECLEAR: 0.8884302726762243\n",
      "stdev of FEGOOD: 0.9674504223200721\n",
      "stdev of FECLOSE: 0.897656236041482\n",
      "stdev of FCONFI: 0.9014241205038713\n",
      "stdev of FMKEUP: 0.9100946386551788\n",
      "stdev of FELOVED: 0.9678206292801275\n",
      "stdev of FENWTHG: 0.9783548875685188\n",
      "stdev of FECHEER: 0.9277866650767221\n"
     ]
    }
   ],
   "source": [
    "feeliop_stdev = stat.stdev(wemwebs['FEELIOP'].dropna())\n",
    "feeluse_stdev = stat.stdev(wemwebs['FEELUSE'].dropna())\n",
    "feelax_stdev = stat.stdev(wemwebs['FEELAX'].dropna())\n",
    "feelint_stdev = stat.stdev(wemwebs['FEELINT'].dropna())\n",
    "fenergy_stdev = stat.stdev(wemwebs['FENERGY'].dropna())\n",
    "feeprob_stdev = stat.stdev(wemwebs['FEEPROB'].dropna())\n",
    "feclear_stdev = stat.stdev(wemwebs['FECLEAR'].dropna())\n",
    "fegood_stdev = stat.stdev(wemwebs['FEGOOD'].dropna())\n",
    "feclose_stdev = stat.stdev(wemwebs['FECLOSE'].dropna())\n",
    "feconfi_stdev = stat.stdev(wemwebs['FECONFI'].dropna())\n",
    "fmkeup_stdev = stat.stdev(wemwebs['FEMKEUP'].dropna())\n",
    "feloved_stdev = stat.stdev(wemwebs['FELOVED'].dropna())\n",
    "fenwthg_stdev = stat.stdev(wemwebs['FENWTHG'].dropna())\n",
    "fecheer_stdev = stat.stdev(wemwebs['FECHEER'].dropna())\n",
    "\n",
    "\n",
    "print(\"stdev of FEELIOP:\", feeliop_stdev)\n",
    "print(\"stdev of FEELUSE:\", feeluse_stdev)\n",
    "print(\"stdev of FEELAX:\", feelax_stdev)\n",
    "print(\"stdev of FEELINT:\", feelint_stdev)\n",
    "print(\"stdev of FENERGY:\", fenergy_stdev)\n",
    "print(\"stdev of FEEPROB:\", feeprob_stdev)\n",
    "print(\"stdev of FECLEAR:\", feclear_stdev)\n",
    "print(\"stdev of FEGOOD:\", fegood_stdev)\n",
    "print(\"stdev of FECLOSE:\", feclose_stdev)\n",
    "print(\"stdev of FCONFI:\", feconfi_stdev)\n",
    "print(\"stdev of FMKEUP:\", fmkeup_stdev)\n",
    "print(\"stdev of FELOVED:\", feloved_stdev)\n",
    "print(\"stdev of FENWTHG:\", fenwthg_stdev)\n",
    "print(\"stdev of FECHEER:\", fecheer_stdev)"
   ]
  },
  {
   "cell_type": "code",
   "execution_count": 218,
   "id": "29a52b51-b331-4262-9ea9-5e78a72e1e82",
   "metadata": {
    "tags": []
   },
   "outputs": [
    {
     "name": "stdout",
     "output_type": "stream",
     "text": [
      "Mean of FEELIOP: 3.3350785340314135\n",
      "Mean of FEELUSE: 3.356020942408377\n",
      "Mean of FEELAX: 2.9528795811518322\n",
      "Mean of FEELINT: 3.4031413612565444\n",
      "Mean of FENERGY: 3.020942408376963\n",
      "Mean of FEEPROB: 3.392670157068063\n",
      "Mean of FECLEAR: 3.162303664921466\n",
      "Mean of FEGOOD: 3.193717277486911\n",
      "Mean of FECLOSE: 3.6178010471204187\n",
      "Mean of FCONFI: 3.303664921465969\n",
      "Mean of FMKEUP: 3.5445026178010473\n",
      "Mean of FELOVED: 3.837696335078534\n",
      "Mean of FENWTHG: 3.769633507853403\n",
      "Mean of FECHEER: 3.392670157068063\n"
     ]
    }
   ],
   "source": [
    "feeliop_mean = stat.mean(wemwebs['FEELIOP'].dropna())\n",
    "feeluse_mean = stat.mean(wemwebs['FEELUSE'].dropna())\n",
    "feelax_mean = stat.mean(wemwebs['FEELAX'].dropna())\n",
    "feelint_mean = stat.mean(wemwebs['FEELINT'].dropna())\n",
    "fenergy_mean = stat.mean(wemwebs['FENERGY'].dropna())\n",
    "feeprob_mean = stat.mean(wemwebs['FEEPROB'].dropna())\n",
    "feclear_mean = stat.mean(wemwebs['FECLEAR'].dropna())\n",
    "fegood_mean = stat.mean(wemwebs['FEGOOD'].dropna())\n",
    "feclose_mean = stat.mean(wemwebs['FECLOSE'].dropna())\n",
    "feconfi_mean = stat.mean(wemwebs['FECONFI'].dropna())\n",
    "fmkeup_mean = stat.mean(wemwebs['FEMKEUP'].dropna())\n",
    "feloved_mean = stat.mean(wemwebs['FELOVED'].dropna())\n",
    "fenwthg_mean = stat.mean(wemwebs['FENWTHG'].dropna())\n",
    "fecheer_mean = stat.mean(wemwebs['FECHEER'].dropna())\n",
    "\n",
    "\n",
    "print(\"Mean of FEELIOP:\", feeliop_mean)\n",
    "print(\"Mean of FEELUSE:\", feeluse_mean)\n",
    "print(\"Mean of FEELAX:\", feelax_mean)\n",
    "print(\"Mean of FEELINT:\", feelint_mean)\n",
    "print(\"Mean of FENERGY:\", fenergy_mean)\n",
    "print(\"Mean of FEEPROB:\", feeprob_mean)\n",
    "print(\"Mean of FECLEAR:\", feclear_mean)\n",
    "print(\"Mean of FEGOOD:\", fegood_mean)\n",
    "print(\"Mean of FECLOSE:\", feclose_mean)\n",
    "print(\"Mean of FCONFI:\", feconfi_mean)\n",
    "print(\"Mean of FMKEUP:\", fmkeup_mean)\n",
    "print(\"Mean of FELOVED:\", feloved_mean)\n",
    "print(\"Mean of FENWTHG:\", fenwthg_mean)\n",
    "print(\"Mean of FECHEER:\", fecheer_mean)"
   ]
  },
  {
   "cell_type": "code",
   "execution_count": 219,
   "id": "df5ed132-c73e-4e3e-9e38-1688cc07e369",
   "metadata": {
    "tags": []
   },
   "outputs": [
    {
     "name": "stdout",
     "output_type": "stream",
     "text": [
      "['High', 'High', 'Medium', 'High', 'High', 'High', 'High', 'High', 'High', 'High', 'High', 'High', 'High', 'High']\n"
     ]
    }
   ],
   "source": [
    "wemwebs_interpretation = [feeliop_mean, feeluse_mean, feelax_mean, feelint_mean, fenergy_mean,\n",
    "                           feeprob_mean, feclear_mean, fegood_mean, feclose_mean, feconfi_mean,\n",
    "                           fmkeup_mean, feloved_mean, fenwthg_mean, fecheer_mean]\n",
    "\n",
    "wemwebs_score = []\n",
    "for i in wemwebs_interpretation:\n",
    "    if i < 1:\n",
    "        wemwebs_score.append(\"Ver Low\")\n",
    "    elif i <2: \n",
    "        wemwebs_score.append(\"Low\")\n",
    "    elif i <3: \n",
    "        wemwebs_score.append(\"Medium\")\n",
    "    elif i <4: \n",
    "        wemwebs_score.append(\"High\")\n",
    "    else:\n",
    "        wemwebs_score.append(\"Very High\")\n",
    "print(wemwebs_score)"
   ]
  },
  {
   "cell_type": "code",
   "execution_count": 220,
   "id": "6f38b471-f58c-4333-8d28-216b212bd426",
   "metadata": {
    "tags": []
   },
   "outputs": [
    {
     "name": "stdout",
     "output_type": "stream",
     "text": [
      "{61: 3, 47: 7, 52: 10, 41: 1, 39: 12, 51: 10, 48: 10, 63: 2, 50: 17, 33: 3, 49: 9, 31: 2, 59: 5, 42: 8, 27: 1, 54: 5, 45: 10, 46: 7, 53: 11, 43: 11, 32: 2, 65: 2, 40: 7, 38: 5, 22: 1, 35: 2, 37: 3, 36: 1, 64: 2, 56: 6, 44: 5, 29: 1, 60: 3, 68: 1, 58: 1, 70: 1, 55: 2, 34: 1, 30: 1}\n",
      "\n",
      "Overall Mean WEMWEBS Score  47.282722513089006\n",
      "\n",
      "Overall SD WEMWEBS Score  8.136575312259417\n"
     ]
    }
   ],
   "source": [
    "sum_wemwebs = wemwebs.sum(axis=1)\n",
    "sum_wemwebs_rate = collections.Counter(sum_wemwebs)\n",
    "print(dict(sum_wemwebs_rate))\n",
    "\n",
    "sum_wemwebs_mean = stat.mean(sum_wemwebs)\n",
    "print()\n",
    "print(\"Overall Mean WEMWEBS Score \", sum_wemwebs_mean)\n",
    "\n",
    "sum_wemwebs_stdev = stat.stdev(sum_wemwebs)\n",
    "print()\n",
    "print(\"Overall SD WEMWEBS Score \", sum_wemwebs_stdev)"
   ]
  },
  {
   "cell_type": "code",
   "execution_count": 221,
   "id": "0671ac9a-fc60-4a9e-87fc-3e6bf1abbb38",
   "metadata": {
    "tags": []
   },
   "outputs": [
    {
     "name": "stdout",
     "output_type": "stream",
     "text": [
      "{'High WEMWEBS': 11, 'Moderate WEMWEBS': 129, 'Low WEMWEBS': 51}\n"
     ]
    }
   ],
   "source": [
    "wemwebs_rate = []\n",
    "for i in sum_wemwebs:\n",
    "    if i < 43:\n",
    "        wemwebs_rate.append(\"Low WEMWEBS\")\n",
    "    elif i <=60:\n",
    "        wemwebs_rate.append(\"Moderate WEMWEBS\")\n",
    "    else:\n",
    "        wemwebs_rate.append(\"High WEMWEBS\")\n",
    "\n",
    "freq_wemwebs_rate = collections.Counter(wemwebs_rate)\n",
    "print(dict(freq_wemwebs_rate))"
   ]
  }
 ],
 "metadata": {
  "kernelspec": {
   "display_name": "Python 3 (ipykernel)",
   "language": "python",
   "name": "python3"
  },
  "language_info": {
   "codemirror_mode": {
    "name": "ipython",
    "version": 3
   },
   "file_extension": ".py",
   "mimetype": "text/x-python",
   "name": "python",
   "nbconvert_exporter": "python",
   "pygments_lexer": "ipython3",
   "version": "3.11.4"
  }
 },
 "nbformat": 4,
 "nbformat_minor": 5
}
